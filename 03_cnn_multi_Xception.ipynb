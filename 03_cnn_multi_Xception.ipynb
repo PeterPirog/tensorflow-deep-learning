{
  "nbformat": 4,
  "nbformat_minor": 0,
  "metadata": {
    "colab": {
      "name": "03_cnn_multi_Xception.ipynb",
      "provenance": [],
      "collapsed_sections": [],
      "authorship_tag": "ABX9TyP3hOY14wWznaP06owW477S",
      "include_colab_link": true
    },
    "kernelspec": {
      "name": "python3",
      "display_name": "Python 3"
    },
    "language_info": {
      "name": "python"
    },
    "accelerator": "GPU"
  },
  "cells": [
    {
      "cell_type": "markdown",
      "metadata": {
        "id": "view-in-github",
        "colab_type": "text"
      },
      "source": [
        "<a href=\"https://colab.research.google.com/github/PeterPirog/tensorflow-deep-learning/blob/workspace/03_cnn_multi_Xception.ipynb\" target=\"_parent\"><img src=\"https://colab.research.google.com/assets/colab-badge.svg\" alt=\"Open In Colab\"/></a>"
      ]
    },
    {
      "cell_type": "code",
      "source": [
        "# https://poloclub.github.io/cnn-explainer/"
      ],
      "metadata": {
        "id": "nNFHBMh5LxVo"
      },
      "execution_count": 1,
      "outputs": []
    },
    {
      "cell_type": "code",
      "execution_count": 2,
      "metadata": {
        "colab": {
          "base_uri": "https://localhost:8080/"
        },
        "id": "HAN7e-wcQKKH",
        "outputId": "18c3346a-7c60-470c-a348-13bd300c46b2"
      },
      "outputs": [
        {
          "output_type": "stream",
          "name": "stdout",
          "text": [
            "--2022-01-01 13:48:32--  https://storage.googleapis.com/ztm_tf_course/food_vision/10_food_classes_all_data.zip\n",
            "Resolving storage.googleapis.com (storage.googleapis.com)... 142.251.111.128, 142.251.16.128, 172.253.122.128, ...\n",
            "Connecting to storage.googleapis.com (storage.googleapis.com)|142.251.111.128|:443... connected.\n",
            "HTTP request sent, awaiting response... 200 OK\n",
            "Length: 519183241 (495M) [application/zip]\n",
            "Saving to: ‘10_food_classes_all_data.zip’\n",
            "\n",
            "10_food_classes_all 100%[===================>] 495.13M   137MB/s    in 3.6s    \n",
            "\n",
            "2022-01-01 13:48:35 (137 MB/s) - ‘10_food_classes_all_data.zip’ saved [519183241/519183241]\n",
            "\n"
          ]
        }
      ],
      "source": [
        "import zipfile\n",
        "!wget https://storage.googleapis.com/ztm_tf_course/food_vision/10_food_classes_all_data.zip\n",
        "\n",
        "# Unzip\n",
        "zip_ref = zipfile.ZipFile('10_food_classes_all_data.zip')\n",
        "zip_ref.extractall()\n",
        "zip_ref.close()"
      ]
    },
    {
      "cell_type": "code",
      "source": [
        "import os\n",
        "\n",
        "for dirpath, dirnames, filenames in os.walk(\"10_food_classes_all_data\"):\n",
        "  print(f\"There are {len(dirnames)} directories and {len(filenames)} images in '{dirpath}'\")"
      ],
      "metadata": {
        "colab": {
          "base_uri": "https://localhost:8080/"
        },
        "id": "9o3Dw5sKSG_b",
        "outputId": "855856c1-1498-44f0-c3b0-d5779c967b32"
      },
      "execution_count": 3,
      "outputs": [
        {
          "output_type": "stream",
          "name": "stdout",
          "text": [
            "There are 2 directories and 0 images in '10_food_classes_all_data'\n",
            "There are 10 directories and 0 images in '10_food_classes_all_data/train'\n",
            "There are 0 directories and 750 images in '10_food_classes_all_data/train/grilled_salmon'\n",
            "There are 0 directories and 750 images in '10_food_classes_all_data/train/sushi'\n",
            "There are 0 directories and 750 images in '10_food_classes_all_data/train/pizza'\n",
            "There are 0 directories and 750 images in '10_food_classes_all_data/train/ice_cream'\n",
            "There are 0 directories and 750 images in '10_food_classes_all_data/train/steak'\n",
            "There are 0 directories and 750 images in '10_food_classes_all_data/train/ramen'\n",
            "There are 0 directories and 750 images in '10_food_classes_all_data/train/hamburger'\n",
            "There are 0 directories and 750 images in '10_food_classes_all_data/train/chicken_curry'\n",
            "There are 0 directories and 750 images in '10_food_classes_all_data/train/chicken_wings'\n",
            "There are 0 directories and 750 images in '10_food_classes_all_data/train/fried_rice'\n",
            "There are 10 directories and 0 images in '10_food_classes_all_data/test'\n",
            "There are 0 directories and 250 images in '10_food_classes_all_data/test/grilled_salmon'\n",
            "There are 0 directories and 250 images in '10_food_classes_all_data/test/sushi'\n",
            "There are 0 directories and 250 images in '10_food_classes_all_data/test/pizza'\n",
            "There are 0 directories and 250 images in '10_food_classes_all_data/test/ice_cream'\n",
            "There are 0 directories and 250 images in '10_food_classes_all_data/test/steak'\n",
            "There are 0 directories and 250 images in '10_food_classes_all_data/test/ramen'\n",
            "There are 0 directories and 250 images in '10_food_classes_all_data/test/hamburger'\n",
            "There are 0 directories and 250 images in '10_food_classes_all_data/test/chicken_curry'\n",
            "There are 0 directories and 250 images in '10_food_classes_all_data/test/chicken_wings'\n",
            "There are 0 directories and 250 images in '10_food_classes_all_data/test/fried_rice'\n"
          ]
        }
      ]
    },
    {
      "cell_type": "code",
      "source": [
        "train_dir=\"10_food_classes_all_data/train/\"\n",
        "test_dir=\"10_food_classes_all_data/test/\"\n",
        "\n",
        "#ges_train=len(os.listdir(\"pizza_steak/train/steak\"))\n",
        "#num_steak_images_train"
      ],
      "metadata": {
        "id": "ELSlOWo3TbsD"
      },
      "execution_count": 4,
      "outputs": []
    },
    {
      "cell_type": "code",
      "source": [
        "import pathlib\n",
        "import numpy as np\n",
        "data_dir=pathlib.Path(train_dir)\n",
        "class_names=np.array(sorted(item.name for item in data_dir.glob('*')))\n",
        "print(class_names)\n"
      ],
      "metadata": {
        "colab": {
          "base_uri": "https://localhost:8080/"
        },
        "id": "KHxZjEkTWmXS",
        "outputId": "f17de7e5-72e5-40fd-b75a-e6dc2ab8a914"
      },
      "execution_count": 5,
      "outputs": [
        {
          "output_type": "stream",
          "name": "stdout",
          "text": [
            "['chicken_curry' 'chicken_wings' 'fried_rice' 'grilled_salmon' 'hamburger'\n",
            " 'ice_cream' 'pizza' 'ramen' 'steak' 'sushi']\n"
          ]
        }
      ]
    },
    {
      "cell_type": "code",
      "source": [
        "#Visualize data\n",
        "import random\n",
        "\n",
        "img =view_random_image(target_dir=train_dir,target_class=random.choice(class_names))"
      ],
      "metadata": {
        "colab": {
          "base_uri": "https://localhost:8080/",
          "height": 210
        },
        "id": "Et6kPz_QWhA2",
        "outputId": "2fc414fa-cea2-43f7-8aad-6895ed5868e4"
      },
      "execution_count": 6,
      "outputs": [
        {
          "output_type": "error",
          "ename": "NameError",
          "evalue": "ignored",
          "traceback": [
            "\u001b[0;31m---------------------------------------------------------------------------\u001b[0m",
            "\u001b[0;31mNameError\u001b[0m                                 Traceback (most recent call last)",
            "\u001b[0;32m<ipython-input-6-5af4a1e6386e>\u001b[0m in \u001b[0;36m<module>\u001b[0;34m()\u001b[0m\n\u001b[1;32m      2\u001b[0m \u001b[0;32mimport\u001b[0m \u001b[0mrandom\u001b[0m\u001b[0;34m\u001b[0m\u001b[0;34m\u001b[0m\u001b[0m\n\u001b[1;32m      3\u001b[0m \u001b[0;34m\u001b[0m\u001b[0m\n\u001b[0;32m----> 4\u001b[0;31m \u001b[0mimg\u001b[0m \u001b[0;34m=\u001b[0m\u001b[0mview_random_image\u001b[0m\u001b[0;34m(\u001b[0m\u001b[0mtarget_dir\u001b[0m\u001b[0;34m=\u001b[0m\u001b[0mtrain_dir\u001b[0m\u001b[0;34m,\u001b[0m\u001b[0mtarget_class\u001b[0m\u001b[0;34m=\u001b[0m\u001b[0mrandom\u001b[0m\u001b[0;34m.\u001b[0m\u001b[0mchoice\u001b[0m\u001b[0;34m(\u001b[0m\u001b[0mclass_names\u001b[0m\u001b[0;34m)\u001b[0m\u001b[0;34m)\u001b[0m\u001b[0;34m\u001b[0m\u001b[0;34m\u001b[0m\u001b[0m\n\u001b[0m",
            "\u001b[0;31mNameError\u001b[0m: name 'view_random_image' is not defined"
          ]
        }
      ]
    },
    {
      "cell_type": "code",
      "source": [
        "#Visualization\n",
        "# Get the class names programatically\n",
        "import pathlib\n",
        "import numpy as np\n",
        "data_dir=pathlib.Path(\"pizza_steak/train\")\n",
        "#Create list of class names from subdirectories\n",
        "class_names=np.array(sorted([item.name for item in data_dir.glob(\"*\")]))\n",
        "print(class_names)"
      ],
      "metadata": {
        "id": "J_UUNVvxT2-r"
      },
      "execution_count": null,
      "outputs": []
    },
    {
      "cell_type": "code",
      "source": [
        "# visualize images\n",
        "import matplotlib.pyplot as plt\n",
        "import matplotlib.image as mpimg\n",
        "import random\n",
        "\n",
        "def view_random_image(target_dir,target_class):\n",
        "  target_folder=target_dir+target_class\n",
        "\n",
        "  #Get random image\n",
        "  random_image=random.sample(os.listdir(target_folder),1)\n",
        "\n",
        "  img=mpimg.imread(target_folder+\"/\"+random_image[0])\n",
        "  plt.imshow(img)\n",
        "  plt.title(target_class)\n",
        "  plt.axis(\"off\");\n",
        "\n",
        "  print(f\"Image shape: {img.shape}\")\n",
        "  return img\n"
      ],
      "metadata": {
        "id": "dP0ey0XKU-ui"
      },
      "execution_count": null,
      "outputs": []
    },
    {
      "cell_type": "code",
      "source": [
        "img=view_random_image(target_dir=\"pizza_steak/train/\",target_class=\"steak\")"
      ],
      "metadata": {
        "id": "WfiYsGAgWxoT"
      },
      "execution_count": null,
      "outputs": []
    },
    {
      "cell_type": "code",
      "source": [
        "img=view_random_image(target_dir=\"pizza_steak/train/\",target_class=\"pizza\")"
      ],
      "metadata": {
        "id": "Yx1SqDUYuh0J"
      },
      "execution_count": null,
      "outputs": []
    },
    {
      "cell_type": "code",
      "source": [
        "import tensorflow as tf\n",
        "tf.constant(img,dtype=tf.float32)"
      ],
      "metadata": {
        "id": "w6Z2nBiDKfPA"
      },
      "execution_count": null,
      "outputs": []
    },
    {
      "cell_type": "code",
      "source": [
        "# Build CNN network\n",
        "from tensorflow.keras.preprocessing.image import ImageDataGenerator\n",
        "from tensorflow.keras.applications import Xception\n",
        "\n",
        "conv_base=Xception(weights='imagenet',\n",
        "                   include_top=False,\n",
        "                   input_shape=(299,299,3))\n",
        "conv_base.trainable=False #freeze weights to not train\n",
        "\n",
        "# set seed\n",
        "tf.random.set_seed(42)\n",
        "\n",
        "#Image proprocessing\n",
        "train_datagen =ImageDataGenerator(rescale=1./255,\n",
        "                                  rotation_range=40,\n",
        "                                  width_shift_range=0.2,\n",
        "                                  height_shift_range=0.2,\n",
        "                                  shear_range=0.2,\n",
        "                                  zoom_range=0.2,\n",
        "                                  horizontal_flip=True,\n",
        "                                  fill_mode='nearest')\n",
        "\n",
        "valid_datagen =ImageDataGenerator(rescale=1./255,\n",
        "                                  rotation_range=40,\n",
        "                                  width_shift_range=0.2,\n",
        "                                  height_shift_range=0.2,\n",
        "                                  shear_range=0.2,\n",
        "                                  zoom_range=0.2,\n",
        "                                  horizontal_flip=True,\n",
        "                                  fill_mode='nearest')\n",
        "\n",
        "# Setup paths for data directories\n",
        "train_dir=\"pizza_steak/train\"\n",
        "test_dir=\"pizza_steak/test\"\n",
        "\n",
        "# Import data from directories\n",
        "train_data = train_datagen.flow_from_directory(directory=train_dir,\n",
        "                                               batch_size=32,\n",
        "                                               target_size=(299,299),\n",
        "                                               class_mode=\"binary\",\n",
        "                                               seed=42,\n",
        "                                               shuffle=False)\n",
        "\n",
        "valid_data = valid_datagen.flow_from_directory(directory=test_dir,\n",
        "                                               batch_size=32,\n",
        "                                               target_size=(299,299),\n",
        "                                               class_mode=\"binary\",\n",
        "                                               seed=42,\n",
        "                                               shuffle=False)"
      ],
      "metadata": {
        "id": "T5DYgTZ99Ejq"
      },
      "execution_count": null,
      "outputs": []
    },
    {
      "cell_type": "code",
      "source": [
        "model=tf.keras.models.Sequential()\n",
        "model.add(conv_base)\n",
        "model.add(tf.keras.layers.Flatten())\n",
        "model.add(tf.keras.layers.Dense(units=1,activation=\"sigmoid\"))\n",
        "model.summary()\n"
      ],
      "metadata": {
        "id": "jecx5baeswIf"
      },
      "execution_count": null,
      "outputs": []
    },
    {
      "cell_type": "code",
      "source": [
        "model.compile(loss=\"binary_crossentropy\",\n",
        "              optimizer=tf.keras.optimizers.Adam(learning_rate=0.001), # 7.0795e-04\n",
        "              metrics=[\"accuracy\"])"
      ],
      "metadata": {
        "id": "GmgtU-WcqeCA"
      },
      "execution_count": null,
      "outputs": []
    },
    {
      "cell_type": "code",
      "source": [
        "callbacks=[tf.keras.callbacks.ReduceLROnPlateau(monitor='val_accuracy', #val_loss\n",
        "                                                factor=0.5,\n",
        "                                                patience=3,\n",
        "                                                min_lr=1e-5),\n",
        "           tf.keras.callbacks.EarlyStopping(monitor='val_accuracy',\n",
        "                                            patience=5),\n",
        "           tf.keras.callbacks.ModelCheckpoint(filepath='my_model.h5',\n",
        "                                              monitor='val_accuracy',\n",
        "                                              save_best_only=True)]"
      ],
      "metadata": {
        "id": "5oGSVhkUt34A"
      },
      "execution_count": null,
      "outputs": []
    },
    {
      "cell_type": "code",
      "source": [
        "history=model.fit(train_data,\n",
        "          epochs=100,\n",
        "          steps_per_epoch=len(train_data), # len(train_data) - number of batches\n",
        "          validation_data=valid_data,\n",
        "          validation_steps=len(valid_data),\n",
        "          callbacks=callbacks) "
      ],
      "metadata": {
        "id": "hcaoWK9Iqzst"
      },
      "execution_count": null,
      "outputs": []
    },
    {
      "cell_type": "code",
      "source": [
        "print(history.history.keys())\n",
        "#pd.DataFrame(history.history).plot()\n",
        "#plt.ylabel(\"loss\")\n",
        "#plt.xlabel(\"epochs\")\n",
        "acc=history.history['accuracy']\n",
        "val_acc=history.history['val_accuracy']\n",
        "loss=history.history['loss']\n",
        "val_loss=history.history['val_loss']\n",
        "\n",
        "epochs=range(1,len(acc)+1)"
      ],
      "metadata": {
        "id": "kS745sB5tRDP"
      },
      "execution_count": null,
      "outputs": []
    },
    {
      "cell_type": "code",
      "source": [
        "plt.plot(epochs,loss,'bo',label='Train loss')\n",
        "plt.plot(epochs,val_loss,'g',label='Validation loss')\n",
        "plt.title('Losses')\n",
        "plt.xlabel('Epochs')\n",
        "plt.ylabel('Loss')\n",
        "plt.legend();"
      ],
      "metadata": {
        "id": "X90QSUD-ta7d"
      },
      "execution_count": null,
      "outputs": []
    },
    {
      "cell_type": "code",
      "source": [
        "plt.plot(epochs,acc,'bo',label='Train metric')\n",
        "plt.plot(epochs,val_acc,'g',label='Validation metric')\n",
        "plt.title('Metrics')\n",
        "plt.xlabel('Epochs')\n",
        "plt.ylabel('Metrics')\n",
        "plt.legend();"
      ],
      "metadata": {
        "id": "bsJUFbXktj7-"
      },
      "execution_count": null,
      "outputs": []
    },
    {
      "cell_type": "code",
      "source": [
        "import matplotlib.image as mpimg\n",
        "!wget https://st.depositphotos.com/1020804/1448/i/950/depositphotos_14480443-stock-photo-beef-steak.jpg\n",
        "steak=mpimg.imread(\"depositphotos_14480443-stock-photo-beef-steak.jpg\")\n",
        "plt.imshow(steak)\n",
        "plt.axis(False);"
      ],
      "metadata": {
        "id": "6Qudkka5PAh7"
      },
      "execution_count": null,
      "outputs": []
    },
    {
      "cell_type": "code",
      "source": [
        "img=tf.io.read_file(filename=\"depositphotos_14480443-stock-photo-beef-steak.jpg\")\n",
        "img=tf.image.decode_image(img)\n",
        "img=tf.image.resize(img,size=[299,299])\n",
        "img=img/255.\n",
        "img.shape\n",
        "model.predict(tf.expand_dims(img,axis=0))"
      ],
      "metadata": {
        "id": "aWMmGyd6QIpA"
      },
      "execution_count": null,
      "outputs": []
    }
  ]
}