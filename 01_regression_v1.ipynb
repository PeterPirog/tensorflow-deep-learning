{
  "nbformat": 4,
  "nbformat_minor": 0,
  "metadata": {
    "colab": {
      "name": "01_regression_v1.ipynb",
      "provenance": [],
      "collapsed_sections": [],
      "authorship_tag": "ABX9TyNaVf6h6yjToUCz1AjtF9rF",
      "include_colab_link": true
    },
    "kernelspec": {
      "name": "python3",
      "display_name": "Python 3"
    },
    "language_info": {
      "name": "python"
    }
  },
  "cells": [
    {
      "cell_type": "markdown",
      "metadata": {
        "id": "view-in-github",
        "colab_type": "text"
      },
      "source": [
        "<a href=\"https://colab.research.google.com/github/PeterPirog/tensorflow-deep-learning/blob/workspace/01_regression_v1.ipynb\" target=\"_parent\"><img src=\"https://colab.research.google.com/assets/colab-badge.svg\" alt=\"Open In Colab\"/></a>"
      ]
    },
    {
      "cell_type": "code",
      "execution_count": 120,
      "metadata": {
        "id": "hfPkTSSGJu8D"
      },
      "outputs": [],
      "source": [
        "import tensorflow as tf\n",
        "tf.random.set_seed(42)\n",
        "import numpy as np\n",
        "\n",
        "from sklearn.model_selection import train_test_split\n",
        "import matplotlib.pyplot as plt"
      ]
    },
    {
      "cell_type": "code",
      "source": [
        "\n",
        "X=np.arange(-100.0,100.0,1)\n",
        "y=X+10\n",
        "print(X)"
      ],
      "metadata": {
        "colab": {
          "base_uri": "https://localhost:8080/"
        },
        "id": "DjDzDipwK6YQ",
        "outputId": "4ed5e8a7-a8d1-4477-a05b-63e0f71b32c2"
      },
      "execution_count": 121,
      "outputs": [
        {
          "output_type": "stream",
          "name": "stdout",
          "text": [
            "[-100.  -99.  -98.  -97.  -96.  -95.  -94.  -93.  -92.  -91.  -90.  -89.\n",
            "  -88.  -87.  -86.  -85.  -84.  -83.  -82.  -81.  -80.  -79.  -78.  -77.\n",
            "  -76.  -75.  -74.  -73.  -72.  -71.  -70.  -69.  -68.  -67.  -66.  -65.\n",
            "  -64.  -63.  -62.  -61.  -60.  -59.  -58.  -57.  -56.  -55.  -54.  -53.\n",
            "  -52.  -51.  -50.  -49.  -48.  -47.  -46.  -45.  -44.  -43.  -42.  -41.\n",
            "  -40.  -39.  -38.  -37.  -36.  -35.  -34.  -33.  -32.  -31.  -30.  -29.\n",
            "  -28.  -27.  -26.  -25.  -24.  -23.  -22.  -21.  -20.  -19.  -18.  -17.\n",
            "  -16.  -15.  -14.  -13.  -12.  -11.  -10.   -9.   -8.   -7.   -6.   -5.\n",
            "   -4.   -3.   -2.   -1.    0.    1.    2.    3.    4.    5.    6.    7.\n",
            "    8.    9.   10.   11.   12.   13.   14.   15.   16.   17.   18.   19.\n",
            "   20.   21.   22.   23.   24.   25.   26.   27.   28.   29.   30.   31.\n",
            "   32.   33.   34.   35.   36.   37.   38.   39.   40.   41.   42.   43.\n",
            "   44.   45.   46.   47.   48.   49.   50.   51.   52.   53.   54.   55.\n",
            "   56.   57.   58.   59.   60.   61.   62.   63.   64.   65.   66.   67.\n",
            "   68.   69.   70.   71.   72.   73.   74.   75.   76.   77.   78.   79.\n",
            "   80.   81.   82.   83.   84.   85.   86.   87.   88.   89.   90.   91.\n",
            "   92.   93.   94.   95.   96.   97.   98.   99.]\n"
          ]
        }
      ]
    },
    {
      "cell_type": "code",
      "source": [
        "plt.scatter(X,y)\n",
        "plt.show()"
      ],
      "metadata": {
        "colab": {
          "base_uri": "https://localhost:8080/",
          "height": 265
        },
        "id": "nE3vvUUfLLiQ",
        "outputId": "99ddea98-6b29-43c8-f6ed-c3270096dbaa"
      },
      "execution_count": 122,
      "outputs": [
        {
          "output_type": "display_data",
          "data": {
            "image/png": "[encoded data removed]",
            "text/plain": [
              "<Figure size 432x288 with 1 Axes>"
            ]
          },
          "metadata": {
            "needs_background": "light"
          }
        }
      ]
    },
    {
      "cell_type": "markdown",
      "source": [
        "### Prepare 3 sets\n",
        "\n",
        "* train -70-80 %\n",
        "* val 10-15 %\n",
        "* test 10-15 %\n"
      ],
      "metadata": {
        "id": "PrRVd4eoLh4Y"
      }
    },
    {
      "cell_type": "code",
      "source": [
        "### How many samples we have\n",
        "print(len(X))"
      ],
      "metadata": {
        "colab": {
          "base_uri": "https://localhost:8080/"
        },
        "id": "TFyfkR6FX037",
        "outputId": "acb52821-7a5f-41fa-f1e7-0b187dc6495e"
      },
      "execution_count": 123,
      "outputs": [
        {
          "output_type": "stream",
          "name": "stdout",
          "text": [
            "200\n"
          ]
        }
      ]
    },
    {
      "cell_type": "code",
      "source": [
        "def split_dataset(X,y,val_size=0.2,test_size=0.1,shuffle=True,random_state=42):\n",
        "  N=len(X)\n",
        "  train_size=1.0-test_size-val_size\n",
        "  N_train=N*train_size\n",
        "  N_val=N*val_size\n",
        "  N_test=N*test_size\n",
        "\n",
        "  X_train, X_test, y_train, y_test = train_test_split(X, y, test_size=test_size, random_state=random_state,shuffle=shuffle)\n",
        "  \n",
        "  corrected_val_size=N_val/(N_val+N_train) # corrected value is scaled cause of the first split\n",
        "\n",
        "  print(f'inside train={len(X_train)}, inside test={len(X_test)}, corrected_val_size={corrected_val_size}')\n",
        "  X_train, X_val, y_train, y_val = train_test_split(X_train, y_train, test_size=corrected_val_size, random_state=random_state,shuffle=shuffle)\n",
        "\n",
        "  return X_train,X_val, X_test, y_train, y_val, y_test\n"
      ],
      "metadata": {
        "id": "2YgmAmmvUQCp"
      },
      "execution_count": 124,
      "outputs": []
    },
    {
      "cell_type": "code",
      "source": [
        "X_train,X_val, X_test, y_train, y_val, y_test=split_dataset(X,y,val_size=0.2,test_size=0.1,shuffle=True,random_state=42)\n",
        "print(len(X_train))\n",
        "print(len(X_val))\n",
        "print(len(X_test))\n"
      ],
      "metadata": {
        "colab": {
          "base_uri": "https://localhost:8080/"
        },
        "id": "cgb1jGjkOs7h",
        "outputId": "12464f24-698c-4d41-b6da-a39ea185fd6f"
      },
      "execution_count": 125,
      "outputs": [
        {
          "output_type": "stream",
          "name": "stdout",
          "text": [
            "inside train=180, inside test=20, corrected_val_size=0.2222222222222222\n",
            "140\n",
            "40\n",
            "20\n"
          ]
        }
      ]
    }
  ]
}