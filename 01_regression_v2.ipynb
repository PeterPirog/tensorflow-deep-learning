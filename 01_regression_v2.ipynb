{
  "nbformat": 4,
  "nbformat_minor": 0,
  "metadata": {
    "colab": {
      "name": "01_regression_v1.ipynb",
      "provenance": [],
      "collapsed_sections": [],
      "authorship_tag": "ABX9TyP72D7dtBOX5dU/OrNb2cJW",
      "include_colab_link": true
    },
    "kernelspec": {
      "name": "python3",
      "display_name": "Python 3"
    },
    "language_info": {
      "name": "python"
    },
    "accelerator": "GPU"
  },
  "cells": [
    {
      "cell_type": "markdown",
      "metadata": {
        "id": "view-in-github",
        "colab_type": "text"
      },
      "source": [
        "<a href=\"https://colab.research.google.com/github/PeterPirog/tensorflow-deep-learning/blob/workspace/01_regression_v2.ipynb\" target=\"_parent\"><img src=\"https://colab.research.google.com/assets/colab-badge.svg\" alt=\"Open In Colab\"/></a>"
      ]
    },
    {
      "cell_type": "code",
      "execution_count": 1,
      "metadata": {
        "id": "hfPkTSSGJu8D"
      },
      "outputs": [],
      "source": [
        "import tensorflow as tf\n",
        "tf.random.set_seed(42)\n",
        "\n",
        "import pandas as pd\n",
        "import numpy as np\n",
        "\n",
        "from sklearn.model_selection import train_test_split\n",
        "import matplotlib.pyplot as plt"
      ]
    },
    {
      "cell_type": "code",
      "source": [
        "df=pd.pandas.read_csv('https://raw.githubusercontent.com/stedy/Machine-Learning-with-R-datasets/master/insurance.csv')\n",
        "df_oh=pd.get_dummies(df,\n",
        "                  dummy_na=False,\n",
        "                  drop_first=True)\n",
        "df_oh.head()"
      ],
      "metadata": {
        "colab": {
          "base_uri": "https://localhost:8080/",
          "height": 206
        },
        "id": "DjDzDipwK6YQ",
        "outputId": "0de97eb2-8abe-44ad-9ba4-ede6a95ed133"
      },
      "execution_count": 2,
      "outputs": [
        {
          "output_type": "execute_result",
          "data": {
            "text/html": [
              "\n",
              "  <div id=\"df-bd5802f1-8c21-43d5-aa72-a16f5ed7d64e\">\n",
              "    <div class=\"colab-df-container\">\n",
              "      <div>\n",
              "<style scoped>\n",
              "    .dataframe tbody tr th:only-of-type {\n",
              "        vertical-align: middle;\n",
              "    }\n",
              "\n",
              "    .dataframe tbody tr th {\n",
              "        vertical-align: top;\n",
              "    }\n",
              "\n",
              "    .dataframe thead th {\n",
              "        text-align: right;\n",
              "    }\n",
              "</style>\n",
              "<table border=\"1\" class=\"dataframe\">\n",
              "  <thead>\n",
              "    <tr style=\"text-align: right;\">\n",
              "      <th></th>\n",
              "      <th>age</th>\n",
              "      <th>bmi</th>\n",
              "      <th>children</th>\n",
              "      <th>charges</th>\n",
              "      <th>sex_male</th>\n",
              "      <th>smoker_yes</th>\n",
              "      <th>region_northwest</th>\n",
              "      <th>region_southeast</th>\n",
              "      <th>region_southwest</th>\n",
              "    </tr>\n",
              "  </thead>\n",
              "  <tbody>\n",
              "    <tr>\n",
              "      <th>0</th>\n",
              "      <td>19</td>\n",
              "      <td>27.900</td>\n",
              "      <td>0</td>\n",
              "      <td>16884.92400</td>\n",
              "      <td>0</td>\n",
              "      <td>1</td>\n",
              "      <td>0</td>\n",
              "      <td>0</td>\n",
              "      <td>1</td>\n",
              "    </tr>\n",
              "    <tr>\n",
              "      <th>1</th>\n",
              "      <td>18</td>\n",
              "      <td>33.770</td>\n",
              "      <td>1</td>\n",
              "      <td>1725.55230</td>\n",
              "      <td>1</td>\n",
              "      <td>0</td>\n",
              "      <td>0</td>\n",
              "      <td>1</td>\n",
              "      <td>0</td>\n",
              "    </tr>\n",
              "    <tr>\n",
              "      <th>2</th>\n",
              "      <td>28</td>\n",
              "      <td>33.000</td>\n",
              "      <td>3</td>\n",
              "      <td>4449.46200</td>\n",
              "      <td>1</td>\n",
              "      <td>0</td>\n",
              "      <td>0</td>\n",
              "      <td>1</td>\n",
              "      <td>0</td>\n",
              "    </tr>\n",
              "    <tr>\n",
              "      <th>3</th>\n",
              "      <td>33</td>\n",
              "      <td>22.705</td>\n",
              "      <td>0</td>\n",
              "      <td>21984.47061</td>\n",
              "      <td>1</td>\n",
              "      <td>0</td>\n",
              "      <td>1</td>\n",
              "      <td>0</td>\n",
              "      <td>0</td>\n",
              "    </tr>\n",
              "    <tr>\n",
              "      <th>4</th>\n",
              "      <td>32</td>\n",
              "      <td>28.880</td>\n",
              "      <td>0</td>\n",
              "      <td>3866.85520</td>\n",
              "      <td>1</td>\n",
              "      <td>0</td>\n",
              "      <td>1</td>\n",
              "      <td>0</td>\n",
              "      <td>0</td>\n",
              "    </tr>\n",
              "  </tbody>\n",
              "</table>\n",
              "</div>\n",
              "      <button class=\"colab-df-convert\" onclick=\"convertToInteractive('df-bd5802f1-8c21-43d5-aa72-a16f5ed7d64e')\"\n",
              "              title=\"Convert this dataframe to an interactive table.\"\n",
              "              style=\"display:none;\">\n",
              "        \n",
              "  <svg xmlns=\"http://www.w3.org/2000/svg\" height=\"24px\"viewBox=\"0 0 24 24\"\n",
              "       width=\"24px\">\n",
              "    <path d=\"M0 0h24v24H0V0z\" fill=\"none\"/>\n",
              "    <path d=\"M18.56 5.44l.94 2.06.94-2.06 2.06-.94-2.06-.94-.94-2.06-.94 2.06-2.06.94zm-11 1L8.5 8.5l.94-2.06 2.06-.94-2.06-.94L8.5 2.5l-.94 2.06-2.06.94zm10 10l.94 2.06.94-2.06 2.06-.94-2.06-.94-.94-2.06-.94 2.06-2.06.94z\"/><path d=\"M17.41 7.96l-1.37-1.37c-.4-.4-.92-.59-1.43-.59-.52 0-1.04.2-1.43.59L10.3 9.45l-7.72 7.72c-.78.78-.78 2.05 0 2.83L4 21.41c.39.39.9.59 1.41.59.51 0 1.02-.2 1.41-.59l7.78-7.78 2.81-2.81c.8-.78.8-2.07 0-2.86zM5.41 20L4 18.59l7.72-7.72 1.47 1.35L5.41 20z\"/>\n",
              "  </svg>\n",
              "      </button>\n",
              "      \n",
              "  <style>\n",
              "    .colab-df-container {\n",
              "      display:flex;\n",
              "      flex-wrap:wrap;\n",
              "      gap: 12px;\n",
              "    }\n",
              "\n",
              "    .colab-df-convert {\n",
              "      background-color: #E8F0FE;\n",
              "      border: none;\n",
              "      border-radius: 50%;\n",
              "      cursor: pointer;\n",
              "      display: none;\n",
              "      fill: #1967D2;\n",
              "      height: 32px;\n",
              "      padding: 0 0 0 0;\n",
              "      width: 32px;\n",
              "    }\n",
              "\n",
              "    .colab-df-convert:hover {\n",
              "      background-color: #E2EBFA;\n",
              "      box-shadow: 0px 1px 2px rgba(60, 64, 67, 0.3), 0px 1px 3px 1px rgba(60, 64, 67, 0.15);\n",
              "      fill: #174EA6;\n",
              "    }\n",
              "\n",
              "    [theme=dark] .colab-df-convert {\n",
              "      background-color: #3B4455;\n",
              "      fill: #D2E3FC;\n",
              "    }\n",
              "\n",
              "    [theme=dark] .colab-df-convert:hover {\n",
              "      background-color: #434B5C;\n",
              "      box-shadow: 0px 1px 3px 1px rgba(0, 0, 0, 0.15);\n",
              "      filter: drop-shadow(0px 1px 2px rgba(0, 0, 0, 0.3));\n",
              "      fill: #FFFFFF;\n",
              "    }\n",
              "  </style>\n",
              "\n",
              "      <script>\n",
              "        const buttonEl =\n",
              "          document.querySelector('#df-bd5802f1-8c21-43d5-aa72-a16f5ed7d64e button.colab-df-convert');\n",
              "        buttonEl.style.display =\n",
              "          google.colab.kernel.accessAllowed ? 'block' : 'none';\n",
              "\n",
              "        async function convertToInteractive(key) {\n",
              "          const element = document.querySelector('#df-bd5802f1-8c21-43d5-aa72-a16f5ed7d64e');\n",
              "          const dataTable =\n",
              "            await google.colab.kernel.invokeFunction('convertToInteractive',\n",
              "                                                     [key], {});\n",
              "          if (!dataTable) return;\n",
              "\n",
              "          const docLinkHtml = 'Like what you see? Visit the ' +\n",
              "            '<a target=\"_blank\" href=https://colab.research.google.com/notebooks/data_table.ipynb>data table notebook</a>'\n",
              "            + ' to learn more about interactive tables.';\n",
              "          element.innerHTML = '';\n",
              "          dataTable['output_type'] = 'display_data';\n",
              "          await google.colab.output.renderOutput(dataTable, element);\n",
              "          const docLink = document.createElement('div');\n",
              "          docLink.innerHTML = docLinkHtml;\n",
              "          element.appendChild(docLink);\n",
              "        }\n",
              "      </script>\n",
              "    </div>\n",
              "  </div>\n",
              "  "
            ],
            "text/plain": [
              "   age     bmi  children  ...  region_northwest  region_southeast  region_southwest\n",
              "0   19  27.900         0  ...                 0                 0                 1\n",
              "1   18  33.770         1  ...                 0                 1                 0\n",
              "2   28  33.000         3  ...                 0                 1                 0\n",
              "3   33  22.705         0  ...                 1                 0                 0\n",
              "4   32  28.880         0  ...                 1                 0                 0\n",
              "\n",
              "[5 rows x 9 columns]"
            ]
          },
          "metadata": {},
          "execution_count": 2
        }
      ]
    },
    {
      "cell_type": "code",
      "source": [
        "#Prepare X and y values\n",
        "X=df_oh.drop('charges',axis=1)\n",
        "y=df_oh['charges']\n",
        "X.head()"
      ],
      "metadata": {
        "colab": {
          "base_uri": "https://localhost:8080/",
          "height": 206
        },
        "id": "8IhYIH0_1aBv",
        "outputId": "2f5372e8-65dd-490a-a933-b574e496292b"
      },
      "execution_count": 3,
      "outputs": [
        {
          "output_type": "execute_result",
          "data": {
            "text/html": [
              "\n",
              "  <div id=\"df-3af2a381-69c3-4e9f-bc80-6e6fdeef3ad0\">\n",
              "    <div class=\"colab-df-container\">\n",
              "      <div>\n",
              "<style scoped>\n",
              "    .dataframe tbody tr th:only-of-type {\n",
              "        vertical-align: middle;\n",
              "    }\n",
              "\n",
              "    .dataframe tbody tr th {\n",
              "        vertical-align: top;\n",
              "    }\n",
              "\n",
              "    .dataframe thead th {\n",
              "        text-align: right;\n",
              "    }\n",
              "</style>\n",
              "<table border=\"1\" class=\"dataframe\">\n",
              "  <thead>\n",
              "    <tr style=\"text-align: right;\">\n",
              "      <th></th>\n",
              "      <th>age</th>\n",
              "      <th>bmi</th>\n",
              "      <th>children</th>\n",
              "      <th>sex_male</th>\n",
              "      <th>smoker_yes</th>\n",
              "      <th>region_northwest</th>\n",
              "      <th>region_southeast</th>\n",
              "      <th>region_southwest</th>\n",
              "    </tr>\n",
              "  </thead>\n",
              "  <tbody>\n",
              "    <tr>\n",
              "      <th>0</th>\n",
              "      <td>19</td>\n",
              "      <td>27.900</td>\n",
              "      <td>0</td>\n",
              "      <td>0</td>\n",
              "      <td>1</td>\n",
              "      <td>0</td>\n",
              "      <td>0</td>\n",
              "      <td>1</td>\n",
              "    </tr>\n",
              "    <tr>\n",
              "      <th>1</th>\n",
              "      <td>18</td>\n",
              "      <td>33.770</td>\n",
              "      <td>1</td>\n",
              "      <td>1</td>\n",
              "      <td>0</td>\n",
              "      <td>0</td>\n",
              "      <td>1</td>\n",
              "      <td>0</td>\n",
              "    </tr>\n",
              "    <tr>\n",
              "      <th>2</th>\n",
              "      <td>28</td>\n",
              "      <td>33.000</td>\n",
              "      <td>3</td>\n",
              "      <td>1</td>\n",
              "      <td>0</td>\n",
              "      <td>0</td>\n",
              "      <td>1</td>\n",
              "      <td>0</td>\n",
              "    </tr>\n",
              "    <tr>\n",
              "      <th>3</th>\n",
              "      <td>33</td>\n",
              "      <td>22.705</td>\n",
              "      <td>0</td>\n",
              "      <td>1</td>\n",
              "      <td>0</td>\n",
              "      <td>1</td>\n",
              "      <td>0</td>\n",
              "      <td>0</td>\n",
              "    </tr>\n",
              "    <tr>\n",
              "      <th>4</th>\n",
              "      <td>32</td>\n",
              "      <td>28.880</td>\n",
              "      <td>0</td>\n",
              "      <td>1</td>\n",
              "      <td>0</td>\n",
              "      <td>1</td>\n",
              "      <td>0</td>\n",
              "      <td>0</td>\n",
              "    </tr>\n",
              "  </tbody>\n",
              "</table>\n",
              "</div>\n",
              "      <button class=\"colab-df-convert\" onclick=\"convertToInteractive('df-3af2a381-69c3-4e9f-bc80-6e6fdeef3ad0')\"\n",
              "              title=\"Convert this dataframe to an interactive table.\"\n",
              "              style=\"display:none;\">\n",
              "        \n",
              "  <svg xmlns=\"http://www.w3.org/2000/svg\" height=\"24px\"viewBox=\"0 0 24 24\"\n",
              "       width=\"24px\">\n",
              "    <path d=\"M0 0h24v24H0V0z\" fill=\"none\"/>\n",
              "    <path d=\"M18.56 5.44l.94 2.06.94-2.06 2.06-.94-2.06-.94-.94-2.06-.94 2.06-2.06.94zm-11 1L8.5 8.5l.94-2.06 2.06-.94-2.06-.94L8.5 2.5l-.94 2.06-2.06.94zm10 10l.94 2.06.94-2.06 2.06-.94-2.06-.94-.94-2.06-.94 2.06-2.06.94z\"/><path d=\"M17.41 7.96l-1.37-1.37c-.4-.4-.92-.59-1.43-.59-.52 0-1.04.2-1.43.59L10.3 9.45l-7.72 7.72c-.78.78-.78 2.05 0 2.83L4 21.41c.39.39.9.59 1.41.59.51 0 1.02-.2 1.41-.59l7.78-7.78 2.81-2.81c.8-.78.8-2.07 0-2.86zM5.41 20L4 18.59l7.72-7.72 1.47 1.35L5.41 20z\"/>\n",
              "  </svg>\n",
              "      </button>\n",
              "      \n",
              "  <style>\n",
              "    .colab-df-container {\n",
              "      display:flex;\n",
              "      flex-wrap:wrap;\n",
              "      gap: 12px;\n",
              "    }\n",
              "\n",
              "    .colab-df-convert {\n",
              "      background-color: #E8F0FE;\n",
              "      border: none;\n",
              "      border-radius: 50%;\n",
              "      cursor: pointer;\n",
              "      display: none;\n",
              "      fill: #1967D2;\n",
              "      height: 32px;\n",
              "      padding: 0 0 0 0;\n",
              "      width: 32px;\n",
              "    }\n",
              "\n",
              "    .colab-df-convert:hover {\n",
              "      background-color: #E2EBFA;\n",
              "      box-shadow: 0px 1px 2px rgba(60, 64, 67, 0.3), 0px 1px 3px 1px rgba(60, 64, 67, 0.15);\n",
              "      fill: #174EA6;\n",
              "    }\n",
              "\n",
              "    [theme=dark] .colab-df-convert {\n",
              "      background-color: #3B4455;\n",
              "      fill: #D2E3FC;\n",
              "    }\n",
              "\n",
              "    [theme=dark] .colab-df-convert:hover {\n",
              "      background-color: #434B5C;\n",
              "      box-shadow: 0px 1px 3px 1px rgba(0, 0, 0, 0.15);\n",
              "      filter: drop-shadow(0px 1px 2px rgba(0, 0, 0, 0.3));\n",
              "      fill: #FFFFFF;\n",
              "    }\n",
              "  </style>\n",
              "\n",
              "      <script>\n",
              "        const buttonEl =\n",
              "          document.querySelector('#df-3af2a381-69c3-4e9f-bc80-6e6fdeef3ad0 button.colab-df-convert');\n",
              "        buttonEl.style.display =\n",
              "          google.colab.kernel.accessAllowed ? 'block' : 'none';\n",
              "\n",
              "        async function convertToInteractive(key) {\n",
              "          const element = document.querySelector('#df-3af2a381-69c3-4e9f-bc80-6e6fdeef3ad0');\n",
              "          const dataTable =\n",
              "            await google.colab.kernel.invokeFunction('convertToInteractive',\n",
              "                                                     [key], {});\n",
              "          if (!dataTable) return;\n",
              "\n",
              "          const docLinkHtml = 'Like what you see? Visit the ' +\n",
              "            '<a target=\"_blank\" href=https://colab.research.google.com/notebooks/data_table.ipynb>data table notebook</a>'\n",
              "            + ' to learn more about interactive tables.';\n",
              "          element.innerHTML = '';\n",
              "          dataTable['output_type'] = 'display_data';\n",
              "          await google.colab.output.renderOutput(dataTable, element);\n",
              "          const docLink = document.createElement('div');\n",
              "          docLink.innerHTML = docLinkHtml;\n",
              "          element.appendChild(docLink);\n",
              "        }\n",
              "      </script>\n",
              "    </div>\n",
              "  </div>\n",
              "  "
            ],
            "text/plain": [
              "   age     bmi  children  ...  region_northwest  region_southeast  region_southwest\n",
              "0   19  27.900         0  ...                 0                 0                 1\n",
              "1   18  33.770         1  ...                 0                 1                 0\n",
              "2   28  33.000         3  ...                 0                 1                 0\n",
              "3   33  22.705         0  ...                 1                 0                 0\n",
              "4   32  28.880         0  ...                 1                 0                 0\n",
              "\n",
              "[5 rows x 8 columns]"
            ]
          },
          "metadata": {},
          "execution_count": 3
        }
      ]
    },
    {
      "cell_type": "code",
      "source": [
        "# Split dataset\n",
        "X_train, X_test, y_train, y_test = train_test_split(X, y, test_size=0.2, random_state=42,shuffle=True)\n",
        "len(X),len(X_train),len(X_test)"
      ],
      "metadata": {
        "colab": {
          "base_uri": "https://localhost:8080/"
        },
        "id": "i7UM05m83_NZ",
        "outputId": "8bfcdebe-c080-4baa-e59f-ab35ca4116f8"
      },
      "execution_count": 4,
      "outputs": [
        {
          "output_type": "execute_result",
          "data": {
            "text/plain": [
              "(1338, 1070, 268)"
            ]
          },
          "metadata": {},
          "execution_count": 4
        }
      ]
    },
    {
      "cell_type": "code",
      "source": [
        "# 1. Create model\n",
        "\n",
        "model=tf.keras.Sequential(name='Model1')\n",
        "model.add(tf.keras.layers.BatchNormalization())\n",
        "model.add(tf.keras.layers.Dense(10,name='Dense1'))\n",
        "model.add(tf.keras.layers.Dense(1,name='Output'))\n",
        "\n",
        "# 2. Compile model\n",
        "model.compile(loss=tf.keras.losses.mae,\n",
        "              optimizer=tf.keras.optimizers.Adam(learning_rate=0.01),\n",
        "              metrics=['mae'])\n"
      ],
      "metadata": {
        "id": "IKleGxcO4hTQ"
      },
      "execution_count": 5,
      "outputs": []
    },
    {
      "cell_type": "code",
      "source": [
        "callbacks=[tf.keras.callbacks.ReduceLROnPlateau(monitor='val_loss',\n",
        "                                                factor=0.1,\n",
        "                                                patience=10),\n",
        "           tf.keras.callbacks.EarlyStopping(monitor='val_loss',\n",
        "                                            patience=1)\n",
        "           \n",
        "]"
      ],
      "metadata": {
        "id": "IPqqhGPp7ScJ"
      },
      "execution_count": 6,
      "outputs": []
    },
    {
      "cell_type": "code",
      "source": [
        "from sklearn.utils import shuffle\n",
        "#3. Model fit\n",
        "history=model.fit(X_train,y_train,epochs=100,\n",
        "          validation_split=0.1,\n",
        "          shuffle=True,\n",
        "          callbacks=callbacks)\n",
        "#model.summary()"
      ],
      "metadata": {
        "colab": {
          "base_uri": "https://localhost:8080/"
        },
        "id": "1JOn0PxQ5Lav",
        "outputId": "b129bd57-a484-4843-9307-68377d775be9"
      },
      "execution_count": 7,
      "outputs": [
        {
          "output_type": "stream",
          "name": "stdout",
          "text": [
            "Epoch 1/100\n",
            "31/31 [==============================] - 2s 22ms/step - loss: 13461.4043 - mae: 13461.4043 - val_loss: 12281.8027 - val_mae: 12281.8027 - lr: 0.0100\n",
            "Epoch 2/100\n",
            "31/31 [==============================] - 0s 10ms/step - loss: 13431.8047 - mae: 13431.8047 - val_loss: 12230.1973 - val_mae: 12230.1973 - lr: 0.0100\n",
            "Epoch 3/100\n",
            "31/31 [==============================] - 0s 9ms/step - loss: 13311.3779 - mae: 13311.3779 - val_loss: 12039.2158 - val_mae: 12039.2158 - lr: 0.0100\n",
            "Epoch 4/100\n",
            "31/31 [==============================] - 0s 10ms/step - loss: 12994.2959 - mae: 12994.2959 - val_loss: 11578.2920 - val_mae: 11578.2920 - lr: 0.0100\n",
            "Epoch 5/100\n",
            "31/31 [==============================] - 0s 10ms/step - loss: 12355.3105 - mae: 12355.3105 - val_loss: 10725.6963 - val_mae: 10725.6963 - lr: 0.0100\n",
            "Epoch 6/100\n",
            "31/31 [==============================] - 0s 8ms/step - loss: 11325.9805 - mae: 11325.9805 - val_loss: 9589.6738 - val_mae: 9589.6738 - lr: 0.0100\n",
            "Epoch 7/100\n",
            "31/31 [==============================] - 0s 8ms/step - loss: 10036.6006 - mae: 10036.6006 - val_loss: 8417.2422 - val_mae: 8417.2422 - lr: 0.0100\n",
            "Epoch 8/100\n",
            "31/31 [==============================] - 0s 12ms/step - loss: 8695.5293 - mae: 8695.5293 - val_loss: 7499.1104 - val_mae: 7499.1104 - lr: 0.0100\n",
            "Epoch 9/100\n",
            "31/31 [==============================] - 0s 10ms/step - loss: 7731.4038 - mae: 7731.4038 - val_loss: 7012.6602 - val_mae: 7012.6602 - lr: 0.0100\n",
            "Epoch 10/100\n",
            "31/31 [==============================] - 0s 10ms/step - loss: 7201.7441 - mae: 7201.7441 - val_loss: 6766.6699 - val_mae: 6766.6699 - lr: 0.0100\n",
            "Epoch 11/100\n",
            "31/31 [==============================] - 0s 11ms/step - loss: 6884.0674 - mae: 6884.0674 - val_loss: 6503.9497 - val_mae: 6503.9497 - lr: 0.0100\n",
            "Epoch 12/100\n",
            "31/31 [==============================] - 0s 9ms/step - loss: 6592.4580 - mae: 6592.4580 - val_loss: 6186.9160 - val_mae: 6186.9160 - lr: 0.0100\n",
            "Epoch 13/100\n",
            "31/31 [==============================] - 0s 11ms/step - loss: 6230.1675 - mae: 6230.1675 - val_loss: 5808.6338 - val_mae: 5808.6338 - lr: 0.0100\n",
            "Epoch 14/100\n",
            "31/31 [==============================] - 0s 8ms/step - loss: 5915.1929 - mae: 5915.1929 - val_loss: 5384.8594 - val_mae: 5384.8594 - lr: 0.0100\n",
            "Epoch 15/100\n",
            "31/31 [==============================] - 0s 11ms/step - loss: 5516.0576 - mae: 5516.0576 - val_loss: 4949.1050 - val_mae: 4949.1050 - lr: 0.0100\n",
            "Epoch 16/100\n",
            "31/31 [==============================] - 0s 11ms/step - loss: 5129.0234 - mae: 5129.0234 - val_loss: 4525.6543 - val_mae: 4525.6543 - lr: 0.0100\n",
            "Epoch 17/100\n",
            "31/31 [==============================] - 0s 10ms/step - loss: 4836.5928 - mae: 4836.5928 - val_loss: 4200.4648 - val_mae: 4200.4648 - lr: 0.0100\n",
            "Epoch 18/100\n",
            "31/31 [==============================] - 0s 10ms/step - loss: 4445.5107 - mae: 4445.5107 - val_loss: 3988.1799 - val_mae: 3988.1799 - lr: 0.0100\n",
            "Epoch 19/100\n",
            "31/31 [==============================] - 0s 12ms/step - loss: 4516.4546 - mae: 4516.4546 - val_loss: 3898.4404 - val_mae: 3898.4404 - lr: 0.0100\n",
            "Epoch 20/100\n",
            "31/31 [==============================] - 0s 11ms/step - loss: 4219.8008 - mae: 4219.8008 - val_loss: 3817.3777 - val_mae: 3817.3777 - lr: 0.0100\n",
            "Epoch 21/100\n",
            "31/31 [==============================] - 0s 9ms/step - loss: 4292.0361 - mae: 4292.0361 - val_loss: 3778.2668 - val_mae: 3778.2668 - lr: 0.0100\n",
            "Epoch 22/100\n",
            "31/31 [==============================] - 0s 10ms/step - loss: 4237.3960 - mae: 4237.3960 - val_loss: 3765.7529 - val_mae: 3765.7529 - lr: 0.0100\n",
            "Epoch 23/100\n",
            "31/31 [==============================] - 0s 10ms/step - loss: 4097.5703 - mae: 4097.5703 - val_loss: 3720.6255 - val_mae: 3720.6255 - lr: 0.0100\n",
            "Epoch 24/100\n",
            "31/31 [==============================] - 0s 14ms/step - loss: 4124.0479 - mae: 4124.0479 - val_loss: 3706.6523 - val_mae: 3706.6523 - lr: 0.0100\n",
            "Epoch 25/100\n",
            "31/31 [==============================] - 0s 10ms/step - loss: 4186.6895 - mae: 4186.6895 - val_loss: 3665.9270 - val_mae: 3665.9270 - lr: 0.0100\n",
            "Epoch 26/100\n",
            "31/31 [==============================] - 0s 12ms/step - loss: 4070.5327 - mae: 4070.5327 - val_loss: 3792.4907 - val_mae: 3792.4907 - lr: 0.0100\n"
          ]
        }
      ]
    },
    {
      "cell_type": "code",
      "source": [
        "print(history.history.keys())\n",
        "#pd.DataFrame(history.history).plot()\n",
        "#plt.ylabel(\"loss\")\n",
        "#plt.xlabel(\"epochs\")\n",
        "acc=history.history['mae']\n",
        "val_acc=history.history['val_mae']\n",
        "loss=history.history['loss']\n",
        "val_loss=history.history['val_loss']\n",
        "\n",
        "epochs=range(1,len(acc)+1)"
      ],
      "metadata": {
        "colab": {
          "base_uri": "https://localhost:8080/"
        },
        "id": "ZMKBligM8AUf",
        "outputId": "a2bd4e78-c965-4fd8-aeaf-f39ac46108c3"
      },
      "execution_count": 8,
      "outputs": [
        {
          "output_type": "stream",
          "name": "stdout",
          "text": [
            "dict_keys(['loss', 'mae', 'val_loss', 'val_mae', 'lr'])\n"
          ]
        }
      ]
    },
    {
      "cell_type": "code",
      "source": [
        "plt.plot(epochs,loss,'bo',label='Train loss')\n",
        "plt.plot(epochs,val_loss,'g',label='Validation loss')\n",
        "plt.title('Losses')\n",
        "plt.xlabel('Epochs')\n",
        "plt.ylabel('Loss')\n",
        "plt.legend();"
      ],
      "metadata": {
        "colab": {
          "base_uri": "https://localhost:8080/",
          "height": 295
        },
        "id": "-NT4adwU8-v4",
        "outputId": "8b0c5e26-f567-4db0-d3ad-64faecc9a7a6"
      },
      "execution_count": 9,
      "outputs": [
        {
          "output_type": "display_data",
          "data": {
            "image/png": "[encoded data removed]",
            "text/plain": [
              "<Figure size 432x288 with 1 Axes>"
            ]
          },
          "metadata": {
            "needs_background": "light"
          }
        }
      ]
    },
    {
      "cell_type": "code",
      "source": [
        "model.evaluate(X_test,y_test)"
      ],
      "metadata": {
        "colab": {
          "base_uri": "https://localhost:8080/"
        },
        "id": "aX4cdKAk50zx",
        "outputId": "68242e69-1ac2-4136-937c-878ac046ee59"
      },
      "execution_count": 10,
      "outputs": [
        {
          "output_type": "stream",
          "name": "stdout",
          "text": [
            "9/9 [==============================] - 0s 4ms/step - loss: 3573.8843 - mae: 3573.8843\n"
          ]
        },
        {
          "output_type": "execute_result",
          "data": {
            "text/plain": [
              "[3573.88427734375, 3573.88427734375]"
            ]
          },
          "metadata": {},
          "execution_count": 10
        }
      ]
    },
    {
      "cell_type": "code",
      "source": [
        "#plt.scatter(X,y)\n",
        "#plt.show"
      ],
      "metadata": {
        "id": "nE3vvUUfLLiQ"
      },
      "execution_count": 11,
      "outputs": []
    },
    {
      "cell_type": "markdown",
      "source": [
        "### Prepare 3 sets\n",
        "\n",
        "* train -70-80 %\n",
        "* val 10-15 %\n",
        "* test 10-15 %\n"
      ],
      "metadata": {
        "id": "PrRVd4eoLh4Y"
      }
    },
    {
      "cell_type": "code",
      "source": [
        "### How many samples we have\n",
        "#print(len(X))"
      ],
      "metadata": {
        "id": "TFyfkR6FX037"
      },
      "execution_count": 12,
      "outputs": []
    },
    {
      "cell_type": "code",
      "source": [
        "def split_dataset(X,y,val_size=0.2,test_size=0.1,shuffle=True,random_state=42):\n",
        "  N=len(X)\n",
        "  train_size=1.0-test_size-val_size\n",
        "  N_train=N*train_size\n",
        "  N_val=N*val_size\n",
        "  N_test=N*test_size\n",
        "\n",
        "  X_train, X_test, y_train, y_test = train_test_split(X, y, test_size=test_size, random_state=random_state,shuffle=shuffle)\n",
        "  \n",
        "  corrected_val_size=N_val/(N_val+N_train) # corrected value is scaled cause of the first split\n",
        "\n",
        "  X_train, X_val, y_train, y_val = train_test_split(X_train, y_train, test_size=corrected_val_size, random_state=random_state,shuffle=shuffle)\n",
        "\n",
        "  return X_train,X_val, X_test, y_train, y_val, y_test\n"
      ],
      "metadata": {
        "id": "2YgmAmmvUQCp"
      },
      "execution_count": 13,
      "outputs": []
    },
    {
      "cell_type": "code",
      "source": [
        "def plot_predictions(X_test=X_test,y_test=y_test, y_pred=y_pred):\n",
        "  plt.figure(figsize=(10,7))\n",
        "\n",
        "\n",
        "  # Plot training data in blue\n",
        "  plt.scatter(X_test,y_test,c='g',label='Test data')\n",
        "\n",
        "  # Plot training data in blue\n",
        "  plt.scatter(X_test,y_pred,c='r',label='Predicted data')\n",
        "  plt.legend();"
      ],
      "metadata": {
        "id": "_yZ04IOtsGxS",
        "colab": {
          "base_uri": "https://localhost:8080/",
          "height": 247
        },
        "outputId": "28d432eb-1508-458d-8c05-cb6632b410a2"
      },
      "execution_count": 14,
      "outputs": [
        {
          "output_type": "error",
          "ename": "NameError",
          "evalue": "ignored",
          "traceback": [
            "\u001b[0;31m---------------------------------------------------------------------------\u001b[0m",
            "\u001b[0;31mNameError\u001b[0m                                 Traceback (most recent call last)",
            "\u001b[0;32m<ipython-input-14-6b71ab8ebed5>\u001b[0m in \u001b[0;36m<module>\u001b[0;34m()\u001b[0m\n\u001b[0;32m----> 1\u001b[0;31m \u001b[0;32mdef\u001b[0m \u001b[0mplot_predictions\u001b[0m\u001b[0;34m(\u001b[0m\u001b[0mX_test\u001b[0m\u001b[0;34m=\u001b[0m\u001b[0mX_test\u001b[0m\u001b[0;34m,\u001b[0m\u001b[0my_test\u001b[0m\u001b[0;34m=\u001b[0m\u001b[0my_test\u001b[0m\u001b[0;34m,\u001b[0m \u001b[0my_pred\u001b[0m\u001b[0;34m=\u001b[0m\u001b[0my_pred\u001b[0m\u001b[0;34m)\u001b[0m\u001b[0;34m:\u001b[0m\u001b[0;34m\u001b[0m\u001b[0;34m\u001b[0m\u001b[0m\n\u001b[0m\u001b[1;32m      2\u001b[0m   \u001b[0mplt\u001b[0m\u001b[0;34m.\u001b[0m\u001b[0mfigure\u001b[0m\u001b[0;34m(\u001b[0m\u001b[0mfigsize\u001b[0m\u001b[0;34m=\u001b[0m\u001b[0;34m(\u001b[0m\u001b[0;36m10\u001b[0m\u001b[0;34m,\u001b[0m\u001b[0;36m7\u001b[0m\u001b[0;34m)\u001b[0m\u001b[0;34m)\u001b[0m\u001b[0;34m\u001b[0m\u001b[0;34m\u001b[0m\u001b[0m\n\u001b[1;32m      3\u001b[0m \u001b[0;34m\u001b[0m\u001b[0m\n\u001b[1;32m      4\u001b[0m \u001b[0;34m\u001b[0m\u001b[0m\n\u001b[1;32m      5\u001b[0m   \u001b[0;31m# Plot training data in blue\u001b[0m\u001b[0;34m\u001b[0m\u001b[0;34m\u001b[0m\u001b[0;34m\u001b[0m\u001b[0m\n",
            "\u001b[0;31mNameError\u001b[0m: name 'y_pred' is not defined"
          ]
        }
      ]
    },
    {
      "cell_type": "code",
      "source": [
        "\"\"\"\n",
        "X_train,X_val, X_test, y_train, y_val, y_test=split_dataset(X,y,val_size=0.2,test_size=0.1,shuffle=True,random_state=42)\n",
        "print(len(X_train))\n",
        "print(len(X_val))\n",
        "print(len(X_test))\n",
        "\"\"\""
      ],
      "metadata": {
        "id": "cgb1jGjkOs7h"
      },
      "execution_count": null,
      "outputs": []
    },
    {
      "cell_type": "code",
      "source": [
        "\"\"\"\n",
        "# Visualise the data\n",
        "plt.figure(figsize=(10,7))\n",
        "plt.scatter(X_train, y_train,c='b', label=\"Training data\")\n",
        "plt.scatter(X_test, y_test,c='r', label=\"Testing data\")\n",
        "# Show a legend\n",
        "plt.legend()\n",
        "\"\"\""
      ],
      "metadata": {
        "id": "DH8eneWMfK6c"
      },
      "execution_count": null,
      "outputs": []
    },
    {
      "cell_type": "code",
      "source": [
        "\"\"\"\n",
        "model=tf.keras.Sequential(name='Model1')\n",
        "model.add(tf.keras.layers.Dense(5,input_shape=[1],name='Dense1'))\n",
        "model.add(tf.keras.layers.Dense(1,name='Output'))\n",
        "model.summary()\n",
        "\"\"\""
      ],
      "metadata": {
        "id": "CvPQMJa8guFy"
      },
      "execution_count": null,
      "outputs": []
    },
    {
      "cell_type": "code",
      "source": [
        "\"\"\"\n",
        "from tensorflow.keras.utils import plot_model\n",
        "plot_model(model,show_shapes=True)\n",
        "\"\"\""
      ],
      "metadata": {
        "id": "3OQeEk7VpP1M"
      },
      "execution_count": null,
      "outputs": []
    },
    {
      "cell_type": "code",
      "source": [
        "\"\"\"\n",
        "model.compile(loss=tf.keras.losses.mae,\n",
        "              optimizer=tf.keras.optimizers.Adam(lr=0.01),\n",
        "              metrics=['mae'])\n",
        "\"\"\""
      ],
      "metadata": {
        "id": "bfM-QGdmg8Np"
      },
      "execution_count": null,
      "outputs": []
    },
    {
      "cell_type": "code",
      "source": [
        "\"\"\"\n",
        "model.fit(x=X_train,y=y_train,\n",
        "          batch_size=None,\n",
        "          epochs=100)\n",
        "\"\"\""
      ],
      "metadata": {
        "id": "NQLslBowhXf5"
      },
      "execution_count": null,
      "outputs": []
    },
    {
      "cell_type": "code",
      "source": [
        "y_pred=model.predict(x=X_test)"
      ],
      "metadata": {
        "id": "Catl63z9rh2r"
      },
      "execution_count": null,
      "outputs": []
    },
    {
      "cell_type": "code",
      "source": [
        "plot_predictions(X_test=X_test,y_test=y_test, y_pred=y_pred)"
      ],
      "metadata": {
        "id": "fNhBUNp4t1I-"
      },
      "execution_count": null,
      "outputs": []
    },
    {
      "cell_type": "code",
      "source": [
        "# evaluate model\n",
        "model.evaluate(X_test,y_test)"
      ],
      "metadata": {
        "id": "Tc5nx6-QxZK7"
      },
      "execution_count": null,
      "outputs": []
    }
  ]
}