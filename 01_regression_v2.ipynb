{
  "nbformat": 4,
  "nbformat_minor": 0,
  "metadata": {
    "colab": {
      "name": "01_regression_v1.ipynb",
      "provenance": [],
      "collapsed_sections": [],
      "authorship_tag": "ABX9TyOnkcuWb/Ddwvinn8u1mijK",
      "include_colab_link": true
    },
    "kernelspec": {
      "name": "python3",
      "display_name": "Python 3"
    },
    "language_info": {
      "name": "python"
    }
  },
  "cells": [
    {
      "cell_type": "markdown",
      "metadata": {
        "id": "view-in-github",
        "colab_type": "text"
      },
      "source": [
        "<a href=\"https://colab.research.google.com/github/PeterPirog/tensorflow-deep-learning/blob/workspace/01_regression_v2.ipynb\" target=\"_parent\"><img src=\"https://colab.research.google.com/assets/colab-badge.svg\" alt=\"Open In Colab\"/></a>"
      ]
    },
    {
      "cell_type": "code",
      "execution_count": 270,
      "metadata": {
        "id": "hfPkTSSGJu8D"
      },
      "outputs": [],
      "source": [
        "import tensorflow as tf\n",
        "tf.random.set_seed(42)\n",
        "import numpy as np\n",
        "\n",
        "from sklearn.model_selection import train_test_split\n",
        "import matplotlib.pyplot as plt"
      ]
    },
    {
      "cell_type": "code",
      "source": [
        "\n",
        "X=np.arange(-100.0,100.0,4)\n",
        "y=X+10\n",
        "print(X)"
      ],
      "metadata": {
        "colab": {
          "base_uri": "https://localhost:8080/"
        },
        "id": "DjDzDipwK6YQ",
        "outputId": "4a76943c-4a65-4620-cc71-2935b307accc"
      },
      "execution_count": 271,
      "outputs": [
        {
          "output_type": "stream",
          "name": "stdout",
          "text": [
            "[-100.  -96.  -92.  -88.  -84.  -80.  -76.  -72.  -68.  -64.  -60.  -56.\n",
            "  -52.  -48.  -44.  -40.  -36.  -32.  -28.  -24.  -20.  -16.  -12.   -8.\n",
            "   -4.    0.    4.    8.   12.   16.   20.   24.   28.   32.   36.   40.\n",
            "   44.   48.   52.   56.   60.   64.   68.   72.   76.   80.   84.   88.\n",
            "   92.   96.]\n"
          ]
        }
      ]
    },
    {
      "cell_type": "code",
      "source": [
        "plt.scatter(X,y)\n",
        "plt.show()"
      ],
      "metadata": {
        "colab": {
          "base_uri": "https://localhost:8080/",
          "height": 265
        },
        "id": "nE3vvUUfLLiQ",
        "outputId": "93a32086-ea8e-49cd-c8fc-f5208fec9f1f"
      },
      "execution_count": 272,
      "outputs": [
        {
          "output_type": "display_data",
          "data": {
            "image/png": "[encoded data removed]",
            "text/plain": [
              "<Figure size 432x288 with 1 Axes>"
            ]
          },
          "metadata": {
            "needs_background": "light"
          }
        }
      ]
    },
    {
      "cell_type": "markdown",
      "source": [
        "### Prepare 3 sets\n",
        "\n",
        "* train -70-80 %\n",
        "* val 10-15 %\n",
        "* test 10-15 %\n"
      ],
      "metadata": {
        "id": "PrRVd4eoLh4Y"
      }
    },
    {
      "cell_type": "code",
      "source": [
        "### How many samples we have\n",
        "print(len(X))"
      ],
      "metadata": {
        "colab": {
          "base_uri": "https://localhost:8080/"
        },
        "id": "TFyfkR6FX037",
        "outputId": "0b206eef-cc12-453f-b33b-7f0d9d313b8f"
      },
      "execution_count": 273,
      "outputs": [
        {
          "output_type": "stream",
          "name": "stdout",
          "text": [
            "50\n"
          ]
        }
      ]
    },
    {
      "cell_type": "code",
      "source": [
        "def split_dataset(X,y,val_size=0.2,test_size=0.1,shuffle=True,random_state=42):\n",
        "  N=len(X)\n",
        "  train_size=1.0-test_size-val_size\n",
        "  N_train=N*train_size\n",
        "  N_val=N*val_size\n",
        "  N_test=N*test_size\n",
        "\n",
        "  X_train, X_test, y_train, y_test = train_test_split(X, y, test_size=test_size, random_state=random_state,shuffle=shuffle)\n",
        "  \n",
        "  corrected_val_size=N_val/(N_val+N_train) # corrected value is scaled cause of the first split\n",
        "\n",
        "  X_train, X_val, y_train, y_val = train_test_split(X_train, y_train, test_size=corrected_val_size, random_state=random_state,shuffle=shuffle)\n",
        "\n",
        "  return X_train,X_val, X_test, y_train, y_val, y_test\n"
      ],
      "metadata": {
        "id": "2YgmAmmvUQCp"
      },
      "execution_count": 274,
      "outputs": []
    },
    {
      "cell_type": "code",
      "source": [
        "def plot_predictions(X_test=X_test,y_test=y_test, y_pred=y_pred):\n",
        "  plt.figure(figsize=(10,7))\n",
        "\n",
        "\n",
        "  # Plot training data in blue\n",
        "  plt.scatter(X_test,y_test,c='g',label='Test data')\n",
        "\n",
        "  # Plot training data in blue\n",
        "  plt.scatter(X_test,y_pred,c='r',label='Predicted data')\n",
        "  plt.legend();"
      ],
      "metadata": {
        "id": "_yZ04IOtsGxS"
      },
      "execution_count": 275,
      "outputs": []
    },
    {
      "cell_type": "code",
      "source": [
        "X_train,X_val, X_test, y_train, y_val, y_test=split_dataset(X,y,val_size=0.2,test_size=0.1,shuffle=True,random_state=42)\n",
        "print(len(X_train))\n",
        "print(len(X_val))\n",
        "print(len(X_test))\n"
      ],
      "metadata": {
        "colab": {
          "base_uri": "https://localhost:8080/"
        },
        "id": "cgb1jGjkOs7h",
        "outputId": "ea544bec-fda9-44d0-e939-cb930bdc91e4"
      },
      "execution_count": 276,
      "outputs": [
        {
          "output_type": "stream",
          "name": "stdout",
          "text": [
            "35\n",
            "10\n",
            "5\n"
          ]
        }
      ]
    },
    {
      "cell_type": "code",
      "source": [
        "# Visualise the data\n",
        "plt.figure(figsize=(10,7))\n",
        "plt.scatter(X_train, y_train,c='b', label=\"Training data\")\n",
        "plt.scatter(X_test, y_test,c='r', label=\"Testing data\")\n",
        "# Show a legend\n",
        "plt.legend()"
      ],
      "metadata": {
        "colab": {
          "base_uri": "https://localhost:8080/",
          "height": 447
        },
        "id": "DH8eneWMfK6c",
        "outputId": "c0c24d6c-cbc5-4217-dad0-e76916c2a6ca"
      },
      "execution_count": 277,
      "outputs": [
        {
          "output_type": "execute_result",
          "data": {
            "text/plain": [
              "<matplotlib.legend.Legend at 0x7ffa11359390>"
            ]
          },
          "metadata": {},
          "execution_count": 277
        },
        {
          "output_type": "display_data",
          "data": {
            "image/png": "[encoded data removed]",
            "text/plain": [
              "<Figure size 720x504 with 1 Axes>"
            ]
          },
          "metadata": {
            "needs_background": "light"
          }
        }
      ]
    },
    {
      "cell_type": "code",
      "source": [
        "model=tf.keras.Sequential(name='Model1')\n",
        "model.add(tf.keras.layers.Dense(5,input_shape=[1],name='Dense1'))\n",
        "model.add(tf.keras.layers.Dense(1,name='Output'))\n",
        "model.summary()"
      ],
      "metadata": {
        "colab": {
          "base_uri": "https://localhost:8080/"
        },
        "id": "CvPQMJa8guFy",
        "outputId": "35901652-017e-49bb-f184-4da8846371d8"
      },
      "execution_count": 278,
      "outputs": [
        {
          "output_type": "stream",
          "name": "stdout",
          "text": [
            "Model: \"Model1\"\n",
            "_________________________________________________________________\n",
            " Layer (type)                Output Shape              Param #   \n",
            "=================================================================\n",
            " Dense1 (Dense)              (None, 5)                 10        \n",
            "                                                                 \n",
            " Output (Dense)              (None, 1)                 6         \n",
            "                                                                 \n",
            "=================================================================\n",
            "Total params: 16\n",
            "Trainable params: 16\n",
            "Non-trainable params: 0\n",
            "_________________________________________________________________\n"
          ]
        }
      ]
    },
    {
      "cell_type": "code",
      "source": [
        "from tensorflow.keras.utils import plot_model\n",
        "plot_model(model,show_shapes=True)"
      ],
      "metadata": {
        "colab": {
          "base_uri": "https://localhost:8080/",
          "height": 312
        },
        "id": "3OQeEk7VpP1M",
        "outputId": "7034b24e-ab34-437c-daea-724850a3d5aa"
      },
      "execution_count": 279,
      "outputs": [
        {
          "output_type": "execute_result",
          "data": {
            "image/png": "[encoded data removed]",
            "text/plain": [
              "<IPython.core.display.Image object>"
            ]
          },
          "metadata": {},
          "execution_count": 279
        }
      ]
    },
    {
      "cell_type": "code",
      "source": [
        "model.compile(loss=tf.keras.losses.mae,\n",
        "              optimizer=tf.keras.optimizers.Adam(lr=0.01),\n",
        "              metrics=['mae'])"
      ],
      "metadata": {
        "colab": {
          "base_uri": "https://localhost:8080/"
        },
        "id": "bfM-QGdmg8Np",
        "outputId": "5acea50f-4bfd-4aa2-af05-9a9c55be631c"
      },
      "execution_count": 280,
      "outputs": [
        {
          "output_type": "stream",
          "name": "stderr",
          "text": [
            "/usr/local/lib/python3.7/dist-packages/keras/optimizer_v2/adam.py:105: UserWarning: The `lr` argument is deprecated, use `learning_rate` instead.\n",
            "  super(Adam, self).__init__(name, **kwargs)\n"
          ]
        }
      ]
    },
    {
      "cell_type": "code",
      "source": [
        "model.fit(x=X_train,y=y_train,\n",
        "          batch_size=None,\n",
        "          epochs=100)"
      ],
      "metadata": {
        "colab": {
          "base_uri": "https://localhost:8080/"
        },
        "id": "NQLslBowhXf5",
        "outputId": "cc96e485-b432-4841-dc26-0986db6ba136"
      },
      "execution_count": 281,
      "outputs": [
        {
          "output_type": "stream",
          "name": "stdout",
          "text": [
            "Epoch 1/100\n",
            "2/2 [==============================] - 0s 8ms/step - loss: 79.2760 - mae: 79.2760\n",
            "Epoch 2/100\n",
            "2/2 [==============================] - 0s 7ms/step - loss: 75.1580 - mae: 75.1580\n",
            "Epoch 3/100\n",
            "2/2 [==============================] - 0s 5ms/step - loss: 70.9295 - mae: 70.9295\n",
            "Epoch 4/100\n",
            "2/2 [==============================] - 0s 6ms/step - loss: 66.7945 - mae: 66.7945\n",
            "Epoch 5/100\n",
            "2/2 [==============================] - 0s 7ms/step - loss: 62.3861 - mae: 62.3861\n",
            "Epoch 6/100\n",
            "2/2 [==============================] - 0s 8ms/step - loss: 58.1989 - mae: 58.1989\n",
            "Epoch 7/100\n",
            "2/2 [==============================] - 0s 11ms/step - loss: 53.9422 - mae: 53.9422\n",
            "Epoch 8/100\n",
            "2/2 [==============================] - 0s 6ms/step - loss: 49.5409 - mae: 49.5409\n",
            "Epoch 9/100\n",
            "2/2 [==============================] - 0s 6ms/step - loss: 45.2402 - mae: 45.2402\n",
            "Epoch 10/100\n",
            "2/2 [==============================] - 0s 7ms/step - loss: 40.8219 - mae: 40.8219\n",
            "Epoch 11/100\n",
            "2/2 [==============================] - 0s 7ms/step - loss: 36.4103 - mae: 36.4103\n",
            "Epoch 12/100\n",
            "2/2 [==============================] - 0s 6ms/step - loss: 32.0262 - mae: 32.0262\n",
            "Epoch 13/100\n",
            "2/2 [==============================] - 0s 13ms/step - loss: 27.6198 - mae: 27.6198\n",
            "Epoch 14/100\n",
            "2/2 [==============================] - 0s 9ms/step - loss: 23.0325 - mae: 23.0325\n",
            "Epoch 15/100\n",
            "2/2 [==============================] - 0s 13ms/step - loss: 18.4037 - mae: 18.4037\n",
            "Epoch 16/100\n",
            "2/2 [==============================] - 0s 6ms/step - loss: 13.8173 - mae: 13.8173\n",
            "Epoch 17/100\n",
            "2/2 [==============================] - 0s 5ms/step - loss: 10.2774 - mae: 10.2774\n",
            "Epoch 18/100\n",
            "2/2 [==============================] - 0s 9ms/step - loss: 9.6231 - mae: 9.6231\n",
            "Epoch 19/100\n",
            "2/2 [==============================] - 0s 9ms/step - loss: 10.0067 - mae: 10.0067\n",
            "Epoch 20/100\n",
            "2/2 [==============================] - 0s 5ms/step - loss: 10.0195 - mae: 10.0195\n",
            "Epoch 21/100\n",
            "2/2 [==============================] - 0s 6ms/step - loss: 10.5015 - mae: 10.5015\n",
            "Epoch 22/100\n",
            "2/2 [==============================] - 0s 7ms/step - loss: 10.9865 - mae: 10.9865\n",
            "Epoch 23/100\n",
            "2/2 [==============================] - 0s 6ms/step - loss: 10.6705 - mae: 10.6705\n",
            "Epoch 24/100\n",
            "2/2 [==============================] - 0s 4ms/step - loss: 9.9764 - mae: 9.9764\n",
            "Epoch 25/100\n",
            "2/2 [==============================] - 0s 6ms/step - loss: 9.5642 - mae: 9.5642\n",
            "Epoch 26/100\n",
            "2/2 [==============================] - 0s 5ms/step - loss: 9.2675 - mae: 9.2675\n",
            "Epoch 27/100\n",
            "2/2 [==============================] - 0s 6ms/step - loss: 9.1629 - mae: 9.1629\n",
            "Epoch 28/100\n",
            "2/2 [==============================] - 0s 5ms/step - loss: 8.8783 - mae: 8.8783\n",
            "Epoch 29/100\n",
            "2/2 [==============================] - 0s 8ms/step - loss: 8.6346 - mae: 8.6346\n",
            "Epoch 30/100\n",
            "2/2 [==============================] - 0s 6ms/step - loss: 8.4766 - mae: 8.4766\n",
            "Epoch 31/100\n",
            "2/2 [==============================] - 0s 5ms/step - loss: 8.4358 - mae: 8.4358\n",
            "Epoch 32/100\n",
            "2/2 [==============================] - 0s 4ms/step - loss: 8.8555 - mae: 8.8555\n",
            "Epoch 33/100\n",
            "2/2 [==============================] - 0s 5ms/step - loss: 9.0569 - mae: 9.0569\n",
            "Epoch 34/100\n",
            "2/2 [==============================] - 0s 10ms/step - loss: 8.8183 - mae: 8.8183\n",
            "Epoch 35/100\n",
            "2/2 [==============================] - 0s 5ms/step - loss: 8.2096 - mae: 8.2096\n",
            "Epoch 36/100\n",
            "2/2 [==============================] - 0s 4ms/step - loss: 7.9246 - mae: 7.9246\n",
            "Epoch 37/100\n",
            "2/2 [==============================] - 0s 7ms/step - loss: 7.9223 - mae: 7.9223\n",
            "Epoch 38/100\n",
            "2/2 [==============================] - 0s 5ms/step - loss: 7.8681 - mae: 7.8681\n",
            "Epoch 39/100\n",
            "2/2 [==============================] - 0s 7ms/step - loss: 7.7923 - mae: 7.7923\n",
            "Epoch 40/100\n",
            "2/2 [==============================] - 0s 5ms/step - loss: 7.7066 - mae: 7.7066\n",
            "Epoch 41/100\n",
            "2/2 [==============================] - 0s 5ms/step - loss: 7.6873 - mae: 7.6873\n",
            "Epoch 42/100\n",
            "2/2 [==============================] - 0s 4ms/step - loss: 7.6392 - mae: 7.6392\n",
            "Epoch 43/100\n",
            "2/2 [==============================] - 0s 11ms/step - loss: 7.5451 - mae: 7.5451\n",
            "Epoch 44/100\n",
            "2/2 [==============================] - 0s 5ms/step - loss: 7.4175 - mae: 7.4175\n",
            "Epoch 45/100\n",
            "2/2 [==============================] - 0s 9ms/step - loss: 7.2833 - mae: 7.2833\n",
            "Epoch 46/100\n",
            "2/2 [==============================] - 0s 5ms/step - loss: 7.1488 - mae: 7.1488\n",
            "Epoch 47/100\n",
            "2/2 [==============================] - 0s 4ms/step - loss: 7.0068 - mae: 7.0068\n",
            "Epoch 48/100\n",
            "2/2 [==============================] - 0s 12ms/step - loss: 6.8978 - mae: 6.8978\n",
            "Epoch 49/100\n",
            "2/2 [==============================] - 0s 6ms/step - loss: 6.8178 - mae: 6.8178\n",
            "Epoch 50/100\n",
            "2/2 [==============================] - 0s 6ms/step - loss: 6.7624 - mae: 6.7624\n",
            "Epoch 51/100\n",
            "2/2 [==============================] - 0s 6ms/step - loss: 6.6435 - mae: 6.6435\n",
            "Epoch 52/100\n",
            "2/2 [==============================] - 0s 9ms/step - loss: 6.5333 - mae: 6.5333\n",
            "Epoch 53/100\n",
            "2/2 [==============================] - 0s 5ms/step - loss: 6.5199 - mae: 6.5199\n",
            "Epoch 54/100\n",
            "2/2 [==============================] - 0s 7ms/step - loss: 6.4420 - mae: 6.4420\n",
            "Epoch 55/100\n",
            "2/2 [==============================] - 0s 4ms/step - loss: 6.3911 - mae: 6.3911\n",
            "Epoch 56/100\n",
            "2/2 [==============================] - 0s 8ms/step - loss: 6.2966 - mae: 6.2966\n",
            "Epoch 57/100\n",
            "2/2 [==============================] - 0s 5ms/step - loss: 6.1901 - mae: 6.1901\n",
            "Epoch 58/100\n",
            "2/2 [==============================] - 0s 10ms/step - loss: 6.0859 - mae: 6.0859\n",
            "Epoch 59/100\n",
            "2/2 [==============================] - 0s 9ms/step - loss: 5.9067 - mae: 5.9067\n",
            "Epoch 60/100\n",
            "2/2 [==============================] - 0s 7ms/step - loss: 5.9618 - mae: 5.9618\n",
            "Epoch 61/100\n",
            "2/2 [==============================] - 0s 8ms/step - loss: 5.9385 - mae: 5.9385\n",
            "Epoch 62/100\n",
            "2/2 [==============================] - 0s 11ms/step - loss: 5.7007 - mae: 5.7007\n",
            "Epoch 63/100\n",
            "2/2 [==============================] - 0s 7ms/step - loss: 5.5664 - mae: 5.5664\n",
            "Epoch 64/100\n",
            "2/2 [==============================] - 0s 4ms/step - loss: 5.4777 - mae: 5.4777\n",
            "Epoch 65/100\n",
            "2/2 [==============================] - 0s 6ms/step - loss: 5.4826 - mae: 5.4826\n",
            "Epoch 66/100\n",
            "2/2 [==============================] - 0s 5ms/step - loss: 5.3982 - mae: 5.3982\n",
            "Epoch 67/100\n",
            "2/2 [==============================] - 0s 4ms/step - loss: 5.2914 - mae: 5.2914\n",
            "Epoch 68/100\n",
            "2/2 [==============================] - 0s 3ms/step - loss: 5.1479 - mae: 5.1479\n",
            "Epoch 69/100\n",
            "2/2 [==============================] - 0s 7ms/step - loss: 4.9968 - mae: 4.9968\n",
            "Epoch 70/100\n",
            "2/2 [==============================] - 0s 9ms/step - loss: 5.2502 - mae: 5.2502\n",
            "Epoch 71/100\n",
            "2/2 [==============================] - 0s 7ms/step - loss: 5.1897 - mae: 5.1897\n",
            "Epoch 72/100\n",
            "2/2 [==============================] - 0s 10ms/step - loss: 4.7384 - mae: 4.7384\n",
            "Epoch 73/100\n",
            "2/2 [==============================] - 0s 8ms/step - loss: 4.6815 - mae: 4.6815\n",
            "Epoch 74/100\n",
            "2/2 [==============================] - 0s 5ms/step - loss: 4.6508 - mae: 4.6508\n",
            "Epoch 75/100\n",
            "2/2 [==============================] - 0s 5ms/step - loss: 4.5906 - mae: 4.5906\n",
            "Epoch 76/100\n",
            "2/2 [==============================] - 0s 5ms/step - loss: 4.4382 - mae: 4.4382\n",
            "Epoch 77/100\n",
            "2/2 [==============================] - 0s 8ms/step - loss: 4.2694 - mae: 4.2694\n",
            "Epoch 78/100\n",
            "2/2 [==============================] - 0s 8ms/step - loss: 4.4420 - mae: 4.4420\n",
            "Epoch 79/100\n",
            "2/2 [==============================] - 0s 6ms/step - loss: 4.4822 - mae: 4.4822\n",
            "Epoch 80/100\n",
            "2/2 [==============================] - 0s 5ms/step - loss: 3.9496 - mae: 3.9496\n",
            "Epoch 81/100\n",
            "2/2 [==============================] - 0s 7ms/step - loss: 3.9176 - mae: 3.9176\n",
            "Epoch 82/100\n",
            "2/2 [==============================] - 0s 7ms/step - loss: 3.9960 - mae: 3.9960\n",
            "Epoch 83/100\n",
            "2/2 [==============================] - 0s 5ms/step - loss: 4.0959 - mae: 4.0959\n",
            "Epoch 84/100\n",
            "2/2 [==============================] - 0s 8ms/step - loss: 4.2442 - mae: 4.2442\n",
            "Epoch 85/100\n",
            "2/2 [==============================] - 0s 7ms/step - loss: 3.8805 - mae: 3.8805\n",
            "Epoch 86/100\n",
            "2/2 [==============================] - 0s 8ms/step - loss: 3.5912 - mae: 3.5912\n",
            "Epoch 87/100\n",
            "2/2 [==============================] - 0s 9ms/step - loss: 3.4622 - mae: 3.4622\n",
            "Epoch 88/100\n",
            "2/2 [==============================] - 0s 6ms/step - loss: 3.2695 - mae: 3.2695\n",
            "Epoch 89/100\n",
            "2/2 [==============================] - 0s 5ms/step - loss: 3.1540 - mae: 3.1540\n",
            "Epoch 90/100\n",
            "2/2 [==============================] - 0s 8ms/step - loss: 3.0446 - mae: 3.0446\n",
            "Epoch 91/100\n",
            "2/2 [==============================] - 0s 6ms/step - loss: 2.8955 - mae: 2.8955\n",
            "Epoch 92/100\n",
            "2/2 [==============================] - 0s 6ms/step - loss: 2.7763 - mae: 2.7763\n",
            "Epoch 93/100\n",
            "2/2 [==============================] - 0s 7ms/step - loss: 2.7983 - mae: 2.7983\n",
            "Epoch 94/100\n",
            "2/2 [==============================] - 0s 8ms/step - loss: 2.5088 - mae: 2.5088\n",
            "Epoch 95/100\n",
            "2/2 [==============================] - 0s 10ms/step - loss: 2.4087 - mae: 2.4087\n",
            "Epoch 96/100\n",
            "2/2 [==============================] - 0s 4ms/step - loss: 2.2986 - mae: 2.2986\n",
            "Epoch 97/100\n",
            "2/2 [==============================] - 0s 7ms/step - loss: 2.1812 - mae: 2.1812\n",
            "Epoch 98/100\n",
            "2/2 [==============================] - 0s 8ms/step - loss: 2.0604 - mae: 2.0604\n",
            "Epoch 99/100\n",
            "2/2 [==============================] - 0s 4ms/step - loss: 1.9819 - mae: 1.9819\n",
            "Epoch 100/100\n",
            "2/2 [==============================] - 0s 7ms/step - loss: 2.0491 - mae: 2.0491\n"
          ]
        },
        {
          "output_type": "execute_result",
          "data": {
            "text/plain": [
              "<keras.callbacks.History at 0x7ffa133ceb50>"
            ]
          },
          "metadata": {},
          "execution_count": 281
        }
      ]
    },
    {
      "cell_type": "code",
      "source": [
        "y_pred=model.predict(x=X_test)"
      ],
      "metadata": {
        "colab": {
          "base_uri": "https://localhost:8080/"
        },
        "id": "Catl63z9rh2r",
        "outputId": "3f016504-51d0-465f-d9fe-f126a9393d30"
      },
      "execution_count": 282,
      "outputs": [
        {
          "output_type": "stream",
          "name": "stdout",
          "text": [
            "WARNING:tensorflow:5 out of the last 5 calls to <function Model.make_predict_function.<locals>.predict_function at 0x7ffa12bd0290> triggered tf.function retracing. Tracing is expensive and the excessive number of tracings could be due to (1) creating @tf.function repeatedly in a loop, (2) passing tensors with different shapes, (3) passing Python objects instead of tensors. For (1), please define your @tf.function outside of the loop. For (2), @tf.function has experimental_relax_shapes=True option that relaxes argument shapes that can avoid unnecessary retracing. For (3), please refer to https://www.tensorflow.org/guide/function#controlling_retracing and https://www.tensorflow.org/api_docs/python/tf/function for  more details.\n"
          ]
        }
      ]
    },
    {
      "cell_type": "code",
      "source": [
        "plot_predictions(X_test=X_test,y_test=y_test, y_pred=y_pred)"
      ],
      "metadata": {
        "colab": {
          "base_uri": "https://localhost:8080/",
          "height": 428
        },
        "id": "fNhBUNp4t1I-",
        "outputId": "907baa05-d337-408e-97db-235f0b6d6ce1"
      },
      "execution_count": 283,
      "outputs": [
        {
          "output_type": "display_data",
          "data": {
            "image/png": "[encoded data removed]",
            "text/plain": [
              "<Figure size 720x504 with 1 Axes>"
            ]
          },
          "metadata": {
            "needs_background": "light"
          }
        }
      ]
    },
    {
      "cell_type": "code",
      "source": [
        "# evaluate model\n",
        "model.evaluate(X_test,y_test)"
      ],
      "metadata": {
        "colab": {
          "base_uri": "https://localhost:8080/"
        },
        "id": "Tc5nx6-QxZK7",
        "outputId": "33df6358-b6aa-4af7-8c43-39cfeab135e3"
      },
      "execution_count": 284,
      "outputs": [
        {
          "output_type": "stream",
          "name": "stdout",
          "text": [
            "1/1 [==============================] - 0s 92ms/step - loss: 1.5035 - mae: 1.5035\n"
          ]
        },
        {
          "output_type": "execute_result",
          "data": {
            "text/plain": [
              "[1.503483533859253, 1.503483533859253]"
            ]
          },
          "metadata": {},
          "execution_count": 284
        }
      ]
    }
  ]
}