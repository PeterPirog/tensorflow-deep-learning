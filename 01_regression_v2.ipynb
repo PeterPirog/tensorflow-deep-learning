{
  "nbformat": 4,
  "nbformat_minor": 0,
  "metadata": {
    "colab": {
      "name": "01_regression_v1.ipynb",
      "provenance": [],
      "collapsed_sections": [],
      "authorship_tag": "ABX9TyM9mlihhAWikY85rdhhKqsp",
      "include_colab_link": true
    },
    "kernelspec": {
      "name": "python3",
      "display_name": "Python 3"
    },
    "language_info": {
      "name": "python"
    },
    "accelerator": "GPU"
  },
  "cells": [
    {
      "cell_type": "markdown",
      "metadata": {
        "id": "view-in-github",
        "colab_type": "text"
      },
      "source": [
        "<a href=\"https://colab.research.google.com/github/PeterPirog/tensorflow-deep-learning/blob/workspace/01_regression_v2.ipynb\" target=\"_parent\"><img src=\"https://colab.research.google.com/assets/colab-badge.svg\" alt=\"Open In Colab\"/></a>"
      ]
    },
    {
      "cell_type": "code",
      "execution_count": 1,
      "metadata": {
        "id": "hfPkTSSGJu8D"
      },
      "outputs": [],
      "source": [
        "import tensorflow as tf\n",
        "tf.random.set_seed(42)\n",
        "\n",
        "import pandas as pd\n",
        "import numpy as np\n",
        "\n",
        "from sklearn.model_selection import train_test_split\n",
        "import matplotlib.pyplot as plt"
      ]
    },
    {
      "cell_type": "code",
      "source": [
        "df=pd.pandas.read_csv('https://raw.githubusercontent.com/stedy/Machine-Learning-with-R-datasets/master/insurance.csv')\n",
        "df_oh=pd.get_dummies(df,\n",
        "                  dummy_na=False,\n",
        "                  drop_first=True)\n",
        "df_oh.head()"
      ],
      "metadata": {
        "colab": {
          "base_uri": "https://localhost:8080/",
          "height": 206
        },
        "id": "DjDzDipwK6YQ",
        "outputId": "d7a00c33-aadf-44ac-d796-3a8150694c46"
      },
      "execution_count": 2,
      "outputs": [
        {
          "output_type": "execute_result",
          "data": {
            "text/html": [
              "\n",
              "  <div id=\"df-0fd43996-9689-41d3-8d3c-9ade9b7479d5\">\n",
              "    <div class=\"colab-df-container\">\n",
              "      <div>\n",
              "<style scoped>\n",
              "    .dataframe tbody tr th:only-of-type {\n",
              "        vertical-align: middle;\n",
              "    }\n",
              "\n",
              "    .dataframe tbody tr th {\n",
              "        vertical-align: top;\n",
              "    }\n",
              "\n",
              "    .dataframe thead th {\n",
              "        text-align: right;\n",
              "    }\n",
              "</style>\n",
              "<table border=\"1\" class=\"dataframe\">\n",
              "  <thead>\n",
              "    <tr style=\"text-align: right;\">\n",
              "      <th></th>\n",
              "      <th>age</th>\n",
              "      <th>bmi</th>\n",
              "      <th>children</th>\n",
              "      <th>charges</th>\n",
              "      <th>sex_male</th>\n",
              "      <th>smoker_yes</th>\n",
              "      <th>region_northwest</th>\n",
              "      <th>region_southeast</th>\n",
              "      <th>region_southwest</th>\n",
              "    </tr>\n",
              "  </thead>\n",
              "  <tbody>\n",
              "    <tr>\n",
              "      <th>0</th>\n",
              "      <td>19</td>\n",
              "      <td>27.900</td>\n",
              "      <td>0</td>\n",
              "      <td>16884.92400</td>\n",
              "      <td>0</td>\n",
              "      <td>1</td>\n",
              "      <td>0</td>\n",
              "      <td>0</td>\n",
              "      <td>1</td>\n",
              "    </tr>\n",
              "    <tr>\n",
              "      <th>1</th>\n",
              "      <td>18</td>\n",
              "      <td>33.770</td>\n",
              "      <td>1</td>\n",
              "      <td>1725.55230</td>\n",
              "      <td>1</td>\n",
              "      <td>0</td>\n",
              "      <td>0</td>\n",
              "      <td>1</td>\n",
              "      <td>0</td>\n",
              "    </tr>\n",
              "    <tr>\n",
              "      <th>2</th>\n",
              "      <td>28</td>\n",
              "      <td>33.000</td>\n",
              "      <td>3</td>\n",
              "      <td>4449.46200</td>\n",
              "      <td>1</td>\n",
              "      <td>0</td>\n",
              "      <td>0</td>\n",
              "      <td>1</td>\n",
              "      <td>0</td>\n",
              "    </tr>\n",
              "    <tr>\n",
              "      <th>3</th>\n",
              "      <td>33</td>\n",
              "      <td>22.705</td>\n",
              "      <td>0</td>\n",
              "      <td>21984.47061</td>\n",
              "      <td>1</td>\n",
              "      <td>0</td>\n",
              "      <td>1</td>\n",
              "      <td>0</td>\n",
              "      <td>0</td>\n",
              "    </tr>\n",
              "    <tr>\n",
              "      <th>4</th>\n",
              "      <td>32</td>\n",
              "      <td>28.880</td>\n",
              "      <td>0</td>\n",
              "      <td>3866.85520</td>\n",
              "      <td>1</td>\n",
              "      <td>0</td>\n",
              "      <td>1</td>\n",
              "      <td>0</td>\n",
              "      <td>0</td>\n",
              "    </tr>\n",
              "  </tbody>\n",
              "</table>\n",
              "</div>\n",
              "      <button class=\"colab-df-convert\" onclick=\"convertToInteractive('df-0fd43996-9689-41d3-8d3c-9ade9b7479d5')\"\n",
              "              title=\"Convert this dataframe to an interactive table.\"\n",
              "              style=\"display:none;\">\n",
              "        \n",
              "  <svg xmlns=\"http://www.w3.org/2000/svg\" height=\"24px\"viewBox=\"0 0 24 24\"\n",
              "       width=\"24px\">\n",
              "    <path d=\"M0 0h24v24H0V0z\" fill=\"none\"/>\n",
              "    <path d=\"M18.56 5.44l.94 2.06.94-2.06 2.06-.94-2.06-.94-.94-2.06-.94 2.06-2.06.94zm-11 1L8.5 8.5l.94-2.06 2.06-.94-2.06-.94L8.5 2.5l-.94 2.06-2.06.94zm10 10l.94 2.06.94-2.06 2.06-.94-2.06-.94-.94-2.06-.94 2.06-2.06.94z\"/><path d=\"M17.41 7.96l-1.37-1.37c-.4-.4-.92-.59-1.43-.59-.52 0-1.04.2-1.43.59L10.3 9.45l-7.72 7.72c-.78.78-.78 2.05 0 2.83L4 21.41c.39.39.9.59 1.41.59.51 0 1.02-.2 1.41-.59l7.78-7.78 2.81-2.81c.8-.78.8-2.07 0-2.86zM5.41 20L4 18.59l7.72-7.72 1.47 1.35L5.41 20z\"/>\n",
              "  </svg>\n",
              "      </button>\n",
              "      \n",
              "  <style>\n",
              "    .colab-df-container {\n",
              "      display:flex;\n",
              "      flex-wrap:wrap;\n",
              "      gap: 12px;\n",
              "    }\n",
              "\n",
              "    .colab-df-convert {\n",
              "      background-color: #E8F0FE;\n",
              "      border: none;\n",
              "      border-radius: 50%;\n",
              "      cursor: pointer;\n",
              "      display: none;\n",
              "      fill: #1967D2;\n",
              "      height: 32px;\n",
              "      padding: 0 0 0 0;\n",
              "      width: 32px;\n",
              "    }\n",
              "\n",
              "    .colab-df-convert:hover {\n",
              "      background-color: #E2EBFA;\n",
              "      box-shadow: 0px 1px 2px rgba(60, 64, 67, 0.3), 0px 1px 3px 1px rgba(60, 64, 67, 0.15);\n",
              "      fill: #174EA6;\n",
              "    }\n",
              "\n",
              "    [theme=dark] .colab-df-convert {\n",
              "      background-color: #3B4455;\n",
              "      fill: #D2E3FC;\n",
              "    }\n",
              "\n",
              "    [theme=dark] .colab-df-convert:hover {\n",
              "      background-color: #434B5C;\n",
              "      box-shadow: 0px 1px 3px 1px rgba(0, 0, 0, 0.15);\n",
              "      filter: drop-shadow(0px 1px 2px rgba(0, 0, 0, 0.3));\n",
              "      fill: #FFFFFF;\n",
              "    }\n",
              "  </style>\n",
              "\n",
              "      <script>\n",
              "        const buttonEl =\n",
              "          document.querySelector('#df-0fd43996-9689-41d3-8d3c-9ade9b7479d5 button.colab-df-convert');\n",
              "        buttonEl.style.display =\n",
              "          google.colab.kernel.accessAllowed ? 'block' : 'none';\n",
              "\n",
              "        async function convertToInteractive(key) {\n",
              "          const element = document.querySelector('#df-0fd43996-9689-41d3-8d3c-9ade9b7479d5');\n",
              "          const dataTable =\n",
              "            await google.colab.kernel.invokeFunction('convertToInteractive',\n",
              "                                                     [key], {});\n",
              "          if (!dataTable) return;\n",
              "\n",
              "          const docLinkHtml = 'Like what you see? Visit the ' +\n",
              "            '<a target=\"_blank\" href=https://colab.research.google.com/notebooks/data_table.ipynb>data table notebook</a>'\n",
              "            + ' to learn more about interactive tables.';\n",
              "          element.innerHTML = '';\n",
              "          dataTable['output_type'] = 'display_data';\n",
              "          await google.colab.output.renderOutput(dataTable, element);\n",
              "          const docLink = document.createElement('div');\n",
              "          docLink.innerHTML = docLinkHtml;\n",
              "          element.appendChild(docLink);\n",
              "        }\n",
              "      </script>\n",
              "    </div>\n",
              "  </div>\n",
              "  "
            ],
            "text/plain": [
              "   age     bmi  children  ...  region_northwest  region_southeast  region_southwest\n",
              "0   19  27.900         0  ...                 0                 0                 1\n",
              "1   18  33.770         1  ...                 0                 1                 0\n",
              "2   28  33.000         3  ...                 0                 1                 0\n",
              "3   33  22.705         0  ...                 1                 0                 0\n",
              "4   32  28.880         0  ...                 1                 0                 0\n",
              "\n",
              "[5 rows x 9 columns]"
            ]
          },
          "metadata": {},
          "execution_count": 2
        }
      ]
    },
    {
      "cell_type": "code",
      "source": [
        "#Prepare X and y values\n",
        "X=df_oh.drop('charges',axis=1)\n",
        "y=df_oh['charges']\n",
        "X.head()"
      ],
      "metadata": {
        "colab": {
          "base_uri": "https://localhost:8080/",
          "height": 206
        },
        "id": "8IhYIH0_1aBv",
        "outputId": "e2b1ad8f-074d-42dc-a38a-cf842a61dcb4"
      },
      "execution_count": 3,
      "outputs": [
        {
          "output_type": "execute_result",
          "data": {
            "text/html": [
              "\n",
              "  <div id=\"df-2070221c-899e-4e84-9184-653e7cacfed9\">\n",
              "    <div class=\"colab-df-container\">\n",
              "      <div>\n",
              "<style scoped>\n",
              "    .dataframe tbody tr th:only-of-type {\n",
              "        vertical-align: middle;\n",
              "    }\n",
              "\n",
              "    .dataframe tbody tr th {\n",
              "        vertical-align: top;\n",
              "    }\n",
              "\n",
              "    .dataframe thead th {\n",
              "        text-align: right;\n",
              "    }\n",
              "</style>\n",
              "<table border=\"1\" class=\"dataframe\">\n",
              "  <thead>\n",
              "    <tr style=\"text-align: right;\">\n",
              "      <th></th>\n",
              "      <th>age</th>\n",
              "      <th>bmi</th>\n",
              "      <th>children</th>\n",
              "      <th>sex_male</th>\n",
              "      <th>smoker_yes</th>\n",
              "      <th>region_northwest</th>\n",
              "      <th>region_southeast</th>\n",
              "      <th>region_southwest</th>\n",
              "    </tr>\n",
              "  </thead>\n",
              "  <tbody>\n",
              "    <tr>\n",
              "      <th>0</th>\n",
              "      <td>19</td>\n",
              "      <td>27.900</td>\n",
              "      <td>0</td>\n",
              "      <td>0</td>\n",
              "      <td>1</td>\n",
              "      <td>0</td>\n",
              "      <td>0</td>\n",
              "      <td>1</td>\n",
              "    </tr>\n",
              "    <tr>\n",
              "      <th>1</th>\n",
              "      <td>18</td>\n",
              "      <td>33.770</td>\n",
              "      <td>1</td>\n",
              "      <td>1</td>\n",
              "      <td>0</td>\n",
              "      <td>0</td>\n",
              "      <td>1</td>\n",
              "      <td>0</td>\n",
              "    </tr>\n",
              "    <tr>\n",
              "      <th>2</th>\n",
              "      <td>28</td>\n",
              "      <td>33.000</td>\n",
              "      <td>3</td>\n",
              "      <td>1</td>\n",
              "      <td>0</td>\n",
              "      <td>0</td>\n",
              "      <td>1</td>\n",
              "      <td>0</td>\n",
              "    </tr>\n",
              "    <tr>\n",
              "      <th>3</th>\n",
              "      <td>33</td>\n",
              "      <td>22.705</td>\n",
              "      <td>0</td>\n",
              "      <td>1</td>\n",
              "      <td>0</td>\n",
              "      <td>1</td>\n",
              "      <td>0</td>\n",
              "      <td>0</td>\n",
              "    </tr>\n",
              "    <tr>\n",
              "      <th>4</th>\n",
              "      <td>32</td>\n",
              "      <td>28.880</td>\n",
              "      <td>0</td>\n",
              "      <td>1</td>\n",
              "      <td>0</td>\n",
              "      <td>1</td>\n",
              "      <td>0</td>\n",
              "      <td>0</td>\n",
              "    </tr>\n",
              "  </tbody>\n",
              "</table>\n",
              "</div>\n",
              "      <button class=\"colab-df-convert\" onclick=\"convertToInteractive('df-2070221c-899e-4e84-9184-653e7cacfed9')\"\n",
              "              title=\"Convert this dataframe to an interactive table.\"\n",
              "              style=\"display:none;\">\n",
              "        \n",
              "  <svg xmlns=\"http://www.w3.org/2000/svg\" height=\"24px\"viewBox=\"0 0 24 24\"\n",
              "       width=\"24px\">\n",
              "    <path d=\"M0 0h24v24H0V0z\" fill=\"none\"/>\n",
              "    <path d=\"M18.56 5.44l.94 2.06.94-2.06 2.06-.94-2.06-.94-.94-2.06-.94 2.06-2.06.94zm-11 1L8.5 8.5l.94-2.06 2.06-.94-2.06-.94L8.5 2.5l-.94 2.06-2.06.94zm10 10l.94 2.06.94-2.06 2.06-.94-2.06-.94-.94-2.06-.94 2.06-2.06.94z\"/><path d=\"M17.41 7.96l-1.37-1.37c-.4-.4-.92-.59-1.43-.59-.52 0-1.04.2-1.43.59L10.3 9.45l-7.72 7.72c-.78.78-.78 2.05 0 2.83L4 21.41c.39.39.9.59 1.41.59.51 0 1.02-.2 1.41-.59l7.78-7.78 2.81-2.81c.8-.78.8-2.07 0-2.86zM5.41 20L4 18.59l7.72-7.72 1.47 1.35L5.41 20z\"/>\n",
              "  </svg>\n",
              "      </button>\n",
              "      \n",
              "  <style>\n",
              "    .colab-df-container {\n",
              "      display:flex;\n",
              "      flex-wrap:wrap;\n",
              "      gap: 12px;\n",
              "    }\n",
              "\n",
              "    .colab-df-convert {\n",
              "      background-color: #E8F0FE;\n",
              "      border: none;\n",
              "      border-radius: 50%;\n",
              "      cursor: pointer;\n",
              "      display: none;\n",
              "      fill: #1967D2;\n",
              "      height: 32px;\n",
              "      padding: 0 0 0 0;\n",
              "      width: 32px;\n",
              "    }\n",
              "\n",
              "    .colab-df-convert:hover {\n",
              "      background-color: #E2EBFA;\n",
              "      box-shadow: 0px 1px 2px rgba(60, 64, 67, 0.3), 0px 1px 3px 1px rgba(60, 64, 67, 0.15);\n",
              "      fill: #174EA6;\n",
              "    }\n",
              "\n",
              "    [theme=dark] .colab-df-convert {\n",
              "      background-color: #3B4455;\n",
              "      fill: #D2E3FC;\n",
              "    }\n",
              "\n",
              "    [theme=dark] .colab-df-convert:hover {\n",
              "      background-color: #434B5C;\n",
              "      box-shadow: 0px 1px 3px 1px rgba(0, 0, 0, 0.15);\n",
              "      filter: drop-shadow(0px 1px 2px rgba(0, 0, 0, 0.3));\n",
              "      fill: #FFFFFF;\n",
              "    }\n",
              "  </style>\n",
              "\n",
              "      <script>\n",
              "        const buttonEl =\n",
              "          document.querySelector('#df-2070221c-899e-4e84-9184-653e7cacfed9 button.colab-df-convert');\n",
              "        buttonEl.style.display =\n",
              "          google.colab.kernel.accessAllowed ? 'block' : 'none';\n",
              "\n",
              "        async function convertToInteractive(key) {\n",
              "          const element = document.querySelector('#df-2070221c-899e-4e84-9184-653e7cacfed9');\n",
              "          const dataTable =\n",
              "            await google.colab.kernel.invokeFunction('convertToInteractive',\n",
              "                                                     [key], {});\n",
              "          if (!dataTable) return;\n",
              "\n",
              "          const docLinkHtml = 'Like what you see? Visit the ' +\n",
              "            '<a target=\"_blank\" href=https://colab.research.google.com/notebooks/data_table.ipynb>data table notebook</a>'\n",
              "            + ' to learn more about interactive tables.';\n",
              "          element.innerHTML = '';\n",
              "          dataTable['output_type'] = 'display_data';\n",
              "          await google.colab.output.renderOutput(dataTable, element);\n",
              "          const docLink = document.createElement('div');\n",
              "          docLink.innerHTML = docLinkHtml;\n",
              "          element.appendChild(docLink);\n",
              "        }\n",
              "      </script>\n",
              "    </div>\n",
              "  </div>\n",
              "  "
            ],
            "text/plain": [
              "   age     bmi  children  ...  region_northwest  region_southeast  region_southwest\n",
              "0   19  27.900         0  ...                 0                 0                 1\n",
              "1   18  33.770         1  ...                 0                 1                 0\n",
              "2   28  33.000         3  ...                 0                 1                 0\n",
              "3   33  22.705         0  ...                 1                 0                 0\n",
              "4   32  28.880         0  ...                 1                 0                 0\n",
              "\n",
              "[5 rows x 8 columns]"
            ]
          },
          "metadata": {},
          "execution_count": 3
        }
      ]
    },
    {
      "cell_type": "code",
      "source": [
        "# Split dataset\n",
        "X_train, X_test, y_train, y_test = train_test_split(X, y, test_size=0.2, random_state=42,shuffle=True)\n",
        "len(X),len(X_train),len(X_test)"
      ],
      "metadata": {
        "colab": {
          "base_uri": "https://localhost:8080/"
        },
        "id": "i7UM05m83_NZ",
        "outputId": "6481c5e5-9ad8-40cb-97df-73683f438764"
      },
      "execution_count": 4,
      "outputs": [
        {
          "output_type": "execute_result",
          "data": {
            "text/plain": [
              "(1338, 1070, 268)"
            ]
          },
          "metadata": {},
          "execution_count": 4
        }
      ]
    },
    {
      "cell_type": "code",
      "source": [
        "# 1. Create model\n",
        "\n",
        "model=tf.keras.Sequential(name='Model1')\n",
        "model.add(tf.keras.layers.Dense(10,name='Dense1'))\n",
        "model.add(tf.keras.layers.Dense(1,name='Output'))\n",
        "\n",
        "# 2. Compile model\n",
        "model.compile(loss=tf.keras.losses.mae,\n",
        "              optimizer=tf.keras.optimizers.Adam(learning_rate=0.01),\n",
        "              metrics=tf.keras.metrics.mae)\n"
      ],
      "metadata": {
        "id": "IKleGxcO4hTQ"
      },
      "execution_count": 5,
      "outputs": []
    },
    {
      "cell_type": "code",
      "source": [
        "callbacks=[tf.keras.callbacks.ReduceLROnPlateau(monitor='val_loss',\n",
        "                                                factor=0.1,\n",
        "                                                patience=10),\n",
        "           \n",
        "]"
      ],
      "metadata": {
        "id": "IPqqhGPp7ScJ"
      },
      "execution_count": 6,
      "outputs": []
    },
    {
      "cell_type": "code",
      "source": [
        "from sklearn.utils import shuffle\n",
        "#3. Model fit\n",
        "history=model.fit(X_train,y_train,epochs=100,\n",
        "          validation_split=0.1,\n",
        "          shuffle=True,\n",
        "          callbacks=callbacks)\n",
        "#model.summary()"
      ],
      "metadata": {
        "colab": {
          "base_uri": "https://localhost:8080/"
        },
        "id": "1JOn0PxQ5Lav",
        "outputId": "a4771f0a-6bdc-4589-bfa5-1359e3d7180c"
      },
      "execution_count": 7,
      "outputs": [
        {
          "output_type": "stream",
          "name": "stdout",
          "text": [
            "Epoch 1/100\n",
            "31/31 [==============================] - 2s 26ms/step - loss: 13406.2412 - mean_absolute_error: 13406.2412 - val_loss: 12138.7227 - val_mean_absolute_error: 12138.7227\n",
            "Epoch 2/100\n",
            "31/31 [==============================] - 0s 9ms/step - loss: 13179.7383 - mean_absolute_error: 13179.7383 - val_loss: 11804.8965 - val_mean_absolute_error: 11804.8965\n",
            "Epoch 3/100\n",
            "31/31 [==============================] - 0s 13ms/step - loss: 12688.4268 - mean_absolute_error: 12688.4268 - val_loss: 11147.9189 - val_mean_absolute_error: 11147.9189\n",
            "Epoch 4/100\n",
            "31/31 [==============================] - 0s 9ms/step - loss: 11829.6572 - mean_absolute_error: 11829.6572 - val_loss: 10119.9150 - val_mean_absolute_error: 10119.9150\n",
            "Epoch 5/100\n",
            "31/31 [==============================] - 0s 10ms/step - loss: 10647.1143 - mean_absolute_error: 10647.1143 - val_loss: 8934.1367 - val_mean_absolute_error: 8934.1367\n",
            "Epoch 6/100\n",
            "31/31 [==============================] - 0s 10ms/step - loss: 9380.6787 - mean_absolute_error: 9380.6787 - val_loss: 7883.9946 - val_mean_absolute_error: 7883.9946\n",
            "Epoch 7/100\n",
            "31/31 [==============================] - 0s 8ms/step - loss: 8294.3154 - mean_absolute_error: 8294.3154 - val_loss: 7130.7935 - val_mean_absolute_error: 7130.7935\n",
            "Epoch 8/100\n",
            "31/31 [==============================] - 0s 9ms/step - loss: 7687.7119 - mean_absolute_error: 7687.7119 - val_loss: 6885.1611 - val_mean_absolute_error: 6885.1611\n",
            "Epoch 9/100\n",
            "31/31 [==============================] - 0s 11ms/step - loss: 7507.7324 - mean_absolute_error: 7507.7324 - val_loss: 6825.7935 - val_mean_absolute_error: 6825.7935\n",
            "Epoch 10/100\n",
            "31/31 [==============================] - 0s 12ms/step - loss: 7458.3872 - mean_absolute_error: 7458.3872 - val_loss: 6817.9536 - val_mean_absolute_error: 6817.9536\n",
            "Epoch 11/100\n",
            "31/31 [==============================] - 0s 10ms/step - loss: 7444.7939 - mean_absolute_error: 7444.7939 - val_loss: 6802.3628 - val_mean_absolute_error: 6802.3628\n",
            "Epoch 12/100\n",
            "31/31 [==============================] - 0s 10ms/step - loss: 7429.6982 - mean_absolute_error: 7429.6982 - val_loss: 6786.0923 - val_mean_absolute_error: 6786.0923\n",
            "Epoch 13/100\n",
            "31/31 [==============================] - 0s 10ms/step - loss: 7416.2847 - mean_absolute_error: 7416.2847 - val_loss: 6765.4673 - val_mean_absolute_error: 6765.4673\n",
            "Epoch 14/100\n",
            "31/31 [==============================] - 0s 12ms/step - loss: 7400.1650 - mean_absolute_error: 7400.1650 - val_loss: 6747.6904 - val_mean_absolute_error: 6747.6904\n",
            "Epoch 15/100\n",
            "31/31 [==============================] - 0s 10ms/step - loss: 7380.4336 - mean_absolute_error: 7380.4336 - val_loss: 6725.1597 - val_mean_absolute_error: 6725.1597\n",
            "Epoch 16/100\n",
            "31/31 [==============================] - 0s 9ms/step - loss: 7363.5024 - mean_absolute_error: 7363.5024 - val_loss: 6709.8364 - val_mean_absolute_error: 6709.8364\n",
            "Epoch 17/100\n",
            "31/31 [==============================] - 0s 10ms/step - loss: 7348.2109 - mean_absolute_error: 7348.2109 - val_loss: 6689.9097 - val_mean_absolute_error: 6689.9097\n",
            "Epoch 18/100\n",
            "31/31 [==============================] - 0s 11ms/step - loss: 7332.1104 - mean_absolute_error: 7332.1104 - val_loss: 6669.8901 - val_mean_absolute_error: 6669.8901\n",
            "Epoch 19/100\n",
            "31/31 [==============================] - 0s 10ms/step - loss: 7312.8452 - mean_absolute_error: 7312.8452 - val_loss: 6651.2231 - val_mean_absolute_error: 6651.2231\n",
            "Epoch 20/100\n",
            "31/31 [==============================] - 0s 9ms/step - loss: 7295.4868 - mean_absolute_error: 7295.4868 - val_loss: 6632.5742 - val_mean_absolute_error: 6632.5742\n",
            "Epoch 21/100\n",
            "31/31 [==============================] - 0s 10ms/step - loss: 7276.8540 - mean_absolute_error: 7276.8540 - val_loss: 6606.3433 - val_mean_absolute_error: 6606.3433\n",
            "Epoch 22/100\n",
            "31/31 [==============================] - 0s 11ms/step - loss: 7257.9775 - mean_absolute_error: 7257.9775 - val_loss: 6587.0190 - val_mean_absolute_error: 6587.0190\n",
            "Epoch 23/100\n",
            "31/31 [==============================] - 0s 10ms/step - loss: 7240.3242 - mean_absolute_error: 7240.3242 - val_loss: 6563.1157 - val_mean_absolute_error: 6563.1157\n",
            "Epoch 24/100\n",
            "31/31 [==============================] - 0s 12ms/step - loss: 7219.7139 - mean_absolute_error: 7219.7139 - val_loss: 6545.4526 - val_mean_absolute_error: 6545.4526\n",
            "Epoch 25/100\n",
            "31/31 [==============================] - 0s 9ms/step - loss: 7199.9902 - mean_absolute_error: 7199.9902 - val_loss: 6521.7847 - val_mean_absolute_error: 6521.7847\n",
            "Epoch 26/100\n",
            "31/31 [==============================] - 0s 8ms/step - loss: 7179.5522 - mean_absolute_error: 7179.5522 - val_loss: 6492.6519 - val_mean_absolute_error: 6492.6519\n",
            "Epoch 27/100\n",
            "31/31 [==============================] - 0s 10ms/step - loss: 7161.9312 - mean_absolute_error: 7161.9312 - val_loss: 6469.4561 - val_mean_absolute_error: 6469.4561\n",
            "Epoch 28/100\n",
            "31/31 [==============================] - 0s 11ms/step - loss: 7141.7563 - mean_absolute_error: 7141.7563 - val_loss: 6452.9712 - val_mean_absolute_error: 6452.9712\n",
            "Epoch 29/100\n",
            "31/31 [==============================] - 0s 9ms/step - loss: 7121.2017 - mean_absolute_error: 7121.2012 - val_loss: 6427.7412 - val_mean_absolute_error: 6427.7412\n",
            "Epoch 30/100\n",
            "31/31 [==============================] - 0s 9ms/step - loss: 7099.5601 - mean_absolute_error: 7099.5601 - val_loss: 6404.5898 - val_mean_absolute_error: 6404.5898\n",
            "Epoch 31/100\n",
            "31/31 [==============================] - 0s 10ms/step - loss: 7079.4326 - mean_absolute_error: 7079.4326 - val_loss: 6384.5220 - val_mean_absolute_error: 6384.5220\n",
            "Epoch 32/100\n",
            "31/31 [==============================] - 0s 7ms/step - loss: 7055.9907 - mean_absolute_error: 7055.9907 - val_loss: 6349.3335 - val_mean_absolute_error: 6349.3335\n",
            "Epoch 33/100\n",
            "31/31 [==============================] - 0s 8ms/step - loss: 7034.9146 - mean_absolute_error: 7034.9146 - val_loss: 6320.0063 - val_mean_absolute_error: 6320.0063\n",
            "Epoch 34/100\n",
            "31/31 [==============================] - 0s 9ms/step - loss: 7013.0005 - mean_absolute_error: 7013.0005 - val_loss: 6299.0542 - val_mean_absolute_error: 6299.0542\n",
            "Epoch 35/100\n",
            "31/31 [==============================] - 0s 9ms/step - loss: 6994.7998 - mean_absolute_error: 6994.7998 - val_loss: 6273.2173 - val_mean_absolute_error: 6273.2173\n",
            "Epoch 36/100\n",
            "31/31 [==============================] - 0s 10ms/step - loss: 6967.4570 - mean_absolute_error: 6967.4570 - val_loss: 6250.4883 - val_mean_absolute_error: 6250.4883\n",
            "Epoch 37/100\n",
            "31/31 [==============================] - 0s 9ms/step - loss: 6944.1289 - mean_absolute_error: 6944.1289 - val_loss: 6227.2012 - val_mean_absolute_error: 6227.2012\n",
            "Epoch 38/100\n",
            "31/31 [==============================] - 0s 10ms/step - loss: 6920.1841 - mean_absolute_error: 6920.1841 - val_loss: 6203.7065 - val_mean_absolute_error: 6203.7065\n",
            "Epoch 39/100\n",
            "31/31 [==============================] - 0s 9ms/step - loss: 6900.0259 - mean_absolute_error: 6900.0259 - val_loss: 6185.4526 - val_mean_absolute_error: 6185.4526\n",
            "Epoch 40/100\n",
            "31/31 [==============================] - 0s 12ms/step - loss: 6873.6562 - mean_absolute_error: 6873.6562 - val_loss: 6149.3208 - val_mean_absolute_error: 6149.3208\n",
            "Epoch 41/100\n",
            "31/31 [==============================] - 0s 12ms/step - loss: 6850.3428 - mean_absolute_error: 6850.3428 - val_loss: 6124.5488 - val_mean_absolute_error: 6124.5488\n",
            "Epoch 42/100\n",
            "31/31 [==============================] - 0s 9ms/step - loss: 6824.2271 - mean_absolute_error: 6824.2271 - val_loss: 6098.3867 - val_mean_absolute_error: 6098.3867\n",
            "Epoch 43/100\n",
            "31/31 [==============================] - 0s 10ms/step - loss: 6804.6934 - mean_absolute_error: 6804.6934 - val_loss: 6078.0933 - val_mean_absolute_error: 6078.0933\n",
            "Epoch 44/100\n",
            "31/31 [==============================] - 0s 11ms/step - loss: 6778.8169 - mean_absolute_error: 6778.8169 - val_loss: 6047.7861 - val_mean_absolute_error: 6047.7861\n",
            "Epoch 45/100\n",
            "31/31 [==============================] - 0s 8ms/step - loss: 6761.0928 - mean_absolute_error: 6761.0928 - val_loss: 6032.2837 - val_mean_absolute_error: 6032.2837\n",
            "Epoch 46/100\n",
            "31/31 [==============================] - 0s 12ms/step - loss: 6735.0854 - mean_absolute_error: 6735.0854 - val_loss: 6006.8818 - val_mean_absolute_error: 6006.8818\n",
            "Epoch 47/100\n",
            "31/31 [==============================] - 0s 9ms/step - loss: 6720.8550 - mean_absolute_error: 6720.8550 - val_loss: 5993.4395 - val_mean_absolute_error: 5993.4395\n",
            "Epoch 48/100\n",
            "31/31 [==============================] - 0s 8ms/step - loss: 6697.8350 - mean_absolute_error: 6697.8350 - val_loss: 5971.1704 - val_mean_absolute_error: 5971.1704\n",
            "Epoch 49/100\n",
            "31/31 [==============================] - 0s 8ms/step - loss: 6684.0293 - mean_absolute_error: 6684.0293 - val_loss: 5955.5845 - val_mean_absolute_error: 5955.5845\n",
            "Epoch 50/100\n",
            "31/31 [==============================] - 0s 10ms/step - loss: 6670.0327 - mean_absolute_error: 6670.0327 - val_loss: 5949.2583 - val_mean_absolute_error: 5949.2583\n",
            "Epoch 51/100\n",
            "31/31 [==============================] - 0s 8ms/step - loss: 6666.0679 - mean_absolute_error: 6666.0679 - val_loss: 5930.3857 - val_mean_absolute_error: 5930.3857\n",
            "Epoch 52/100\n",
            "31/31 [==============================] - 0s 10ms/step - loss: 6646.6157 - mean_absolute_error: 6646.6157 - val_loss: 5924.9111 - val_mean_absolute_error: 5924.9111\n",
            "Epoch 53/100\n",
            "31/31 [==============================] - 0s 5ms/step - loss: 6643.9697 - mean_absolute_error: 6643.9697 - val_loss: 5916.9224 - val_mean_absolute_error: 5916.9224\n",
            "Epoch 54/100\n",
            "31/31 [==============================] - 0s 5ms/step - loss: 6631.7847 - mean_absolute_error: 6631.7847 - val_loss: 5911.2183 - val_mean_absolute_error: 5911.2183\n",
            "Epoch 55/100\n",
            "31/31 [==============================] - 0s 5ms/step - loss: 6625.1729 - mean_absolute_error: 6625.1729 - val_loss: 5902.7163 - val_mean_absolute_error: 5902.7163\n",
            "Epoch 56/100\n",
            "31/31 [==============================] - 0s 5ms/step - loss: 6619.3545 - mean_absolute_error: 6619.3545 - val_loss: 5894.8989 - val_mean_absolute_error: 5894.8989\n",
            "Epoch 57/100\n",
            "31/31 [==============================] - 0s 5ms/step - loss: 6612.3530 - mean_absolute_error: 6612.3530 - val_loss: 5889.7690 - val_mean_absolute_error: 5889.7690\n",
            "Epoch 58/100\n",
            "31/31 [==============================] - 0s 5ms/step - loss: 6603.5322 - mean_absolute_error: 6603.5322 - val_loss: 5884.8262 - val_mean_absolute_error: 5884.8262\n",
            "Epoch 59/100\n",
            "31/31 [==============================] - 0s 5ms/step - loss: 6596.8433 - mean_absolute_error: 6596.8433 - val_loss: 5879.0693 - val_mean_absolute_error: 5879.0693\n",
            "Epoch 60/100\n",
            "31/31 [==============================] - 0s 5ms/step - loss: 6589.5337 - mean_absolute_error: 6589.5337 - val_loss: 5874.5205 - val_mean_absolute_error: 5874.5205\n",
            "Epoch 61/100\n",
            "31/31 [==============================] - 0s 5ms/step - loss: 6583.8149 - mean_absolute_error: 6583.8149 - val_loss: 5868.4175 - val_mean_absolute_error: 5868.4175\n",
            "Epoch 62/100\n",
            "31/31 [==============================] - 0s 5ms/step - loss: 6579.4023 - mean_absolute_error: 6579.4023 - val_loss: 5865.3208 - val_mean_absolute_error: 5865.3208\n",
            "Epoch 63/100\n",
            "31/31 [==============================] - 0s 5ms/step - loss: 6570.3652 - mean_absolute_error: 6570.3652 - val_loss: 5859.4697 - val_mean_absolute_error: 5859.4697\n",
            "Epoch 64/100\n",
            "31/31 [==============================] - 0s 5ms/step - loss: 6565.5410 - mean_absolute_error: 6565.5410 - val_loss: 5854.5747 - val_mean_absolute_error: 5854.5747\n",
            "Epoch 65/100\n",
            "31/31 [==============================] - 0s 5ms/step - loss: 6557.7964 - mean_absolute_error: 6557.7964 - val_loss: 5849.6299 - val_mean_absolute_error: 5849.6299\n",
            "Epoch 66/100\n",
            "31/31 [==============================] - 0s 5ms/step - loss: 6553.1489 - mean_absolute_error: 6553.1489 - val_loss: 5844.4849 - val_mean_absolute_error: 5844.4849\n",
            "Epoch 67/100\n",
            "31/31 [==============================] - 0s 5ms/step - loss: 6547.3945 - mean_absolute_error: 6547.3945 - val_loss: 5843.0586 - val_mean_absolute_error: 5843.0586\n",
            "Epoch 68/100\n",
            "31/31 [==============================] - 0s 5ms/step - loss: 6542.0254 - mean_absolute_error: 6542.0254 - val_loss: 5834.0586 - val_mean_absolute_error: 5834.0586\n",
            "Epoch 69/100\n",
            "31/31 [==============================] - 0s 5ms/step - loss: 6538.2773 - mean_absolute_error: 6538.2773 - val_loss: 5830.6357 - val_mean_absolute_error: 5830.6357\n",
            "Epoch 70/100\n",
            "31/31 [==============================] - 0s 5ms/step - loss: 6527.4932 - mean_absolute_error: 6527.4932 - val_loss: 5824.6973 - val_mean_absolute_error: 5824.6973\n",
            "Epoch 71/100\n",
            "31/31 [==============================] - 0s 5ms/step - loss: 6523.5796 - mean_absolute_error: 6523.5796 - val_loss: 5819.2256 - val_mean_absolute_error: 5819.2256\n",
            "Epoch 72/100\n",
            "31/31 [==============================] - 0s 5ms/step - loss: 6517.2295 - mean_absolute_error: 6517.2295 - val_loss: 5818.9268 - val_mean_absolute_error: 5818.9268\n",
            "Epoch 73/100\n",
            "31/31 [==============================] - 0s 5ms/step - loss: 6509.0703 - mean_absolute_error: 6509.0703 - val_loss: 5810.8296 - val_mean_absolute_error: 5810.8296\n",
            "Epoch 74/100\n",
            "31/31 [==============================] - 0s 5ms/step - loss: 6501.2412 - mean_absolute_error: 6501.2412 - val_loss: 5805.0020 - val_mean_absolute_error: 5805.0020\n",
            "Epoch 75/100\n",
            "31/31 [==============================] - 0s 5ms/step - loss: 6498.5283 - mean_absolute_error: 6498.5283 - val_loss: 5805.8325 - val_mean_absolute_error: 5805.8325\n",
            "Epoch 76/100\n",
            "31/31 [==============================] - 0s 5ms/step - loss: 6494.2671 - mean_absolute_error: 6494.2671 - val_loss: 5795.9473 - val_mean_absolute_error: 5795.9473\n",
            "Epoch 77/100\n",
            "31/31 [==============================] - 0s 5ms/step - loss: 6481.0195 - mean_absolute_error: 6481.0195 - val_loss: 5789.3247 - val_mean_absolute_error: 5789.3247\n",
            "Epoch 78/100\n",
            "31/31 [==============================] - 0s 6ms/step - loss: 6477.3857 - mean_absolute_error: 6477.3857 - val_loss: 5790.0972 - val_mean_absolute_error: 5790.0972\n",
            "Epoch 79/100\n",
            "31/31 [==============================] - 0s 5ms/step - loss: 6465.8691 - mean_absolute_error: 6465.8691 - val_loss: 5779.3623 - val_mean_absolute_error: 5779.3623\n",
            "Epoch 80/100\n",
            "31/31 [==============================] - 0s 5ms/step - loss: 6461.2559 - mean_absolute_error: 6461.2559 - val_loss: 5783.5913 - val_mean_absolute_error: 5783.5913\n",
            "Epoch 81/100\n",
            "31/31 [==============================] - 0s 5ms/step - loss: 6455.8223 - mean_absolute_error: 6455.8223 - val_loss: 5769.6318 - val_mean_absolute_error: 5769.6318\n",
            "Epoch 82/100\n",
            "31/31 [==============================] - 0s 5ms/step - loss: 6449.5498 - mean_absolute_error: 6449.5498 - val_loss: 5765.8369 - val_mean_absolute_error: 5765.8369\n",
            "Epoch 83/100\n",
            "31/31 [==============================] - 0s 5ms/step - loss: 6448.3301 - mean_absolute_error: 6448.3301 - val_loss: 5768.1343 - val_mean_absolute_error: 5768.1343\n",
            "Epoch 84/100\n",
            "31/31 [==============================] - 0s 5ms/step - loss: 6438.2041 - mean_absolute_error: 6438.2041 - val_loss: 5754.2729 - val_mean_absolute_error: 5754.2729\n",
            "Epoch 85/100\n",
            "31/31 [==============================] - 0s 6ms/step - loss: 6427.1040 - mean_absolute_error: 6427.1040 - val_loss: 5753.3018 - val_mean_absolute_error: 5753.3018\n",
            "Epoch 86/100\n",
            "31/31 [==============================] - 0s 5ms/step - loss: 6420.2246 - mean_absolute_error: 6420.2246 - val_loss: 5743.7773 - val_mean_absolute_error: 5743.7773\n",
            "Epoch 87/100\n",
            "31/31 [==============================] - 0s 5ms/step - loss: 6412.8066 - mean_absolute_error: 6412.8066 - val_loss: 5741.9800 - val_mean_absolute_error: 5741.9800\n",
            "Epoch 88/100\n",
            "31/31 [==============================] - 0s 5ms/step - loss: 6406.5200 - mean_absolute_error: 6406.5200 - val_loss: 5745.8008 - val_mean_absolute_error: 5745.8008\n",
            "Epoch 89/100\n",
            "31/31 [==============================] - 0s 5ms/step - loss: 6398.3394 - mean_absolute_error: 6398.3394 - val_loss: 5728.5454 - val_mean_absolute_error: 5728.5454\n",
            "Epoch 90/100\n",
            "31/31 [==============================] - 0s 6ms/step - loss: 6392.3037 - mean_absolute_error: 6392.3037 - val_loss: 5726.7896 - val_mean_absolute_error: 5726.7896\n",
            "Epoch 91/100\n",
            "31/31 [==============================] - 0s 5ms/step - loss: 6383.7710 - mean_absolute_error: 6383.7710 - val_loss: 5725.3066 - val_mean_absolute_error: 5725.3066\n",
            "Epoch 92/100\n",
            "31/31 [==============================] - 0s 5ms/step - loss: 6381.4624 - mean_absolute_error: 6381.4624 - val_loss: 5712.7358 - val_mean_absolute_error: 5712.7358\n",
            "Epoch 93/100\n",
            "31/31 [==============================] - 0s 5ms/step - loss: 6365.3691 - mean_absolute_error: 6365.3691 - val_loss: 5721.4941 - val_mean_absolute_error: 5721.4941\n",
            "Epoch 94/100\n",
            "31/31 [==============================] - 0s 5ms/step - loss: 6362.5400 - mean_absolute_error: 6362.5400 - val_loss: 5705.9385 - val_mean_absolute_error: 5705.9385\n",
            "Epoch 95/100\n",
            "31/31 [==============================] - 0s 5ms/step - loss: 6358.2686 - mean_absolute_error: 6358.2686 - val_loss: 5696.8325 - val_mean_absolute_error: 5696.8325\n",
            "Epoch 96/100\n",
            "31/31 [==============================] - 0s 6ms/step - loss: 6344.0254 - mean_absolute_error: 6344.0254 - val_loss: 5691.6836 - val_mean_absolute_error: 5691.6836\n",
            "Epoch 97/100\n",
            "31/31 [==============================] - 0s 5ms/step - loss: 6336.6533 - mean_absolute_error: 6336.6533 - val_loss: 5685.6719 - val_mean_absolute_error: 5685.6719\n",
            "Epoch 98/100\n",
            "31/31 [==============================] - 0s 5ms/step - loss: 6327.2715 - mean_absolute_error: 6327.2715 - val_loss: 5682.2393 - val_mean_absolute_error: 5682.2393\n",
            "Epoch 99/100\n",
            "31/31 [==============================] - 0s 5ms/step - loss: 6319.4678 - mean_absolute_error: 6319.4678 - val_loss: 5673.5444 - val_mean_absolute_error: 5673.5444\n",
            "Epoch 100/100\n",
            "31/31 [==============================] - 0s 5ms/step - loss: 6310.5376 - mean_absolute_error: 6310.5376 - val_loss: 5667.8682 - val_mean_absolute_error: 5667.8682\n"
          ]
        }
      ]
    },
    {
      "cell_type": "code",
      "source": [
        "print(history.history.keys())\n",
        "pd.DataFrame(history.history).plot()\n",
        "plt.ylabel(\"loss\")\n",
        "plt.xlabel(\"epochs\")"
      ],
      "metadata": {
        "colab": {
          "base_uri": "https://localhost:8080/",
          "height": 316
        },
        "id": "ZMKBligM8AUf",
        "outputId": "c7baa9d5-a963-4ab3-922e-6fa250df7c74"
      },
      "execution_count": 17,
      "outputs": [
        {
          "output_type": "stream",
          "name": "stdout",
          "text": [
            "dict_keys(['loss', 'mean_absolute_error', 'val_loss', 'val_mean_absolute_error'])\n"
          ]
        },
        {
          "output_type": "execute_result",
          "data": {
            "text/plain": [
              "Text(0.5, 0, 'epochs')"
            ]
          },
          "metadata": {},
          "execution_count": 17
        },
        {
          "output_type": "display_data",
          "data": {
            "image/png": "[encoded data removed]",
            "text/plain": [
              "<Figure size 432x288 with 1 Axes>"
            ]
          },
          "metadata": {
            "needs_background": "light"
          }
        }
      ]
    },
    {
      "cell_type": "code",
      "source": [
        ""
      ],
      "metadata": {
        "id": "-NT4adwU8-v4"
      },
      "execution_count": null,
      "outputs": []
    },
    {
      "cell_type": "code",
      "source": [
        "model.evaluate(X_test,y_test)"
      ],
      "metadata": {
        "colab": {
          "base_uri": "https://localhost:8080/"
        },
        "id": "aX4cdKAk50zx",
        "outputId": "8e5cd799-f2df-4e10-e34f-ebd1a83ca88b"
      },
      "execution_count": 9,
      "outputs": [
        {
          "output_type": "stream",
          "name": "stdout",
          "text": [
            "9/9 [==============================] - 0s 3ms/step - loss: 6105.6729 - mean_absolute_error: 6105.6729\n"
          ]
        },
        {
          "output_type": "execute_result",
          "data": {
            "text/plain": [
              "[6105.6728515625, 6105.6728515625]"
            ]
          },
          "metadata": {},
          "execution_count": 9
        }
      ]
    },
    {
      "cell_type": "code",
      "source": [
        "#plt.scatter(X,y)\n",
        "#plt.show"
      ],
      "metadata": {
        "id": "nE3vvUUfLLiQ"
      },
      "execution_count": 10,
      "outputs": []
    },
    {
      "cell_type": "markdown",
      "source": [
        "### Prepare 3 sets\n",
        "\n",
        "* train -70-80 %\n",
        "* val 10-15 %\n",
        "* test 10-15 %\n"
      ],
      "metadata": {
        "id": "PrRVd4eoLh4Y"
      }
    },
    {
      "cell_type": "code",
      "source": [
        "### How many samples we have\n",
        "#print(len(X))"
      ],
      "metadata": {
        "id": "TFyfkR6FX037"
      },
      "execution_count": 11,
      "outputs": []
    },
    {
      "cell_type": "code",
      "source": [
        "def split_dataset(X,y,val_size=0.2,test_size=0.1,shuffle=True,random_state=42):\n",
        "  N=len(X)\n",
        "  train_size=1.0-test_size-val_size\n",
        "  N_train=N*train_size\n",
        "  N_val=N*val_size\n",
        "  N_test=N*test_size\n",
        "\n",
        "  X_train, X_test, y_train, y_test = train_test_split(X, y, test_size=test_size, random_state=random_state,shuffle=shuffle)\n",
        "  \n",
        "  corrected_val_size=N_val/(N_val+N_train) # corrected value is scaled cause of the first split\n",
        "\n",
        "  X_train, X_val, y_train, y_val = train_test_split(X_train, y_train, test_size=corrected_val_size, random_state=random_state,shuffle=shuffle)\n",
        "\n",
        "  return X_train,X_val, X_test, y_train, y_val, y_test\n"
      ],
      "metadata": {
        "id": "2YgmAmmvUQCp"
      },
      "execution_count": 12,
      "outputs": []
    },
    {
      "cell_type": "code",
      "source": [
        "def plot_predictions(X_test=X_test,y_test=y_test, y_pred=y_pred):\n",
        "  plt.figure(figsize=(10,7))\n",
        "\n",
        "\n",
        "  # Plot training data in blue\n",
        "  plt.scatter(X_test,y_test,c='g',label='Test data')\n",
        "\n",
        "  # Plot training data in blue\n",
        "  plt.scatter(X_test,y_pred,c='r',label='Predicted data')\n",
        "  plt.legend();"
      ],
      "metadata": {
        "id": "_yZ04IOtsGxS",
        "colab": {
          "base_uri": "https://localhost:8080/",
          "height": 247
        },
        "outputId": "314f5fc8-243f-417a-c024-ad4380da83ee"
      },
      "execution_count": 13,
      "outputs": [
        {
          "output_type": "error",
          "ename": "NameError",
          "evalue": "ignored",
          "traceback": [
            "\u001b[0;31m---------------------------------------------------------------------------\u001b[0m",
            "\u001b[0;31mNameError\u001b[0m                                 Traceback (most recent call last)",
            "\u001b[0;32m<ipython-input-13-6b71ab8ebed5>\u001b[0m in \u001b[0;36m<module>\u001b[0;34m()\u001b[0m\n\u001b[0;32m----> 1\u001b[0;31m \u001b[0;32mdef\u001b[0m \u001b[0mplot_predictions\u001b[0m\u001b[0;34m(\u001b[0m\u001b[0mX_test\u001b[0m\u001b[0;34m=\u001b[0m\u001b[0mX_test\u001b[0m\u001b[0;34m,\u001b[0m\u001b[0my_test\u001b[0m\u001b[0;34m=\u001b[0m\u001b[0my_test\u001b[0m\u001b[0;34m,\u001b[0m \u001b[0my_pred\u001b[0m\u001b[0;34m=\u001b[0m\u001b[0my_pred\u001b[0m\u001b[0;34m)\u001b[0m\u001b[0;34m:\u001b[0m\u001b[0;34m\u001b[0m\u001b[0;34m\u001b[0m\u001b[0m\n\u001b[0m\u001b[1;32m      2\u001b[0m   \u001b[0mplt\u001b[0m\u001b[0;34m.\u001b[0m\u001b[0mfigure\u001b[0m\u001b[0;34m(\u001b[0m\u001b[0mfigsize\u001b[0m\u001b[0;34m=\u001b[0m\u001b[0;34m(\u001b[0m\u001b[0;36m10\u001b[0m\u001b[0;34m,\u001b[0m\u001b[0;36m7\u001b[0m\u001b[0;34m)\u001b[0m\u001b[0;34m)\u001b[0m\u001b[0;34m\u001b[0m\u001b[0;34m\u001b[0m\u001b[0m\n\u001b[1;32m      3\u001b[0m \u001b[0;34m\u001b[0m\u001b[0m\n\u001b[1;32m      4\u001b[0m \u001b[0;34m\u001b[0m\u001b[0m\n\u001b[1;32m      5\u001b[0m   \u001b[0;31m# Plot training data in blue\u001b[0m\u001b[0;34m\u001b[0m\u001b[0;34m\u001b[0m\u001b[0;34m\u001b[0m\u001b[0m\n",
            "\u001b[0;31mNameError\u001b[0m: name 'y_pred' is not defined"
          ]
        }
      ]
    },
    {
      "cell_type": "code",
      "source": [
        "\"\"\"\n",
        "X_train,X_val, X_test, y_train, y_val, y_test=split_dataset(X,y,val_size=0.2,test_size=0.1,shuffle=True,random_state=42)\n",
        "print(len(X_train))\n",
        "print(len(X_val))\n",
        "print(len(X_test))\n",
        "\"\"\""
      ],
      "metadata": {
        "id": "cgb1jGjkOs7h"
      },
      "execution_count": null,
      "outputs": []
    },
    {
      "cell_type": "code",
      "source": [
        "\"\"\"\n",
        "# Visualise the data\n",
        "plt.figure(figsize=(10,7))\n",
        "plt.scatter(X_train, y_train,c='b', label=\"Training data\")\n",
        "plt.scatter(X_test, y_test,c='r', label=\"Testing data\")\n",
        "# Show a legend\n",
        "plt.legend()\n",
        "\"\"\""
      ],
      "metadata": {
        "id": "DH8eneWMfK6c"
      },
      "execution_count": null,
      "outputs": []
    },
    {
      "cell_type": "code",
      "source": [
        "\"\"\"\n",
        "model=tf.keras.Sequential(name='Model1')\n",
        "model.add(tf.keras.layers.Dense(5,input_shape=[1],name='Dense1'))\n",
        "model.add(tf.keras.layers.Dense(1,name='Output'))\n",
        "model.summary()\n",
        "\"\"\""
      ],
      "metadata": {
        "id": "CvPQMJa8guFy"
      },
      "execution_count": null,
      "outputs": []
    },
    {
      "cell_type": "code",
      "source": [
        "\"\"\"\n",
        "from tensorflow.keras.utils import plot_model\n",
        "plot_model(model,show_shapes=True)\n",
        "\"\"\""
      ],
      "metadata": {
        "id": "3OQeEk7VpP1M"
      },
      "execution_count": null,
      "outputs": []
    },
    {
      "cell_type": "code",
      "source": [
        "\"\"\"\n",
        "model.compile(loss=tf.keras.losses.mae,\n",
        "              optimizer=tf.keras.optimizers.Adam(lr=0.01),\n",
        "              metrics=['mae'])\n",
        "\"\"\""
      ],
      "metadata": {
        "id": "bfM-QGdmg8Np"
      },
      "execution_count": null,
      "outputs": []
    },
    {
      "cell_type": "code",
      "source": [
        "\"\"\"\n",
        "model.fit(x=X_train,y=y_train,\n",
        "          batch_size=None,\n",
        "          epochs=100)\n",
        "\"\"\""
      ],
      "metadata": {
        "id": "NQLslBowhXf5"
      },
      "execution_count": null,
      "outputs": []
    },
    {
      "cell_type": "code",
      "source": [
        "y_pred=model.predict(x=X_test)"
      ],
      "metadata": {
        "id": "Catl63z9rh2r"
      },
      "execution_count": null,
      "outputs": []
    },
    {
      "cell_type": "code",
      "source": [
        "plot_predictions(X_test=X_test,y_test=y_test, y_pred=y_pred)"
      ],
      "metadata": {
        "id": "fNhBUNp4t1I-"
      },
      "execution_count": null,
      "outputs": []
    },
    {
      "cell_type": "code",
      "source": [
        "# evaluate model\n",
        "model.evaluate(X_test,y_test)"
      ],
      "metadata": {
        "id": "Tc5nx6-QxZK7"
      },
      "execution_count": null,
      "outputs": []
    }
  ]
}