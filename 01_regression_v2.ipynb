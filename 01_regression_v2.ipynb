{
  "nbformat": 4,
  "nbformat_minor": 0,
  "metadata": {
    "colab": {
      "name": "01_regression_v1.ipynb",
      "provenance": [],
      "collapsed_sections": [],
      "authorship_tag": "ABX9TyObLPU9MM+TrRm+HsM/ii0O",
      "include_colab_link": true
    },
    "kernelspec": {
      "name": "python3",
      "display_name": "Python 3"
    },
    "language_info": {
      "name": "python"
    },
    "accelerator": "GPU"
  },
  "cells": [
    {
      "cell_type": "markdown",
      "metadata": {
        "id": "view-in-github",
        "colab_type": "text"
      },
      "source": [
        "<a href=\"https://colab.research.google.com/github/PeterPirog/tensorflow-deep-learning/blob/workspace/01_regression_v2.ipynb\" target=\"_parent\"><img src=\"https://colab.research.google.com/assets/colab-badge.svg\" alt=\"Open In Colab\"/></a>"
      ]
    },
    {
      "cell_type": "code",
      "source": [
        "!pip install feature-engine"
      ],
      "metadata": {
        "id": "lG18DPAhz30s",
        "outputId": "d1aeecc7-06df-4c3e-e7d3-fb620ba87d59",
        "colab": {
          "base_uri": "https://localhost:8080/"
        }
      },
      "execution_count": 1,
      "outputs": [
        {
          "output_type": "stream",
          "name": "stdout",
          "text": [
            "Requirement already satisfied: feature-engine in /usr/local/lib/python3.7/dist-packages (1.1.2)\n",
            "Requirement already satisfied: numpy>=1.18.2 in /usr/local/lib/python3.7/dist-packages (from feature-engine) (1.19.5)\n",
            "Requirement already satisfied: pandas>=1.0.3 in /usr/local/lib/python3.7/dist-packages (from feature-engine) (1.1.5)\n",
            "Requirement already satisfied: scikit-learn>=0.22.2 in /usr/local/lib/python3.7/dist-packages (from feature-engine) (1.0.1)\n",
            "Requirement already satisfied: statsmodels>=0.11.1 in /usr/local/lib/python3.7/dist-packages (from feature-engine) (0.13.1)\n",
            "Requirement already satisfied: scipy>=1.4.1 in /usr/local/lib/python3.7/dist-packages (from feature-engine) (1.4.1)\n",
            "Requirement already satisfied: pytz>=2017.2 in /usr/local/lib/python3.7/dist-packages (from pandas>=1.0.3->feature-engine) (2018.9)\n",
            "Requirement already satisfied: python-dateutil>=2.7.3 in /usr/local/lib/python3.7/dist-packages (from pandas>=1.0.3->feature-engine) (2.8.2)\n",
            "Requirement already satisfied: six>=1.5 in /usr/local/lib/python3.7/dist-packages (from python-dateutil>=2.7.3->pandas>=1.0.3->feature-engine) (1.15.0)\n",
            "Requirement already satisfied: joblib>=0.11 in /usr/local/lib/python3.7/dist-packages (from scikit-learn>=0.22.2->feature-engine) (1.1.0)\n",
            "Requirement already satisfied: threadpoolctl>=2.0.0 in /usr/local/lib/python3.7/dist-packages (from scikit-learn>=0.22.2->feature-engine) (3.0.0)\n",
            "Requirement already satisfied: patsy>=0.5.2 in /usr/local/lib/python3.7/dist-packages (from statsmodels>=0.11.1->feature-engine) (0.5.2)\n"
          ]
        }
      ]
    },
    {
      "cell_type": "code",
      "execution_count": 2,
      "metadata": {
        "id": "hfPkTSSGJu8D"
      },
      "outputs": [],
      "source": [
        "# Tensorflow\n",
        "import tensorflow as tf\n",
        "tf.random.set_seed(42)\n",
        "\n",
        "#Feature engine\n",
        "from feature_engine.encoding import MeanEncoder\n",
        "from feature_engine.wrappers import SklearnTransformerWrapper\n",
        "\n",
        "#Sklearn\n",
        "from sklearn.model_selection import train_test_split\n",
        "from sklearn.pipeline import Pipeline\n",
        "from sklearn.preprocessing import StandardScaler\n",
        "\n",
        "\n",
        "import pandas as pd\n",
        "import numpy as np\n",
        "\n",
        "\n",
        "import matplotlib.pyplot as plt"
      ]
    },
    {
      "cell_type": "code",
      "source": [
        "df=pd.pandas.read_csv('https://raw.githubusercontent.com/stedy/Machine-Learning-with-R-datasets/master/insurance.csv')\n",
        "df.head()"
      ],
      "metadata": {
        "colab": {
          "base_uri": "https://localhost:8080/",
          "height": 206
        },
        "id": "DjDzDipwK6YQ",
        "outputId": "d9b10d97-925d-4784-a89a-1868733461e8"
      },
      "execution_count": 3,
      "outputs": [
        {
          "output_type": "execute_result",
          "data": {
            "text/html": [
              "\n",
              "  <div id=\"df-ddc428df-2ca0-4765-968e-5aa93fb2b7ae\">\n",
              "    <div class=\"colab-df-container\">\n",
              "      <div>\n",
              "<style scoped>\n",
              "    .dataframe tbody tr th:only-of-type {\n",
              "        vertical-align: middle;\n",
              "    }\n",
              "\n",
              "    .dataframe tbody tr th {\n",
              "        vertical-align: top;\n",
              "    }\n",
              "\n",
              "    .dataframe thead th {\n",
              "        text-align: right;\n",
              "    }\n",
              "</style>\n",
              "<table border=\"1\" class=\"dataframe\">\n",
              "  <thead>\n",
              "    <tr style=\"text-align: right;\">\n",
              "      <th></th>\n",
              "      <th>age</th>\n",
              "      <th>sex</th>\n",
              "      <th>bmi</th>\n",
              "      <th>children</th>\n",
              "      <th>smoker</th>\n",
              "      <th>region</th>\n",
              "      <th>charges</th>\n",
              "    </tr>\n",
              "  </thead>\n",
              "  <tbody>\n",
              "    <tr>\n",
              "      <th>0</th>\n",
              "      <td>19</td>\n",
              "      <td>female</td>\n",
              "      <td>27.900</td>\n",
              "      <td>0</td>\n",
              "      <td>yes</td>\n",
              "      <td>southwest</td>\n",
              "      <td>16884.92400</td>\n",
              "    </tr>\n",
              "    <tr>\n",
              "      <th>1</th>\n",
              "      <td>18</td>\n",
              "      <td>male</td>\n",
              "      <td>33.770</td>\n",
              "      <td>1</td>\n",
              "      <td>no</td>\n",
              "      <td>southeast</td>\n",
              "      <td>1725.55230</td>\n",
              "    </tr>\n",
              "    <tr>\n",
              "      <th>2</th>\n",
              "      <td>28</td>\n",
              "      <td>male</td>\n",
              "      <td>33.000</td>\n",
              "      <td>3</td>\n",
              "      <td>no</td>\n",
              "      <td>southeast</td>\n",
              "      <td>4449.46200</td>\n",
              "    </tr>\n",
              "    <tr>\n",
              "      <th>3</th>\n",
              "      <td>33</td>\n",
              "      <td>male</td>\n",
              "      <td>22.705</td>\n",
              "      <td>0</td>\n",
              "      <td>no</td>\n",
              "      <td>northwest</td>\n",
              "      <td>21984.47061</td>\n",
              "    </tr>\n",
              "    <tr>\n",
              "      <th>4</th>\n",
              "      <td>32</td>\n",
              "      <td>male</td>\n",
              "      <td>28.880</td>\n",
              "      <td>0</td>\n",
              "      <td>no</td>\n",
              "      <td>northwest</td>\n",
              "      <td>3866.85520</td>\n",
              "    </tr>\n",
              "  </tbody>\n",
              "</table>\n",
              "</div>\n",
              "      <button class=\"colab-df-convert\" onclick=\"convertToInteractive('df-ddc428df-2ca0-4765-968e-5aa93fb2b7ae')\"\n",
              "              title=\"Convert this dataframe to an interactive table.\"\n",
              "              style=\"display:none;\">\n",
              "        \n",
              "  <svg xmlns=\"http://www.w3.org/2000/svg\" height=\"24px\"viewBox=\"0 0 24 24\"\n",
              "       width=\"24px\">\n",
              "    <path d=\"M0 0h24v24H0V0z\" fill=\"none\"/>\n",
              "    <path d=\"M18.56 5.44l.94 2.06.94-2.06 2.06-.94-2.06-.94-.94-2.06-.94 2.06-2.06.94zm-11 1L8.5 8.5l.94-2.06 2.06-.94-2.06-.94L8.5 2.5l-.94 2.06-2.06.94zm10 10l.94 2.06.94-2.06 2.06-.94-2.06-.94-.94-2.06-.94 2.06-2.06.94z\"/><path d=\"M17.41 7.96l-1.37-1.37c-.4-.4-.92-.59-1.43-.59-.52 0-1.04.2-1.43.59L10.3 9.45l-7.72 7.72c-.78.78-.78 2.05 0 2.83L4 21.41c.39.39.9.59 1.41.59.51 0 1.02-.2 1.41-.59l7.78-7.78 2.81-2.81c.8-.78.8-2.07 0-2.86zM5.41 20L4 18.59l7.72-7.72 1.47 1.35L5.41 20z\"/>\n",
              "  </svg>\n",
              "      </button>\n",
              "      \n",
              "  <style>\n",
              "    .colab-df-container {\n",
              "      display:flex;\n",
              "      flex-wrap:wrap;\n",
              "      gap: 12px;\n",
              "    }\n",
              "\n",
              "    .colab-df-convert {\n",
              "      background-color: #E8F0FE;\n",
              "      border: none;\n",
              "      border-radius: 50%;\n",
              "      cursor: pointer;\n",
              "      display: none;\n",
              "      fill: #1967D2;\n",
              "      height: 32px;\n",
              "      padding: 0 0 0 0;\n",
              "      width: 32px;\n",
              "    }\n",
              "\n",
              "    .colab-df-convert:hover {\n",
              "      background-color: #E2EBFA;\n",
              "      box-shadow: 0px 1px 2px rgba(60, 64, 67, 0.3), 0px 1px 3px 1px rgba(60, 64, 67, 0.15);\n",
              "      fill: #174EA6;\n",
              "    }\n",
              "\n",
              "    [theme=dark] .colab-df-convert {\n",
              "      background-color: #3B4455;\n",
              "      fill: #D2E3FC;\n",
              "    }\n",
              "\n",
              "    [theme=dark] .colab-df-convert:hover {\n",
              "      background-color: #434B5C;\n",
              "      box-shadow: 0px 1px 3px 1px rgba(0, 0, 0, 0.15);\n",
              "      filter: drop-shadow(0px 1px 2px rgba(0, 0, 0, 0.3));\n",
              "      fill: #FFFFFF;\n",
              "    }\n",
              "  </style>\n",
              "\n",
              "      <script>\n",
              "        const buttonEl =\n",
              "          document.querySelector('#df-ddc428df-2ca0-4765-968e-5aa93fb2b7ae button.colab-df-convert');\n",
              "        buttonEl.style.display =\n",
              "          google.colab.kernel.accessAllowed ? 'block' : 'none';\n",
              "\n",
              "        async function convertToInteractive(key) {\n",
              "          const element = document.querySelector('#df-ddc428df-2ca0-4765-968e-5aa93fb2b7ae');\n",
              "          const dataTable =\n",
              "            await google.colab.kernel.invokeFunction('convertToInteractive',\n",
              "                                                     [key], {});\n",
              "          if (!dataTable) return;\n",
              "\n",
              "          const docLinkHtml = 'Like what you see? Visit the ' +\n",
              "            '<a target=\"_blank\" href=https://colab.research.google.com/notebooks/data_table.ipynb>data table notebook</a>'\n",
              "            + ' to learn more about interactive tables.';\n",
              "          element.innerHTML = '';\n",
              "          dataTable['output_type'] = 'display_data';\n",
              "          await google.colab.output.renderOutput(dataTable, element);\n",
              "          const docLink = document.createElement('div');\n",
              "          docLink.innerHTML = docLinkHtml;\n",
              "          element.appendChild(docLink);\n",
              "        }\n",
              "      </script>\n",
              "    </div>\n",
              "  </div>\n",
              "  "
            ],
            "text/plain": [
              "   age     sex     bmi  children smoker     region      charges\n",
              "0   19  female  27.900         0    yes  southwest  16884.92400\n",
              "1   18    male  33.770         1     no  southeast   1725.55230\n",
              "2   28    male  33.000         3     no  southeast   4449.46200\n",
              "3   33    male  22.705         0     no  northwest  21984.47061\n",
              "4   32    male  28.880         0     no  northwest   3866.85520"
            ]
          },
          "metadata": {},
          "execution_count": 3
        }
      ]
    },
    {
      "cell_type": "code",
      "source": [
        "#Prepare X and y values\n",
        "X=df.drop('charges',axis=1)\n",
        "y=df['charges']\n",
        "X.head()"
      ],
      "metadata": {
        "colab": {
          "base_uri": "https://localhost:8080/",
          "height": 206
        },
        "id": "8IhYIH0_1aBv",
        "outputId": "211e03c0-66f6-4073-817b-7c7d87f76eb2"
      },
      "execution_count": 4,
      "outputs": [
        {
          "output_type": "execute_result",
          "data": {
            "text/html": [
              "\n",
              "  <div id=\"df-274367d6-653e-407b-be9d-f10238da1bb8\">\n",
              "    <div class=\"colab-df-container\">\n",
              "      <div>\n",
              "<style scoped>\n",
              "    .dataframe tbody tr th:only-of-type {\n",
              "        vertical-align: middle;\n",
              "    }\n",
              "\n",
              "    .dataframe tbody tr th {\n",
              "        vertical-align: top;\n",
              "    }\n",
              "\n",
              "    .dataframe thead th {\n",
              "        text-align: right;\n",
              "    }\n",
              "</style>\n",
              "<table border=\"1\" class=\"dataframe\">\n",
              "  <thead>\n",
              "    <tr style=\"text-align: right;\">\n",
              "      <th></th>\n",
              "      <th>age</th>\n",
              "      <th>sex</th>\n",
              "      <th>bmi</th>\n",
              "      <th>children</th>\n",
              "      <th>smoker</th>\n",
              "      <th>region</th>\n",
              "    </tr>\n",
              "  </thead>\n",
              "  <tbody>\n",
              "    <tr>\n",
              "      <th>0</th>\n",
              "      <td>19</td>\n",
              "      <td>female</td>\n",
              "      <td>27.900</td>\n",
              "      <td>0</td>\n",
              "      <td>yes</td>\n",
              "      <td>southwest</td>\n",
              "    </tr>\n",
              "    <tr>\n",
              "      <th>1</th>\n",
              "      <td>18</td>\n",
              "      <td>male</td>\n",
              "      <td>33.770</td>\n",
              "      <td>1</td>\n",
              "      <td>no</td>\n",
              "      <td>southeast</td>\n",
              "    </tr>\n",
              "    <tr>\n",
              "      <th>2</th>\n",
              "      <td>28</td>\n",
              "      <td>male</td>\n",
              "      <td>33.000</td>\n",
              "      <td>3</td>\n",
              "      <td>no</td>\n",
              "      <td>southeast</td>\n",
              "    </tr>\n",
              "    <tr>\n",
              "      <th>3</th>\n",
              "      <td>33</td>\n",
              "      <td>male</td>\n",
              "      <td>22.705</td>\n",
              "      <td>0</td>\n",
              "      <td>no</td>\n",
              "      <td>northwest</td>\n",
              "    </tr>\n",
              "    <tr>\n",
              "      <th>4</th>\n",
              "      <td>32</td>\n",
              "      <td>male</td>\n",
              "      <td>28.880</td>\n",
              "      <td>0</td>\n",
              "      <td>no</td>\n",
              "      <td>northwest</td>\n",
              "    </tr>\n",
              "  </tbody>\n",
              "</table>\n",
              "</div>\n",
              "      <button class=\"colab-df-convert\" onclick=\"convertToInteractive('df-274367d6-653e-407b-be9d-f10238da1bb8')\"\n",
              "              title=\"Convert this dataframe to an interactive table.\"\n",
              "              style=\"display:none;\">\n",
              "        \n",
              "  <svg xmlns=\"http://www.w3.org/2000/svg\" height=\"24px\"viewBox=\"0 0 24 24\"\n",
              "       width=\"24px\">\n",
              "    <path d=\"M0 0h24v24H0V0z\" fill=\"none\"/>\n",
              "    <path d=\"M18.56 5.44l.94 2.06.94-2.06 2.06-.94-2.06-.94-.94-2.06-.94 2.06-2.06.94zm-11 1L8.5 8.5l.94-2.06 2.06-.94-2.06-.94L8.5 2.5l-.94 2.06-2.06.94zm10 10l.94 2.06.94-2.06 2.06-.94-2.06-.94-.94-2.06-.94 2.06-2.06.94z\"/><path d=\"M17.41 7.96l-1.37-1.37c-.4-.4-.92-.59-1.43-.59-.52 0-1.04.2-1.43.59L10.3 9.45l-7.72 7.72c-.78.78-.78 2.05 0 2.83L4 21.41c.39.39.9.59 1.41.59.51 0 1.02-.2 1.41-.59l7.78-7.78 2.81-2.81c.8-.78.8-2.07 0-2.86zM5.41 20L4 18.59l7.72-7.72 1.47 1.35L5.41 20z\"/>\n",
              "  </svg>\n",
              "      </button>\n",
              "      \n",
              "  <style>\n",
              "    .colab-df-container {\n",
              "      display:flex;\n",
              "      flex-wrap:wrap;\n",
              "      gap: 12px;\n",
              "    }\n",
              "\n",
              "    .colab-df-convert {\n",
              "      background-color: #E8F0FE;\n",
              "      border: none;\n",
              "      border-radius: 50%;\n",
              "      cursor: pointer;\n",
              "      display: none;\n",
              "      fill: #1967D2;\n",
              "      height: 32px;\n",
              "      padding: 0 0 0 0;\n",
              "      width: 32px;\n",
              "    }\n",
              "\n",
              "    .colab-df-convert:hover {\n",
              "      background-color: #E2EBFA;\n",
              "      box-shadow: 0px 1px 2px rgba(60, 64, 67, 0.3), 0px 1px 3px 1px rgba(60, 64, 67, 0.15);\n",
              "      fill: #174EA6;\n",
              "    }\n",
              "\n",
              "    [theme=dark] .colab-df-convert {\n",
              "      background-color: #3B4455;\n",
              "      fill: #D2E3FC;\n",
              "    }\n",
              "\n",
              "    [theme=dark] .colab-df-convert:hover {\n",
              "      background-color: #434B5C;\n",
              "      box-shadow: 0px 1px 3px 1px rgba(0, 0, 0, 0.15);\n",
              "      filter: drop-shadow(0px 1px 2px rgba(0, 0, 0, 0.3));\n",
              "      fill: #FFFFFF;\n",
              "    }\n",
              "  </style>\n",
              "\n",
              "      <script>\n",
              "        const buttonEl =\n",
              "          document.querySelector('#df-274367d6-653e-407b-be9d-f10238da1bb8 button.colab-df-convert');\n",
              "        buttonEl.style.display =\n",
              "          google.colab.kernel.accessAllowed ? 'block' : 'none';\n",
              "\n",
              "        async function convertToInteractive(key) {\n",
              "          const element = document.querySelector('#df-274367d6-653e-407b-be9d-f10238da1bb8');\n",
              "          const dataTable =\n",
              "            await google.colab.kernel.invokeFunction('convertToInteractive',\n",
              "                                                     [key], {});\n",
              "          if (!dataTable) return;\n",
              "\n",
              "          const docLinkHtml = 'Like what you see? Visit the ' +\n",
              "            '<a target=\"_blank\" href=https://colab.research.google.com/notebooks/data_table.ipynb>data table notebook</a>'\n",
              "            + ' to learn more about interactive tables.';\n",
              "          element.innerHTML = '';\n",
              "          dataTable['output_type'] = 'display_data';\n",
              "          await google.colab.output.renderOutput(dataTable, element);\n",
              "          const docLink = document.createElement('div');\n",
              "          docLink.innerHTML = docLinkHtml;\n",
              "          element.appendChild(docLink);\n",
              "        }\n",
              "      </script>\n",
              "    </div>\n",
              "  </div>\n",
              "  "
            ],
            "text/plain": [
              "   age     sex     bmi  children smoker     region\n",
              "0   19  female  27.900         0    yes  southwest\n",
              "1   18    male  33.770         1     no  southeast\n",
              "2   28    male  33.000         3     no  southeast\n",
              "3   33    male  22.705         0     no  northwest\n",
              "4   32    male  28.880         0     no  northwest"
            ]
          },
          "metadata": {},
          "execution_count": 4
        }
      ]
    },
    {
      "cell_type": "code",
      "source": [
        "# Split dataset\n",
        "X_train, X_test, y_train, y_test = train_test_split(X, y, test_size=0.2, random_state=42,shuffle=True)\n",
        "X_train.head()"
      ],
      "metadata": {
        "colab": {
          "base_uri": "https://localhost:8080/",
          "height": 206
        },
        "id": "i7UM05m83_NZ",
        "outputId": "9bb78ec2-aec2-4c4d-e84a-1f90a749e4c2"
      },
      "execution_count": 5,
      "outputs": [
        {
          "output_type": "execute_result",
          "data": {
            "text/html": [
              "\n",
              "  <div id=\"df-aba5747b-647a-4a4b-96c4-81833854e923\">\n",
              "    <div class=\"colab-df-container\">\n",
              "      <div>\n",
              "<style scoped>\n",
              "    .dataframe tbody tr th:only-of-type {\n",
              "        vertical-align: middle;\n",
              "    }\n",
              "\n",
              "    .dataframe tbody tr th {\n",
              "        vertical-align: top;\n",
              "    }\n",
              "\n",
              "    .dataframe thead th {\n",
              "        text-align: right;\n",
              "    }\n",
              "</style>\n",
              "<table border=\"1\" class=\"dataframe\">\n",
              "  <thead>\n",
              "    <tr style=\"text-align: right;\">\n",
              "      <th></th>\n",
              "      <th>age</th>\n",
              "      <th>sex</th>\n",
              "      <th>bmi</th>\n",
              "      <th>children</th>\n",
              "      <th>smoker</th>\n",
              "      <th>region</th>\n",
              "    </tr>\n",
              "  </thead>\n",
              "  <tbody>\n",
              "    <tr>\n",
              "      <th>560</th>\n",
              "      <td>46</td>\n",
              "      <td>female</td>\n",
              "      <td>19.95</td>\n",
              "      <td>2</td>\n",
              "      <td>no</td>\n",
              "      <td>northwest</td>\n",
              "    </tr>\n",
              "    <tr>\n",
              "      <th>1285</th>\n",
              "      <td>47</td>\n",
              "      <td>female</td>\n",
              "      <td>24.32</td>\n",
              "      <td>0</td>\n",
              "      <td>no</td>\n",
              "      <td>northeast</td>\n",
              "    </tr>\n",
              "    <tr>\n",
              "      <th>1142</th>\n",
              "      <td>52</td>\n",
              "      <td>female</td>\n",
              "      <td>24.86</td>\n",
              "      <td>0</td>\n",
              "      <td>no</td>\n",
              "      <td>southeast</td>\n",
              "    </tr>\n",
              "    <tr>\n",
              "      <th>969</th>\n",
              "      <td>39</td>\n",
              "      <td>female</td>\n",
              "      <td>34.32</td>\n",
              "      <td>5</td>\n",
              "      <td>no</td>\n",
              "      <td>southeast</td>\n",
              "    </tr>\n",
              "    <tr>\n",
              "      <th>486</th>\n",
              "      <td>54</td>\n",
              "      <td>female</td>\n",
              "      <td>21.47</td>\n",
              "      <td>3</td>\n",
              "      <td>no</td>\n",
              "      <td>northwest</td>\n",
              "    </tr>\n",
              "  </tbody>\n",
              "</table>\n",
              "</div>\n",
              "      <button class=\"colab-df-convert\" onclick=\"convertToInteractive('df-aba5747b-647a-4a4b-96c4-81833854e923')\"\n",
              "              title=\"Convert this dataframe to an interactive table.\"\n",
              "              style=\"display:none;\">\n",
              "        \n",
              "  <svg xmlns=\"http://www.w3.org/2000/svg\" height=\"24px\"viewBox=\"0 0 24 24\"\n",
              "       width=\"24px\">\n",
              "    <path d=\"M0 0h24v24H0V0z\" fill=\"none\"/>\n",
              "    <path d=\"M18.56 5.44l.94 2.06.94-2.06 2.06-.94-2.06-.94-.94-2.06-.94 2.06-2.06.94zm-11 1L8.5 8.5l.94-2.06 2.06-.94-2.06-.94L8.5 2.5l-.94 2.06-2.06.94zm10 10l.94 2.06.94-2.06 2.06-.94-2.06-.94-.94-2.06-.94 2.06-2.06.94z\"/><path d=\"M17.41 7.96l-1.37-1.37c-.4-.4-.92-.59-1.43-.59-.52 0-1.04.2-1.43.59L10.3 9.45l-7.72 7.72c-.78.78-.78 2.05 0 2.83L4 21.41c.39.39.9.59 1.41.59.51 0 1.02-.2 1.41-.59l7.78-7.78 2.81-2.81c.8-.78.8-2.07 0-2.86zM5.41 20L4 18.59l7.72-7.72 1.47 1.35L5.41 20z\"/>\n",
              "  </svg>\n",
              "      </button>\n",
              "      \n",
              "  <style>\n",
              "    .colab-df-container {\n",
              "      display:flex;\n",
              "      flex-wrap:wrap;\n",
              "      gap: 12px;\n",
              "    }\n",
              "\n",
              "    .colab-df-convert {\n",
              "      background-color: #E8F0FE;\n",
              "      border: none;\n",
              "      border-radius: 50%;\n",
              "      cursor: pointer;\n",
              "      display: none;\n",
              "      fill: #1967D2;\n",
              "      height: 32px;\n",
              "      padding: 0 0 0 0;\n",
              "      width: 32px;\n",
              "    }\n",
              "\n",
              "    .colab-df-convert:hover {\n",
              "      background-color: #E2EBFA;\n",
              "      box-shadow: 0px 1px 2px rgba(60, 64, 67, 0.3), 0px 1px 3px 1px rgba(60, 64, 67, 0.15);\n",
              "      fill: #174EA6;\n",
              "    }\n",
              "\n",
              "    [theme=dark] .colab-df-convert {\n",
              "      background-color: #3B4455;\n",
              "      fill: #D2E3FC;\n",
              "    }\n",
              "\n",
              "    [theme=dark] .colab-df-convert:hover {\n",
              "      background-color: #434B5C;\n",
              "      box-shadow: 0px 1px 3px 1px rgba(0, 0, 0, 0.15);\n",
              "      filter: drop-shadow(0px 1px 2px rgba(0, 0, 0, 0.3));\n",
              "      fill: #FFFFFF;\n",
              "    }\n",
              "  </style>\n",
              "\n",
              "      <script>\n",
              "        const buttonEl =\n",
              "          document.querySelector('#df-aba5747b-647a-4a4b-96c4-81833854e923 button.colab-df-convert');\n",
              "        buttonEl.style.display =\n",
              "          google.colab.kernel.accessAllowed ? 'block' : 'none';\n",
              "\n",
              "        async function convertToInteractive(key) {\n",
              "          const element = document.querySelector('#df-aba5747b-647a-4a4b-96c4-81833854e923');\n",
              "          const dataTable =\n",
              "            await google.colab.kernel.invokeFunction('convertToInteractive',\n",
              "                                                     [key], {});\n",
              "          if (!dataTable) return;\n",
              "\n",
              "          const docLinkHtml = 'Like what you see? Visit the ' +\n",
              "            '<a target=\"_blank\" href=https://colab.research.google.com/notebooks/data_table.ipynb>data table notebook</a>'\n",
              "            + ' to learn more about interactive tables.';\n",
              "          element.innerHTML = '';\n",
              "          dataTable['output_type'] = 'display_data';\n",
              "          await google.colab.output.renderOutput(dataTable, element);\n",
              "          const docLink = document.createElement('div');\n",
              "          docLink.innerHTML = docLinkHtml;\n",
              "          element.appendChild(docLink);\n",
              "        }\n",
              "      </script>\n",
              "    </div>\n",
              "  </div>\n",
              "  "
            ],
            "text/plain": [
              "      age     sex    bmi  children smoker     region\n",
              "560    46  female  19.95         2     no  northwest\n",
              "1285   47  female  24.32         0     no  northeast\n",
              "1142   52  female  24.86         0     no  southeast\n",
              "969    39  female  34.32         5     no  southeast\n",
              "486    54  female  21.47         3     no  northwest"
            ]
          },
          "metadata": {},
          "execution_count": 5
        }
      ]
    },
    {
      "cell_type": "code",
      "source": [
        "pipe = Pipeline([\n",
        "                 #https://feature-engine.readthedocs.io/en/1.1.x/encoding/MeanEncoder.html\n",
        "                 ('MeanEncoder', MeanEncoder(variables=['sex', 'smoker', 'region'])),\n",
        "                 ('Scaler',SklearnTransformerWrapper(transformer = StandardScaler(),\n",
        "                                                     variables = None))\n",
        "                 ])"
      ],
      "metadata": {
        "id": "Y_9He3ecSP97"
      },
      "execution_count": 6,
      "outputs": []
    },
    {
      "cell_type": "code",
      "source": [
        "X_train_enc=pipe.fit_transform(X_train, y_train)\n",
        "X_test_enc=pipe.transform(X_test)\n",
        "X_train_enc.head()"
      ],
      "metadata": {
        "id": "6P6qO9q43DfM",
        "outputId": "de25fe8d-0907-4df7-84a3-3f7959ecb845",
        "colab": {
          "base_uri": "https://localhost:8080/",
          "height": 206
        }
      },
      "execution_count": 7,
      "outputs": [
        {
          "output_type": "execute_result",
          "data": {
            "text/html": [
              "\n",
              "  <div id=\"df-7f7bcd32-3f3b-4e7a-9304-932c2a70ce98\">\n",
              "    <div class=\"colab-df-container\">\n",
              "      <div>\n",
              "<style scoped>\n",
              "    .dataframe tbody tr th:only-of-type {\n",
              "        vertical-align: middle;\n",
              "    }\n",
              "\n",
              "    .dataframe tbody tr th {\n",
              "        vertical-align: top;\n",
              "    }\n",
              "\n",
              "    .dataframe thead th {\n",
              "        text-align: right;\n",
              "    }\n",
              "</style>\n",
              "<table border=\"1\" class=\"dataframe\">\n",
              "  <thead>\n",
              "    <tr style=\"text-align: right;\">\n",
              "      <th></th>\n",
              "      <th>age</th>\n",
              "      <th>sex</th>\n",
              "      <th>bmi</th>\n",
              "      <th>children</th>\n",
              "      <th>smoker</th>\n",
              "      <th>region</th>\n",
              "    </tr>\n",
              "  </thead>\n",
              "  <tbody>\n",
              "    <tr>\n",
              "      <th>560</th>\n",
              "      <td>0.472227</td>\n",
              "      <td>-1.024602</td>\n",
              "      <td>-1.756525</td>\n",
              "      <td>0.734336</td>\n",
              "      <td>-0.508747</td>\n",
              "      <td>-0.839999</td>\n",
              "    </tr>\n",
              "    <tr>\n",
              "      <th>1285</th>\n",
              "      <td>0.543313</td>\n",
              "      <td>-1.024602</td>\n",
              "      <td>-1.033082</td>\n",
              "      <td>-0.911192</td>\n",
              "      <td>-0.508747</td>\n",
              "      <td>-0.015186</td>\n",
              "    </tr>\n",
              "    <tr>\n",
              "      <th>1142</th>\n",
              "      <td>0.898745</td>\n",
              "      <td>-1.024602</td>\n",
              "      <td>-0.943687</td>\n",
              "      <td>-0.911192</td>\n",
              "      <td>-0.508747</td>\n",
              "      <td>1.569715</td>\n",
              "    </tr>\n",
              "    <tr>\n",
              "      <th>969</th>\n",
              "      <td>-0.025379</td>\n",
              "      <td>-1.024602</td>\n",
              "      <td>0.622393</td>\n",
              "      <td>3.202629</td>\n",
              "      <td>-0.508747</td>\n",
              "      <td>1.569715</td>\n",
              "    </tr>\n",
              "    <tr>\n",
              "      <th>486</th>\n",
              "      <td>1.040918</td>\n",
              "      <td>-1.024602</td>\n",
              "      <td>-1.504893</td>\n",
              "      <td>1.557100</td>\n",
              "      <td>-0.508747</td>\n",
              "      <td>-0.839999</td>\n",
              "    </tr>\n",
              "  </tbody>\n",
              "</table>\n",
              "</div>\n",
              "      <button class=\"colab-df-convert\" onclick=\"convertToInteractive('df-7f7bcd32-3f3b-4e7a-9304-932c2a70ce98')\"\n",
              "              title=\"Convert this dataframe to an interactive table.\"\n",
              "              style=\"display:none;\">\n",
              "        \n",
              "  <svg xmlns=\"http://www.w3.org/2000/svg\" height=\"24px\"viewBox=\"0 0 24 24\"\n",
              "       width=\"24px\">\n",
              "    <path d=\"M0 0h24v24H0V0z\" fill=\"none\"/>\n",
              "    <path d=\"M18.56 5.44l.94 2.06.94-2.06 2.06-.94-2.06-.94-.94-2.06-.94 2.06-2.06.94zm-11 1L8.5 8.5l.94-2.06 2.06-.94-2.06-.94L8.5 2.5l-.94 2.06-2.06.94zm10 10l.94 2.06.94-2.06 2.06-.94-2.06-.94-.94-2.06-.94 2.06-2.06.94z\"/><path d=\"M17.41 7.96l-1.37-1.37c-.4-.4-.92-.59-1.43-.59-.52 0-1.04.2-1.43.59L10.3 9.45l-7.72 7.72c-.78.78-.78 2.05 0 2.83L4 21.41c.39.39.9.59 1.41.59.51 0 1.02-.2 1.41-.59l7.78-7.78 2.81-2.81c.8-.78.8-2.07 0-2.86zM5.41 20L4 18.59l7.72-7.72 1.47 1.35L5.41 20z\"/>\n",
              "  </svg>\n",
              "      </button>\n",
              "      \n",
              "  <style>\n",
              "    .colab-df-container {\n",
              "      display:flex;\n",
              "      flex-wrap:wrap;\n",
              "      gap: 12px;\n",
              "    }\n",
              "\n",
              "    .colab-df-convert {\n",
              "      background-color: #E8F0FE;\n",
              "      border: none;\n",
              "      border-radius: 50%;\n",
              "      cursor: pointer;\n",
              "      display: none;\n",
              "      fill: #1967D2;\n",
              "      height: 32px;\n",
              "      padding: 0 0 0 0;\n",
              "      width: 32px;\n",
              "    }\n",
              "\n",
              "    .colab-df-convert:hover {\n",
              "      background-color: #E2EBFA;\n",
              "      box-shadow: 0px 1px 2px rgba(60, 64, 67, 0.3), 0px 1px 3px 1px rgba(60, 64, 67, 0.15);\n",
              "      fill: #174EA6;\n",
              "    }\n",
              "\n",
              "    [theme=dark] .colab-df-convert {\n",
              "      background-color: #3B4455;\n",
              "      fill: #D2E3FC;\n",
              "    }\n",
              "\n",
              "    [theme=dark] .colab-df-convert:hover {\n",
              "      background-color: #434B5C;\n",
              "      box-shadow: 0px 1px 3px 1px rgba(0, 0, 0, 0.15);\n",
              "      filter: drop-shadow(0px 1px 2px rgba(0, 0, 0, 0.3));\n",
              "      fill: #FFFFFF;\n",
              "    }\n",
              "  </style>\n",
              "\n",
              "      <script>\n",
              "        const buttonEl =\n",
              "          document.querySelector('#df-7f7bcd32-3f3b-4e7a-9304-932c2a70ce98 button.colab-df-convert');\n",
              "        buttonEl.style.display =\n",
              "          google.colab.kernel.accessAllowed ? 'block' : 'none';\n",
              "\n",
              "        async function convertToInteractive(key) {\n",
              "          const element = document.querySelector('#df-7f7bcd32-3f3b-4e7a-9304-932c2a70ce98');\n",
              "          const dataTable =\n",
              "            await google.colab.kernel.invokeFunction('convertToInteractive',\n",
              "                                                     [key], {});\n",
              "          if (!dataTable) return;\n",
              "\n",
              "          const docLinkHtml = 'Like what you see? Visit the ' +\n",
              "            '<a target=\"_blank\" href=https://colab.research.google.com/notebooks/data_table.ipynb>data table notebook</a>'\n",
              "            + ' to learn more about interactive tables.';\n",
              "          element.innerHTML = '';\n",
              "          dataTable['output_type'] = 'display_data';\n",
              "          await google.colab.output.renderOutput(dataTable, element);\n",
              "          const docLink = document.createElement('div');\n",
              "          docLink.innerHTML = docLinkHtml;\n",
              "          element.appendChild(docLink);\n",
              "        }\n",
              "      </script>\n",
              "    </div>\n",
              "  </div>\n",
              "  "
            ],
            "text/plain": [
              "           age       sex       bmi  children    smoker    region\n",
              "560   0.472227 -1.024602 -1.756525  0.734336 -0.508747 -0.839999\n",
              "1285  0.543313 -1.024602 -1.033082 -0.911192 -0.508747 -0.015186\n",
              "1142  0.898745 -1.024602 -0.943687 -0.911192 -0.508747  1.569715\n",
              "969  -0.025379 -1.024602  0.622393  3.202629 -0.508747  1.569715\n",
              "486   1.040918 -1.024602 -1.504893  1.557100 -0.508747 -0.839999"
            ]
          },
          "metadata": {},
          "execution_count": 7
        }
      ]
    },
    {
      "cell_type": "code",
      "source": [
        "X_train_enc.hist(bins=10)"
      ],
      "metadata": {
        "id": "nNFS2nt34y_2",
        "outputId": "5e5cf7a3-d248-40ff-919c-ebc5354f05e5",
        "colab": {
          "base_uri": "https://localhost:8080/",
          "height": 411
        }
      },
      "execution_count": 8,
      "outputs": [
        {
          "output_type": "execute_result",
          "data": {
            "text/plain": [
              "array([[<matplotlib.axes._subplots.AxesSubplot object at 0x7f0322fe4210>,\n",
              "        <matplotlib.axes._subplots.AxesSubplot object at 0x7f0322fb6850>],\n",
              "       [<matplotlib.axes._subplots.AxesSubplot object at 0x7f0322f6de10>,\n",
              "        <matplotlib.axes._subplots.AxesSubplot object at 0x7f0322f2f450>],\n",
              "       [<matplotlib.axes._subplots.AxesSubplot object at 0x7f0322ee5a50>,\n",
              "        <matplotlib.axes._subplots.AxesSubplot object at 0x7f0322e91b90>]],\n",
              "      dtype=object)"
            ]
          },
          "metadata": {},
          "execution_count": 8
        },
        {
          "output_type": "display_data",
          "data": {
            "image/png": "[encoded data removed]",
            "text/plain": [
              "<Figure size 432x288 with 6 Axes>"
            ]
          },
          "metadata": {
            "needs_background": "light"
          }
        }
      ]
    },
    {
      "cell_type": "code",
      "source": [
        "# 1. Create model\n",
        "N=30\n",
        "model=tf.keras.Sequential(name='Model1')\n",
        "model.add(tf.keras.layers.Normalization())\n",
        "model.add(tf.keras.layers.Dense(N,activation=tf.keras.activations.elu, name='Dense1'))\n",
        "model.add(tf.keras.layers.Normalization())\n",
        "model.add(tf.keras.layers.Dropout(rate=0.1))\n",
        "model.add(tf.keras.layers.Dense(N,activation=tf.keras.activations.elu,name='Dense2'))\n",
        "model.add(tf.keras.layers.Normalization())\n",
        "model.add(tf.keras.layers.Dropout(rate=0.1))\n",
        "model.add(tf.keras.layers.Dense(1,activation=tf.keras.activations.elu,name='Output'))\n",
        "\n",
        "# 2. Compile model\n",
        "model.compile(loss=tf.keras.losses.mae,\n",
        "              optimizer=tf.keras.optimizers.Adam(learning_rate=0.01),\n",
        "              metrics=['mae'])"
      ],
      "metadata": {
        "id": "IKleGxcO4hTQ"
      },
      "execution_count": 9,
      "outputs": []
    },
    {
      "cell_type": "code",
      "source": [
        "callbacks=[tf.keras.callbacks.ReduceLROnPlateau(monitor='val_loss',\n",
        "                                                factor=0.5,\n",
        "                                                patience=5),\n",
        "           tf.keras.callbacks.EarlyStopping(monitor='val_loss',\n",
        "                                            patience=10)\n",
        "           \n",
        "]"
      ],
      "metadata": {
        "id": "IPqqhGPp7ScJ"
      },
      "execution_count": 10,
      "outputs": []
    },
    {
      "cell_type": "code",
      "source": [
        "from sklearn.utils import shuffle\n",
        "#3. Model fit\n",
        "history=model.fit(X_train_enc,y_train,epochs=1000,\n",
        "          validation_split=0.1,\n",
        "          shuffle=True,\n",
        "          callbacks=callbacks)\n",
        "#model.summary()"
      ],
      "metadata": {
        "colab": {
          "base_uri": "https://localhost:8080/"
        },
        "id": "1JOn0PxQ5Lav",
        "outputId": "ba7b086e-9aed-4e8f-8944-235ddb9f392f"
      },
      "execution_count": 11,
      "outputs": [
        {
          "output_type": "stream",
          "name": "stdout",
          "text": [
            "Epoch 1/1000\n",
            "31/31 [==============================] - 1s 10ms/step - loss: 13456.4570 - mae: 13456.4570 - val_loss: 12248.2510 - val_mae: 12248.2510 - lr: 0.0100\n",
            "Epoch 2/1000\n",
            "31/31 [==============================] - 0s 3ms/step - loss: 13352.6104 - mae: 13352.6104 - val_loss: 12002.1055 - val_mae: 12002.1055 - lr: 0.0100\n",
            "Epoch 3/1000\n",
            "31/31 [==============================] - 0s 3ms/step - loss: 12882.0352 - mae: 12882.0352 - val_loss: 11144.5244 - val_mae: 11144.5244 - lr: 0.0100\n",
            "Epoch 4/1000\n",
            "31/31 [==============================] - 0s 3ms/step - loss: 11659.9980 - mae: 11659.9980 - val_loss: 9445.4473 - val_mae: 9445.4473 - lr: 0.0100\n",
            "Epoch 5/1000\n",
            "31/31 [==============================] - 0s 3ms/step - loss: 9592.4990 - mae: 9592.4990 - val_loss: 7225.3872 - val_mae: 7225.3872 - lr: 0.0100\n",
            "Epoch 6/1000\n",
            "31/31 [==============================] - 0s 3ms/step - loss: 8202.9180 - mae: 8202.9180 - val_loss: 6922.5083 - val_mae: 6922.5083 - lr: 0.0100\n",
            "Epoch 7/1000\n",
            "31/31 [==============================] - 0s 7ms/step - loss: 8001.5493 - mae: 8001.5493 - val_loss: 6816.6074 - val_mae: 6816.6074 - lr: 0.0100\n",
            "Epoch 8/1000\n",
            "31/31 [==============================] - 0s 5ms/step - loss: 7865.1489 - mae: 7865.1489 - val_loss: 6699.9590 - val_mae: 6699.9590 - lr: 0.0100\n",
            "Epoch 9/1000\n",
            "31/31 [==============================] - 0s 5ms/step - loss: 7699.5908 - mae: 7699.5908 - val_loss: 6578.7759 - val_mae: 6578.7759 - lr: 0.0100\n",
            "Epoch 10/1000\n",
            "31/31 [==============================] - 0s 7ms/step - loss: 7481.2275 - mae: 7481.2275 - val_loss: 6398.3345 - val_mae: 6398.3345 - lr: 0.0100\n",
            "Epoch 11/1000\n",
            "31/31 [==============================] - 0s 6ms/step - loss: 7148.0566 - mae: 7148.0566 - val_loss: 6092.7578 - val_mae: 6092.7578 - lr: 0.0100\n",
            "Epoch 12/1000\n",
            "31/31 [==============================] - 0s 9ms/step - loss: 6695.2476 - mae: 6695.2476 - val_loss: 5738.5405 - val_mae: 5738.5405 - lr: 0.0100\n",
            "Epoch 13/1000\n",
            "31/31 [==============================] - 0s 6ms/step - loss: 6159.0474 - mae: 6159.0474 - val_loss: 5305.6973 - val_mae: 5305.6973 - lr: 0.0100\n",
            "Epoch 14/1000\n",
            "31/31 [==============================] - 0s 6ms/step - loss: 5518.5132 - mae: 5518.5132 - val_loss: 4793.7690 - val_mae: 4793.7690 - lr: 0.0100\n",
            "Epoch 15/1000\n",
            "31/31 [==============================] - 0s 6ms/step - loss: 4695.7456 - mae: 4695.7456 - val_loss: 4120.1284 - val_mae: 4120.1284 - lr: 0.0100\n",
            "Epoch 16/1000\n",
            "31/31 [==============================] - 0s 6ms/step - loss: 3822.4460 - mae: 3822.4460 - val_loss: 3591.1484 - val_mae: 3591.1484 - lr: 0.0100\n",
            "Epoch 17/1000\n",
            "31/31 [==============================] - 0s 5ms/step - loss: 3544.8821 - mae: 3544.8821 - val_loss: 3463.7646 - val_mae: 3463.7646 - lr: 0.0100\n",
            "Epoch 18/1000\n",
            "31/31 [==============================] - 0s 6ms/step - loss: 3499.9829 - mae: 3499.9829 - val_loss: 3388.2153 - val_mae: 3388.2153 - lr: 0.0100\n",
            "Epoch 19/1000\n",
            "31/31 [==============================] - 0s 7ms/step - loss: 3468.0581 - mae: 3468.0581 - val_loss: 3292.9207 - val_mae: 3292.9207 - lr: 0.0100\n",
            "Epoch 20/1000\n",
            "31/31 [==============================] - 0s 6ms/step - loss: 3421.9817 - mae: 3421.9817 - val_loss: 3235.3540 - val_mae: 3235.3540 - lr: 0.0100\n",
            "Epoch 21/1000\n",
            "31/31 [==============================] - 0s 6ms/step - loss: 3382.0684 - mae: 3382.0684 - val_loss: 3158.9185 - val_mae: 3158.9185 - lr: 0.0100\n",
            "Epoch 22/1000\n",
            "31/31 [==============================] - 0s 8ms/step - loss: 3321.8215 - mae: 3321.8215 - val_loss: 3049.0459 - val_mae: 3049.0459 - lr: 0.0100\n",
            "Epoch 23/1000\n",
            "31/31 [==============================] - 0s 6ms/step - loss: 3290.8215 - mae: 3290.8215 - val_loss: 2954.6233 - val_mae: 2954.6233 - lr: 0.0100\n",
            "Epoch 24/1000\n",
            "31/31 [==============================] - 0s 8ms/step - loss: 3187.3188 - mae: 3187.3188 - val_loss: 2784.7124 - val_mae: 2784.7124 - lr: 0.0100\n",
            "Epoch 25/1000\n",
            "31/31 [==============================] - 0s 5ms/step - loss: 3086.2222 - mae: 3086.2222 - val_loss: 2605.1133 - val_mae: 2605.1133 - lr: 0.0100\n",
            "Epoch 26/1000\n",
            "31/31 [==============================] - 0s 4ms/step - loss: 3008.6592 - mae: 3008.6592 - val_loss: 2582.6980 - val_mae: 2582.6980 - lr: 0.0100\n",
            "Epoch 27/1000\n",
            "31/31 [==============================] - 0s 5ms/step - loss: 2962.6392 - mae: 2962.6392 - val_loss: 2526.9741 - val_mae: 2526.9741 - lr: 0.0100\n",
            "Epoch 28/1000\n",
            "31/31 [==============================] - 0s 6ms/step - loss: 2908.6750 - mae: 2908.6750 - val_loss: 2494.4817 - val_mae: 2494.4817 - lr: 0.0100\n",
            "Epoch 29/1000\n",
            "31/31 [==============================] - 0s 5ms/step - loss: 2866.2712 - mae: 2866.2712 - val_loss: 2447.8867 - val_mae: 2447.8867 - lr: 0.0100\n",
            "Epoch 30/1000\n",
            "31/31 [==============================] - 0s 5ms/step - loss: 2809.0771 - mae: 2809.0771 - val_loss: 2431.7905 - val_mae: 2431.7905 - lr: 0.0100\n",
            "Epoch 31/1000\n",
            "31/31 [==============================] - 0s 5ms/step - loss: 2778.3943 - mae: 2778.3943 - val_loss: 2438.8198 - val_mae: 2438.8198 - lr: 0.0100\n",
            "Epoch 32/1000\n",
            "31/31 [==============================] - 0s 6ms/step - loss: 2734.7400 - mae: 2734.7400 - val_loss: 2390.4626 - val_mae: 2390.4626 - lr: 0.0100\n",
            "Epoch 33/1000\n",
            "31/31 [==============================] - 0s 8ms/step - loss: 2674.7261 - mae: 2674.7261 - val_loss: 2351.1099 - val_mae: 2351.1099 - lr: 0.0100\n",
            "Epoch 34/1000\n",
            "31/31 [==============================] - 0s 6ms/step - loss: 2637.5469 - mae: 2637.5469 - val_loss: 2346.2883 - val_mae: 2346.2883 - lr: 0.0100\n",
            "Epoch 35/1000\n",
            "31/31 [==============================] - 0s 6ms/step - loss: 2583.4080 - mae: 2583.4080 - val_loss: 2272.1221 - val_mae: 2272.1221 - lr: 0.0100\n",
            "Epoch 36/1000\n",
            "31/31 [==============================] - 0s 6ms/step - loss: 2548.4026 - mae: 2548.4026 - val_loss: 2301.3840 - val_mae: 2301.3840 - lr: 0.0100\n",
            "Epoch 37/1000\n",
            "31/31 [==============================] - 0s 6ms/step - loss: 2513.9204 - mae: 2513.9204 - val_loss: 2280.4519 - val_mae: 2280.4519 - lr: 0.0100\n",
            "Epoch 38/1000\n",
            "31/31 [==============================] - 0s 7ms/step - loss: 2483.4111 - mae: 2483.4111 - val_loss: 2241.1990 - val_mae: 2241.1990 - lr: 0.0100\n",
            "Epoch 39/1000\n",
            "31/31 [==============================] - 0s 11ms/step - loss: 2435.3506 - mae: 2435.3506 - val_loss: 2223.7053 - val_mae: 2223.7053 - lr: 0.0100\n",
            "Epoch 40/1000\n",
            "31/31 [==============================] - 0s 6ms/step - loss: 2409.1331 - mae: 2409.1331 - val_loss: 2188.4968 - val_mae: 2188.4968 - lr: 0.0100\n",
            "Epoch 41/1000\n",
            "31/31 [==============================] - 0s 5ms/step - loss: 2382.3455 - mae: 2382.3455 - val_loss: 2180.7629 - val_mae: 2180.7629 - lr: 0.0100\n",
            "Epoch 42/1000\n",
            "31/31 [==============================] - 0s 9ms/step - loss: 2361.7739 - mae: 2361.7739 - val_loss: 2150.2661 - val_mae: 2150.2661 - lr: 0.0100\n",
            "Epoch 43/1000\n",
            "31/31 [==============================] - 0s 5ms/step - loss: 2339.2932 - mae: 2339.2932 - val_loss: 2129.4690 - val_mae: 2129.4690 - lr: 0.0100\n",
            "Epoch 44/1000\n",
            "31/31 [==============================] - 0s 6ms/step - loss: 2304.1760 - mae: 2304.1760 - val_loss: 2110.5022 - val_mae: 2110.5022 - lr: 0.0100\n",
            "Epoch 45/1000\n",
            "31/31 [==============================] - 0s 8ms/step - loss: 2288.9019 - mae: 2288.9019 - val_loss: 2105.8328 - val_mae: 2105.8328 - lr: 0.0100\n",
            "Epoch 46/1000\n",
            "31/31 [==============================] - 0s 11ms/step - loss: 2264.0688 - mae: 2264.0688 - val_loss: 2131.5361 - val_mae: 2131.5361 - lr: 0.0100\n",
            "Epoch 47/1000\n",
            "31/31 [==============================] - 0s 6ms/step - loss: 2238.9028 - mae: 2238.9028 - val_loss: 2069.5413 - val_mae: 2069.5413 - lr: 0.0100\n",
            "Epoch 48/1000\n",
            "31/31 [==============================] - 0s 7ms/step - loss: 2222.7673 - mae: 2222.7673 - val_loss: 2075.2727 - val_mae: 2075.2727 - lr: 0.0100\n",
            "Epoch 49/1000\n",
            "31/31 [==============================] - 0s 5ms/step - loss: 2208.4783 - mae: 2208.4783 - val_loss: 2039.1434 - val_mae: 2039.1434 - lr: 0.0100\n",
            "Epoch 50/1000\n",
            "31/31 [==============================] - 0s 4ms/step - loss: 2189.2915 - mae: 2189.2915 - val_loss: 2038.0466 - val_mae: 2038.0466 - lr: 0.0100\n",
            "Epoch 51/1000\n",
            "31/31 [==============================] - 0s 5ms/step - loss: 2161.4526 - mae: 2161.4526 - val_loss: 2040.2916 - val_mae: 2040.2916 - lr: 0.0100\n",
            "Epoch 52/1000\n",
            "31/31 [==============================] - 0s 9ms/step - loss: 2155.7561 - mae: 2155.7561 - val_loss: 2032.4137 - val_mae: 2032.4138 - lr: 0.0100\n",
            "Epoch 53/1000\n",
            "31/31 [==============================] - 0s 8ms/step - loss: 2151.1294 - mae: 2151.1294 - val_loss: 2014.0490 - val_mae: 2014.0490 - lr: 0.0100\n",
            "Epoch 54/1000\n",
            "31/31 [==============================] - 0s 8ms/step - loss: 2118.7988 - mae: 2118.7988 - val_loss: 1996.4209 - val_mae: 1996.4209 - lr: 0.0100\n",
            "Epoch 55/1000\n",
            "31/31 [==============================] - 0s 6ms/step - loss: 2103.5051 - mae: 2103.5051 - val_loss: 1979.6549 - val_mae: 1979.6549 - lr: 0.0100\n",
            "Epoch 56/1000\n",
            "31/31 [==============================] - 0s 8ms/step - loss: 2092.3735 - mae: 2092.3735 - val_loss: 1958.6976 - val_mae: 1958.6976 - lr: 0.0100\n",
            "Epoch 57/1000\n",
            "31/31 [==============================] - 0s 9ms/step - loss: 2088.5586 - mae: 2088.5586 - val_loss: 1964.9832 - val_mae: 1964.9832 - lr: 0.0100\n",
            "Epoch 58/1000\n",
            "31/31 [==============================] - 0s 6ms/step - loss: 2080.6587 - mae: 2080.6587 - val_loss: 1946.2603 - val_mae: 1946.2603 - lr: 0.0100\n",
            "Epoch 59/1000\n",
            "31/31 [==============================] - 0s 6ms/step - loss: 2056.2129 - mae: 2056.2129 - val_loss: 1932.6178 - val_mae: 1932.6178 - lr: 0.0100\n",
            "Epoch 60/1000\n",
            "31/31 [==============================] - 0s 6ms/step - loss: 2043.2256 - mae: 2043.2256 - val_loss: 1958.2889 - val_mae: 1958.2889 - lr: 0.0100\n",
            "Epoch 61/1000\n",
            "31/31 [==============================] - 0s 5ms/step - loss: 2057.9934 - mae: 2057.9934 - val_loss: 1938.8738 - val_mae: 1938.8738 - lr: 0.0100\n",
            "Epoch 62/1000\n",
            "31/31 [==============================] - 0s 8ms/step - loss: 2043.1993 - mae: 2043.1993 - val_loss: 1927.3542 - val_mae: 1927.3542 - lr: 0.0100\n",
            "Epoch 63/1000\n",
            "31/31 [==============================] - 0s 6ms/step - loss: 2034.4338 - mae: 2034.4338 - val_loss: 1940.7343 - val_mae: 1940.7343 - lr: 0.0100\n",
            "Epoch 64/1000\n",
            "31/31 [==============================] - 0s 7ms/step - loss: 2031.4093 - mae: 2031.4093 - val_loss: 1939.8383 - val_mae: 1939.8383 - lr: 0.0100\n",
            "Epoch 65/1000\n",
            "31/31 [==============================] - 0s 5ms/step - loss: 2028.3165 - mae: 2028.3165 - val_loss: 1912.3141 - val_mae: 1912.3141 - lr: 0.0100\n",
            "Epoch 66/1000\n",
            "31/31 [==============================] - 0s 7ms/step - loss: 2021.5690 - mae: 2021.5690 - val_loss: 1891.5016 - val_mae: 1891.5016 - lr: 0.0100\n",
            "Epoch 67/1000\n",
            "31/31 [==============================] - 0s 13ms/step - loss: 2007.6554 - mae: 2007.6554 - val_loss: 1885.1125 - val_mae: 1885.1125 - lr: 0.0100\n",
            "Epoch 68/1000\n",
            "31/31 [==============================] - 0s 7ms/step - loss: 1999.4586 - mae: 1999.4586 - val_loss: 1900.9927 - val_mae: 1900.9927 - lr: 0.0100\n",
            "Epoch 69/1000\n",
            "31/31 [==============================] - 0s 8ms/step - loss: 1991.2787 - mae: 1991.2787 - val_loss: 1895.2189 - val_mae: 1895.2189 - lr: 0.0100\n",
            "Epoch 70/1000\n",
            "31/31 [==============================] - 0s 7ms/step - loss: 1980.1816 - mae: 1980.1816 - val_loss: 1918.5432 - val_mae: 1918.5432 - lr: 0.0100\n",
            "Epoch 71/1000\n",
            "31/31 [==============================] - 0s 6ms/step - loss: 1973.1543 - mae: 1973.1543 - val_loss: 1873.9316 - val_mae: 1873.9316 - lr: 0.0100\n",
            "Epoch 72/1000\n",
            "31/31 [==============================] - 0s 7ms/step - loss: 1977.3790 - mae: 1977.3790 - val_loss: 1928.4072 - val_mae: 1928.4072 - lr: 0.0100\n",
            "Epoch 73/1000\n",
            "31/31 [==============================] - 0s 6ms/step - loss: 1980.3352 - mae: 1980.3352 - val_loss: 1896.9474 - val_mae: 1896.9474 - lr: 0.0100\n",
            "Epoch 74/1000\n",
            "31/31 [==============================] - 0s 6ms/step - loss: 1967.6819 - mae: 1967.6819 - val_loss: 1873.2010 - val_mae: 1873.2010 - lr: 0.0100\n",
            "Epoch 75/1000\n",
            "31/31 [==============================] - 0s 11ms/step - loss: 1962.9902 - mae: 1962.9902 - val_loss: 1866.4908 - val_mae: 1866.4908 - lr: 0.0100\n",
            "Epoch 76/1000\n",
            "31/31 [==============================] - 0s 7ms/step - loss: 1966.2550 - mae: 1966.2550 - val_loss: 1857.6451 - val_mae: 1857.6451 - lr: 0.0100\n",
            "Epoch 77/1000\n",
            "31/31 [==============================] - 0s 8ms/step - loss: 1953.6215 - mae: 1953.6215 - val_loss: 1860.3782 - val_mae: 1860.3782 - lr: 0.0100\n",
            "Epoch 78/1000\n",
            "31/31 [==============================] - 0s 6ms/step - loss: 1956.8253 - mae: 1956.8253 - val_loss: 1837.2388 - val_mae: 1837.2388 - lr: 0.0100\n",
            "Epoch 79/1000\n",
            "31/31 [==============================] - 0s 7ms/step - loss: 1949.1442 - mae: 1949.1442 - val_loss: 1899.9412 - val_mae: 1899.9412 - lr: 0.0100\n",
            "Epoch 80/1000\n",
            "31/31 [==============================] - 0s 8ms/step - loss: 1944.2209 - mae: 1944.2209 - val_loss: 1855.2144 - val_mae: 1855.2144 - lr: 0.0100\n",
            "Epoch 81/1000\n",
            "31/31 [==============================] - 0s 6ms/step - loss: 1923.8938 - mae: 1923.8938 - val_loss: 1841.0099 - val_mae: 1841.0099 - lr: 0.0100\n",
            "Epoch 82/1000\n",
            "31/31 [==============================] - 0s 6ms/step - loss: 1939.6185 - mae: 1939.6185 - val_loss: 1868.8588 - val_mae: 1868.8588 - lr: 0.0100\n",
            "Epoch 83/1000\n",
            "31/31 [==============================] - 0s 5ms/step - loss: 1928.4288 - mae: 1928.4288 - val_loss: 1882.4131 - val_mae: 1882.4131 - lr: 0.0100\n",
            "Epoch 84/1000\n",
            "31/31 [==============================] - 0s 7ms/step - loss: 1928.8815 - mae: 1928.8815 - val_loss: 1821.9291 - val_mae: 1821.9291 - lr: 0.0050\n",
            "Epoch 85/1000\n",
            "31/31 [==============================] - 0s 6ms/step - loss: 1912.7249 - mae: 1912.7249 - val_loss: 1819.3418 - val_mae: 1819.3418 - lr: 0.0050\n",
            "Epoch 86/1000\n",
            "31/31 [==============================] - 0s 7ms/step - loss: 1907.1744 - mae: 1907.1744 - val_loss: 1827.1504 - val_mae: 1827.1504 - lr: 0.0050\n",
            "Epoch 87/1000\n",
            "31/31 [==============================] - 0s 6ms/step - loss: 1901.3982 - mae: 1901.3982 - val_loss: 1827.9725 - val_mae: 1827.9725 - lr: 0.0050\n",
            "Epoch 88/1000\n",
            "31/31 [==============================] - 0s 7ms/step - loss: 1906.6017 - mae: 1906.6017 - val_loss: 1825.5116 - val_mae: 1825.5116 - lr: 0.0050\n",
            "Epoch 89/1000\n",
            "31/31 [==============================] - 0s 4ms/step - loss: 1898.8732 - mae: 1898.8732 - val_loss: 1821.8698 - val_mae: 1821.8698 - lr: 0.0050\n",
            "Epoch 90/1000\n",
            "31/31 [==============================] - 0s 3ms/step - loss: 1895.5626 - mae: 1895.5626 - val_loss: 1832.5283 - val_mae: 1832.5283 - lr: 0.0050\n",
            "Epoch 91/1000\n",
            "31/31 [==============================] - 0s 3ms/step - loss: 1893.5970 - mae: 1893.5970 - val_loss: 1825.1569 - val_mae: 1825.1569 - lr: 0.0025\n",
            "Epoch 92/1000\n",
            "31/31 [==============================] - 0s 3ms/step - loss: 1888.6976 - mae: 1888.6976 - val_loss: 1825.5759 - val_mae: 1825.5759 - lr: 0.0025\n",
            "Epoch 93/1000\n",
            "31/31 [==============================] - 0s 3ms/step - loss: 1888.5148 - mae: 1888.5148 - val_loss: 1827.0496 - val_mae: 1827.0496 - lr: 0.0025\n",
            "Epoch 94/1000\n",
            "31/31 [==============================] - 0s 3ms/step - loss: 1891.4133 - mae: 1891.4133 - val_loss: 1819.5415 - val_mae: 1819.5415 - lr: 0.0025\n",
            "Epoch 95/1000\n",
            "31/31 [==============================] - 0s 3ms/step - loss: 1883.5540 - mae: 1883.5540 - val_loss: 1826.6825 - val_mae: 1826.6825 - lr: 0.0025\n"
          ]
        }
      ]
    },
    {
      "cell_type": "code",
      "source": [
        "print(history.history.keys())\n",
        "#pd.DataFrame(history.history).plot()\n",
        "#plt.ylabel(\"loss\")\n",
        "#plt.xlabel(\"epochs\")\n",
        "acc=history.history['mae']\n",
        "val_acc=history.history['val_mae']\n",
        "loss=history.history['loss']\n",
        "val_loss=history.history['val_loss']\n",
        "\n",
        "epochs=range(1,len(acc)+1)"
      ],
      "metadata": {
        "colab": {
          "base_uri": "https://localhost:8080/"
        },
        "id": "ZMKBligM8AUf",
        "outputId": "2520d5dc-c930-4b76-e1fe-22c77b510412"
      },
      "execution_count": 12,
      "outputs": [
        {
          "output_type": "stream",
          "name": "stdout",
          "text": [
            "dict_keys(['loss', 'mae', 'val_loss', 'val_mae', 'lr'])\n"
          ]
        }
      ]
    },
    {
      "cell_type": "code",
      "source": [
        "plt.plot(epochs,loss,'bo',label='Train loss')\n",
        "plt.plot(epochs,val_loss,'g',label='Validation loss')\n",
        "plt.title('Losses')\n",
        "plt.xlabel('Epochs')\n",
        "plt.ylabel('Loss')\n",
        "plt.legend();"
      ],
      "metadata": {
        "colab": {
          "base_uri": "https://localhost:8080/",
          "height": 295
        },
        "id": "-NT4adwU8-v4",
        "outputId": "5147ca33-e166-4529-abfb-4a0677258511"
      },
      "execution_count": 13,
      "outputs": [
        {
          "output_type": "display_data",
          "data": {
            "image/png": "[encoded data removed]",
            "text/plain": [
              "<Figure size 432x288 with 1 Axes>"
            ]
          },
          "metadata": {
            "needs_background": "light"
          }
        }
      ]
    },
    {
      "cell_type": "code",
      "source": [
        "model.evaluate(X_test_enc,y_test)"
      ],
      "metadata": {
        "colab": {
          "base_uri": "https://localhost:8080/"
        },
        "id": "aX4cdKAk50zx",
        "outputId": "cd8825b9-dda5-4622-ca0f-f8e01b631d25"
      },
      "execution_count": 14,
      "outputs": [
        {
          "output_type": "stream",
          "name": "stdout",
          "text": [
            "9/9 [==============================] - 0s 2ms/step - loss: 1699.8396 - mae: 1699.8396\n"
          ]
        },
        {
          "output_type": "execute_result",
          "data": {
            "text/plain": [
              "[1699.839599609375, 1699.839599609375]"
            ]
          },
          "metadata": {},
          "execution_count": 14
        }
      ]
    },
    {
      "cell_type": "code",
      "source": [
        "#plt.scatter(X,y)\n",
        "#plt.show"
      ],
      "metadata": {
        "id": "nE3vvUUfLLiQ"
      },
      "execution_count": 15,
      "outputs": []
    },
    {
      "cell_type": "markdown",
      "source": [
        "### Prepare 3 sets\n",
        "\n",
        "* train -70-80 %\n",
        "* val 10-15 %\n",
        "* test 10-15 %\n"
      ],
      "metadata": {
        "id": "PrRVd4eoLh4Y"
      }
    },
    {
      "cell_type": "code",
      "source": [
        "### How many samples we have\n",
        "#print(len(X))"
      ],
      "metadata": {
        "id": "TFyfkR6FX037"
      },
      "execution_count": 16,
      "outputs": []
    },
    {
      "cell_type": "code",
      "source": [
        "def split_dataset(X,y,val_size=0.2,test_size=0.1,shuffle=True,random_state=42):\n",
        "  N=len(X)\n",
        "  train_size=1.0-test_size-val_size\n",
        "  N_train=N*train_size\n",
        "  N_val=N*val_size\n",
        "  N_test=N*test_size\n",
        "\n",
        "  X_train, X_test, y_train, y_test = train_test_split(X, y, test_size=test_size, random_state=random_state,shuffle=shuffle)\n",
        "  \n",
        "  corrected_val_size=N_val/(N_val+N_train) # corrected value is scaled cause of the first split\n",
        "\n",
        "  X_train, X_val, y_train, y_val = train_test_split(X_train, y_train, test_size=corrected_val_size, random_state=random_state,shuffle=shuffle)\n",
        "\n",
        "  return X_train,X_val, X_test, y_train, y_val, y_test\n"
      ],
      "metadata": {
        "id": "2YgmAmmvUQCp"
      },
      "execution_count": 17,
      "outputs": []
    },
    {
      "cell_type": "code",
      "source": [
        "def plot_predictions(X_test=X_test,y_test=y_test, y_pred=y_pred):\n",
        "  plt.figure(figsize=(10,7))\n",
        "\n",
        "\n",
        "  # Plot training data in blue\n",
        "  plt.scatter(X_test,y_test,c='g',label='Test data')\n",
        "\n",
        "  # Plot training data in blue\n",
        "  plt.scatter(X_test,y_pred,c='r',label='Predicted data')\n",
        "  plt.legend();"
      ],
      "metadata": {
        "id": "_yZ04IOtsGxS",
        "colab": {
          "base_uri": "https://localhost:8080/",
          "height": 247
        },
        "outputId": "c9cbd282-5cb2-45b0-e310-e675451d69c5"
      },
      "execution_count": 18,
      "outputs": [
        {
          "output_type": "error",
          "ename": "NameError",
          "evalue": "ignored",
          "traceback": [
            "\u001b[0;31m---------------------------------------------------------------------------\u001b[0m",
            "\u001b[0;31mNameError\u001b[0m                                 Traceback (most recent call last)",
            "\u001b[0;32m<ipython-input-18-6b71ab8ebed5>\u001b[0m in \u001b[0;36m<module>\u001b[0;34m()\u001b[0m\n\u001b[0;32m----> 1\u001b[0;31m \u001b[0;32mdef\u001b[0m \u001b[0mplot_predictions\u001b[0m\u001b[0;34m(\u001b[0m\u001b[0mX_test\u001b[0m\u001b[0;34m=\u001b[0m\u001b[0mX_test\u001b[0m\u001b[0;34m,\u001b[0m\u001b[0my_test\u001b[0m\u001b[0;34m=\u001b[0m\u001b[0my_test\u001b[0m\u001b[0;34m,\u001b[0m \u001b[0my_pred\u001b[0m\u001b[0;34m=\u001b[0m\u001b[0my_pred\u001b[0m\u001b[0;34m)\u001b[0m\u001b[0;34m:\u001b[0m\u001b[0;34m\u001b[0m\u001b[0;34m\u001b[0m\u001b[0m\n\u001b[0m\u001b[1;32m      2\u001b[0m   \u001b[0mplt\u001b[0m\u001b[0;34m.\u001b[0m\u001b[0mfigure\u001b[0m\u001b[0;34m(\u001b[0m\u001b[0mfigsize\u001b[0m\u001b[0;34m=\u001b[0m\u001b[0;34m(\u001b[0m\u001b[0;36m10\u001b[0m\u001b[0;34m,\u001b[0m\u001b[0;36m7\u001b[0m\u001b[0;34m)\u001b[0m\u001b[0;34m)\u001b[0m\u001b[0;34m\u001b[0m\u001b[0;34m\u001b[0m\u001b[0m\n\u001b[1;32m      3\u001b[0m \u001b[0;34m\u001b[0m\u001b[0m\n\u001b[1;32m      4\u001b[0m \u001b[0;34m\u001b[0m\u001b[0m\n\u001b[1;32m      5\u001b[0m   \u001b[0;31m# Plot training data in blue\u001b[0m\u001b[0;34m\u001b[0m\u001b[0;34m\u001b[0m\u001b[0;34m\u001b[0m\u001b[0m\n",
            "\u001b[0;31mNameError\u001b[0m: name 'y_pred' is not defined"
          ]
        }
      ]
    },
    {
      "cell_type": "code",
      "source": [
        "\"\"\"\n",
        "X_train,X_val, X_test, y_train, y_val, y_test=split_dataset(X,y,val_size=0.2,test_size=0.1,shuffle=True,random_state=42)\n",
        "print(len(X_train))\n",
        "print(len(X_val))\n",
        "print(len(X_test))\n",
        "\"\"\""
      ],
      "metadata": {
        "id": "cgb1jGjkOs7h"
      },
      "execution_count": null,
      "outputs": []
    },
    {
      "cell_type": "code",
      "source": [
        "\"\"\"\n",
        "# Visualise the data\n",
        "plt.figure(figsize=(10,7))\n",
        "plt.scatter(X_train, y_train,c='b', label=\"Training data\")\n",
        "plt.scatter(X_test, y_test,c='r', label=\"Testing data\")\n",
        "# Show a legend\n",
        "plt.legend()\n",
        "\"\"\""
      ],
      "metadata": {
        "id": "DH8eneWMfK6c"
      },
      "execution_count": null,
      "outputs": []
    },
    {
      "cell_type": "code",
      "source": [
        "\"\"\"\n",
        "model=tf.keras.Sequential(name='Model1')\n",
        "model.add(tf.keras.layers.Dense(5,input_shape=[1],name='Dense1'))\n",
        "model.add(tf.keras.layers.Dense(1,name='Output'))\n",
        "model.summary()\n",
        "\"\"\""
      ],
      "metadata": {
        "id": "CvPQMJa8guFy"
      },
      "execution_count": null,
      "outputs": []
    },
    {
      "cell_type": "code",
      "source": [
        "\"\"\"\n",
        "from tensorflow.keras.utils import plot_model\n",
        "plot_model(model,show_shapes=True)\n",
        "\"\"\""
      ],
      "metadata": {
        "id": "3OQeEk7VpP1M"
      },
      "execution_count": null,
      "outputs": []
    },
    {
      "cell_type": "code",
      "source": [
        "\"\"\"\n",
        "model.compile(loss=tf.keras.losses.mae,\n",
        "              optimizer=tf.keras.optimizers.Adam(lr=0.01),\n",
        "              metrics=['mae'])\n",
        "\"\"\""
      ],
      "metadata": {
        "id": "bfM-QGdmg8Np"
      },
      "execution_count": null,
      "outputs": []
    },
    {
      "cell_type": "code",
      "source": [
        "\"\"\"\n",
        "model.fit(x=X_train,y=y_train,\n",
        "          batch_size=None,\n",
        "          epochs=100)\n",
        "\"\"\""
      ],
      "metadata": {
        "id": "NQLslBowhXf5"
      },
      "execution_count": null,
      "outputs": []
    },
    {
      "cell_type": "code",
      "source": [
        "y_pred=model.predict(x=X_test)"
      ],
      "metadata": {
        "id": "Catl63z9rh2r"
      },
      "execution_count": null,
      "outputs": []
    },
    {
      "cell_type": "code",
      "source": [
        "plot_predictions(X_test=X_test,y_test=y_test, y_pred=y_pred)"
      ],
      "metadata": {
        "id": "fNhBUNp4t1I-"
      },
      "execution_count": null,
      "outputs": []
    },
    {
      "cell_type": "code",
      "source": [
        "# evaluate model\n",
        "model.evaluate(X_test,y_test)"
      ],
      "metadata": {
        "id": "Tc5nx6-QxZK7"
      },
      "execution_count": null,
      "outputs": []
    }
  ]
}